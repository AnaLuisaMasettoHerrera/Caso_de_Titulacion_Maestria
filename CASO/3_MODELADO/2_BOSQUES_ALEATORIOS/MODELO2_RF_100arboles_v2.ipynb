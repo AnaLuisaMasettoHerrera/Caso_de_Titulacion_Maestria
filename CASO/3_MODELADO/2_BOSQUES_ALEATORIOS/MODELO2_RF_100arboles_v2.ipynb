{
 "cells": [
  {
   "cell_type": "markdown",
   "metadata": {
    "collapsed": true
   },
   "source": [
    "\n",
    "# <font color='darkblue'> MODELO 2: BOSQUE ALEATORIO (100 ÁRBOLES) </font>"
   ]
  },
  {
   "cell_type": "markdown",
   "metadata": {},
   "source": [
    "# <font color='darkblue'> --------------------.--------------------.--------------------.--------------------.--------------------.--------------------. </font>"
   ]
  },
  {
   "cell_type": "markdown",
   "metadata": {},
   "source": [
    "# <font color='blue'> A. Leer los Datos y hacer últimos Ajustes </font>"
   ]
  },
  {
   "cell_type": "markdown",
   "metadata": {},
   "source": [
    "### 1. Cargar datos"
   ]
  },
  {
   "cell_type": "code",
   "execution_count": 1,
   "metadata": {},
   "outputs": [],
   "source": [
    "import types\n",
    "import pandas as pd\n",
    "from botocore.client import Config\n",
    "import ibm_boto3\n",
    "\n",
    "def __iter__(self): return 0\n",
    "\n",
    "# Credenciales\n",
    "\n",
    "datos_modelo = pd.read_csv(body)"
   ]
  },
  {
   "cell_type": "code",
   "execution_count": 2,
   "metadata": {},
   "outputs": [
    {
     "data": {
      "text/plain": [
       "(8685950, 39)"
      ]
     },
     "execution_count": 2,
     "metadata": {},
     "output_type": "execute_result"
    }
   ],
   "source": [
    "datos_modelo.shape"
   ]
  },
  {
   "cell_type": "code",
   "execution_count": 3,
   "metadata": {},
   "outputs": [
    {
     "data": {
      "text/html": [
       "<div>\n",
       "<style scoped>\n",
       "    .dataframe tbody tr th:only-of-type {\n",
       "        vertical-align: middle;\n",
       "    }\n",
       "\n",
       "    .dataframe tbody tr th {\n",
       "        vertical-align: top;\n",
       "    }\n",
       "\n",
       "    .dataframe thead th {\n",
       "        text-align: right;\n",
       "    }\n",
       "</style>\n",
       "<table border=\"1\" class=\"dataframe\">\n",
       "  <thead>\n",
       "    <tr style=\"text-align: right;\">\n",
       "      <th></th>\n",
       "      <th>tiendaID</th>\n",
       "      <th>marcaID</th>\n",
       "      <th>skuID</th>\n",
       "      <th>gammaID</th>\n",
       "      <th>fechaID</th>\n",
       "      <th>ventas_por_mes</th>\n",
       "      <th>variable_y_ventas_del_siguiente_mes</th>\n",
       "      <th>ventas_totales_por_tienda_por_mes</th>\n",
       "      <th>ventas_promedio_por_tienda_por_mes</th>\n",
       "      <th>ventas_totales_por_marca_por_mes</th>\n",
       "      <th>...</th>\n",
       "      <th>lag2mes_ventas_totales_por_sku_por_mes</th>\n",
       "      <th>lag2mes_ventas_promedio_por_sku_por_mes</th>\n",
       "      <th>lag3mes_ventas_totales_por_tienda_por_mes</th>\n",
       "      <th>lag3mes_ventas_promedio_por_tienda_por_mes</th>\n",
       "      <th>lag3mes_ventas_totales_por_marca_por_mes</th>\n",
       "      <th>lag3mes_entas_promedio_por_marca_por_mes</th>\n",
       "      <th>lag3mes_ventas_totales_por_gamma_por_mes</th>\n",
       "      <th>lag3mes_ventas_promedio_por_gamma_por_mes</th>\n",
       "      <th>lag3mes_ventas_totales_por_sku_por_mes</th>\n",
       "      <th>lag3mes_ventas_promedio_por_sku_por_mes</th>\n",
       "    </tr>\n",
       "  </thead>\n",
       "  <tbody>\n",
       "    <tr>\n",
       "      <th>0</th>\n",
       "      <td>1</td>\n",
       "      <td>2</td>\n",
       "      <td>1</td>\n",
       "      <td>1</td>\n",
       "      <td>0</td>\n",
       "      <td>0</td>\n",
       "      <td>0.0</td>\n",
       "      <td>70</td>\n",
       "      <td>1.044776</td>\n",
       "      <td>355</td>\n",
       "      <td>...</td>\n",
       "      <td>1</td>\n",
       "      <td>1.0</td>\n",
       "      <td>70</td>\n",
       "      <td>1.044776</td>\n",
       "      <td>355</td>\n",
       "      <td>1.047198</td>\n",
       "      <td>86507</td>\n",
       "      <td>1.161542</td>\n",
       "      <td>1</td>\n",
       "      <td>1.0</td>\n",
       "    </tr>\n",
       "    <tr>\n",
       "      <th>1</th>\n",
       "      <td>1</td>\n",
       "      <td>2</td>\n",
       "      <td>1</td>\n",
       "      <td>1</td>\n",
       "      <td>1</td>\n",
       "      <td>0</td>\n",
       "      <td>0.0</td>\n",
       "      <td>79</td>\n",
       "      <td>1.128571</td>\n",
       "      <td>379</td>\n",
       "      <td>...</td>\n",
       "      <td>1</td>\n",
       "      <td>1.0</td>\n",
       "      <td>70</td>\n",
       "      <td>1.044776</td>\n",
       "      <td>355</td>\n",
       "      <td>1.047198</td>\n",
       "      <td>86507</td>\n",
       "      <td>1.161542</td>\n",
       "      <td>1</td>\n",
       "      <td>1.0</td>\n",
       "    </tr>\n",
       "    <tr>\n",
       "      <th>2</th>\n",
       "      <td>1</td>\n",
       "      <td>2</td>\n",
       "      <td>1</td>\n",
       "      <td>1</td>\n",
       "      <td>2</td>\n",
       "      <td>0</td>\n",
       "      <td>0.0</td>\n",
       "      <td>87</td>\n",
       "      <td>1.060976</td>\n",
       "      <td>264</td>\n",
       "      <td>...</td>\n",
       "      <td>1</td>\n",
       "      <td>1.0</td>\n",
       "      <td>70</td>\n",
       "      <td>1.044776</td>\n",
       "      <td>355</td>\n",
       "      <td>1.047198</td>\n",
       "      <td>86507</td>\n",
       "      <td>1.161542</td>\n",
       "      <td>1</td>\n",
       "      <td>1.0</td>\n",
       "    </tr>\n",
       "    <tr>\n",
       "      <th>3</th>\n",
       "      <td>1</td>\n",
       "      <td>2</td>\n",
       "      <td>1</td>\n",
       "      <td>1</td>\n",
       "      <td>3</td>\n",
       "      <td>0</td>\n",
       "      <td>0.0</td>\n",
       "      <td>75</td>\n",
       "      <td>1.041667</td>\n",
       "      <td>136</td>\n",
       "      <td>...</td>\n",
       "      <td>1</td>\n",
       "      <td>1.0</td>\n",
       "      <td>70</td>\n",
       "      <td>1.044776</td>\n",
       "      <td>355</td>\n",
       "      <td>1.047198</td>\n",
       "      <td>86507</td>\n",
       "      <td>1.161542</td>\n",
       "      <td>1</td>\n",
       "      <td>1.0</td>\n",
       "    </tr>\n",
       "    <tr>\n",
       "      <th>4</th>\n",
       "      <td>1</td>\n",
       "      <td>2</td>\n",
       "      <td>1</td>\n",
       "      <td>1</td>\n",
       "      <td>4</td>\n",
       "      <td>0</td>\n",
       "      <td>0.0</td>\n",
       "      <td>77</td>\n",
       "      <td>1.026667</td>\n",
       "      <td>86</td>\n",
       "      <td>...</td>\n",
       "      <td>0</td>\n",
       "      <td>0.0</td>\n",
       "      <td>79</td>\n",
       "      <td>1.128571</td>\n",
       "      <td>379</td>\n",
       "      <td>1.046961</td>\n",
       "      <td>92120</td>\n",
       "      <td>1.137986</td>\n",
       "      <td>1</td>\n",
       "      <td>1.0</td>\n",
       "    </tr>\n",
       "  </tbody>\n",
       "</table>\n",
       "<p>5 rows × 39 columns</p>\n",
       "</div>"
      ],
      "text/plain": [
       "   tiendaID  marcaID  skuID  gammaID  fechaID  ventas_por_mes  \\\n",
       "0         1        2      1        1        0               0   \n",
       "1         1        2      1        1        1               0   \n",
       "2         1        2      1        1        2               0   \n",
       "3         1        2      1        1        3               0   \n",
       "4         1        2      1        1        4               0   \n",
       "\n",
       "   variable_y_ventas_del_siguiente_mes  ventas_totales_por_tienda_por_mes  \\\n",
       "0                                  0.0                                 70   \n",
       "1                                  0.0                                 79   \n",
       "2                                  0.0                                 87   \n",
       "3                                  0.0                                 75   \n",
       "4                                  0.0                                 77   \n",
       "\n",
       "   ventas_promedio_por_tienda_por_mes  ventas_totales_por_marca_por_mes  ...  \\\n",
       "0                            1.044776                               355  ...   \n",
       "1                            1.128571                               379  ...   \n",
       "2                            1.060976                               264  ...   \n",
       "3                            1.041667                               136  ...   \n",
       "4                            1.026667                                86  ...   \n",
       "\n",
       "   lag2mes_ventas_totales_por_sku_por_mes  \\\n",
       "0                                       1   \n",
       "1                                       1   \n",
       "2                                       1   \n",
       "3                                       1   \n",
       "4                                       0   \n",
       "\n",
       "   lag2mes_ventas_promedio_por_sku_por_mes  \\\n",
       "0                                      1.0   \n",
       "1                                      1.0   \n",
       "2                                      1.0   \n",
       "3                                      1.0   \n",
       "4                                      0.0   \n",
       "\n",
       "   lag3mes_ventas_totales_por_tienda_por_mes  \\\n",
       "0                                         70   \n",
       "1                                         70   \n",
       "2                                         70   \n",
       "3                                         70   \n",
       "4                                         79   \n",
       "\n",
       "   lag3mes_ventas_promedio_por_tienda_por_mes  \\\n",
       "0                                    1.044776   \n",
       "1                                    1.044776   \n",
       "2                                    1.044776   \n",
       "3                                    1.044776   \n",
       "4                                    1.128571   \n",
       "\n",
       "   lag3mes_ventas_totales_por_marca_por_mes  \\\n",
       "0                                       355   \n",
       "1                                       355   \n",
       "2                                       355   \n",
       "3                                       355   \n",
       "4                                       379   \n",
       "\n",
       "   lag3mes_entas_promedio_por_marca_por_mes  \\\n",
       "0                                  1.047198   \n",
       "1                                  1.047198   \n",
       "2                                  1.047198   \n",
       "3                                  1.047198   \n",
       "4                                  1.046961   \n",
       "\n",
       "   lag3mes_ventas_totales_por_gamma_por_mes  \\\n",
       "0                                     86507   \n",
       "1                                     86507   \n",
       "2                                     86507   \n",
       "3                                     86507   \n",
       "4                                     92120   \n",
       "\n",
       "   lag3mes_ventas_promedio_por_gamma_por_mes  \\\n",
       "0                                   1.161542   \n",
       "1                                   1.161542   \n",
       "2                                   1.161542   \n",
       "3                                   1.161542   \n",
       "4                                   1.137986   \n",
       "\n",
       "   lag3mes_ventas_totales_por_sku_por_mes  \\\n",
       "0                                       1   \n",
       "1                                       1   \n",
       "2                                       1   \n",
       "3                                       1   \n",
       "4                                       1   \n",
       "\n",
       "   lag3mes_ventas_promedio_por_sku_por_mes  \n",
       "0                                      1.0  \n",
       "1                                      1.0  \n",
       "2                                      1.0  \n",
       "3                                      1.0  \n",
       "4                                      1.0  \n",
       "\n",
       "[5 rows x 39 columns]"
      ]
     },
     "execution_count": 3,
     "metadata": {},
     "output_type": "execute_result"
    }
   ],
   "source": [
    "datos_modelo.head(5)"
   ]
  },
  {
   "cell_type": "markdown",
   "metadata": {},
   "source": [
    "### 2. Quitar NA del último mes por que es información que no se va a utilizar (no se tiene información del mes de abril)"
   ]
  },
  {
   "cell_type": "code",
   "execution_count": 4,
   "metadata": {},
   "outputs": [],
   "source": [
    "datos_modelo = datos_modelo[datos_modelo.fechaID != 9]"
   ]
  },
  {
   "cell_type": "code",
   "execution_count": 5,
   "metadata": {},
   "outputs": [
    {
     "data": {
      "text/plain": [
       "(7817355, 39)"
      ]
     },
     "execution_count": 5,
     "metadata": {},
     "output_type": "execute_result"
    }
   ],
   "source": [
    "datos_modelo.shape"
   ]
  },
  {
   "cell_type": "markdown",
   "metadata": {},
   "source": [
    "### 3. Quitar columnas de gammaID y marcaID porque son características que el SKUID trae implícitas"
   ]
  },
  {
   "cell_type": "code",
   "execution_count": 6,
   "metadata": {},
   "outputs": [],
   "source": [
    "datos_modelo = datos_modelo.drop(['marcaID', 'gammaID'], axis=1)"
   ]
  },
  {
   "cell_type": "code",
   "execution_count": 7,
   "metadata": {},
   "outputs": [
    {
     "data": {
      "text/plain": [
       "(7817355, 37)"
      ]
     },
     "execution_count": 7,
     "metadata": {},
     "output_type": "execute_result"
    }
   ],
   "source": [
    "datos_modelo.shape"
   ]
  },
  {
   "cell_type": "markdown",
   "metadata": {},
   "source": [
    "# <font color='darkblue'> --------------------.--------------------.--------------------.--------------------.--------------------.--------------------. </font>"
   ]
  },
  {
   "cell_type": "markdown",
   "metadata": {},
   "source": [
    "# <font color='blue'> B. Hacer Divisiones para Cross Validation (8 Conjuntos de Entrenamiento - 8 Conjuntos de Prueba) </font>"
   ]
  },
  {
   "cell_type": "code",
   "execution_count": 8,
   "metadata": {},
   "outputs": [
    {
     "data": {
      "text/plain": [
       "array([0, 1, 2, 3, 4, 5, 6, 7, 8])"
      ]
     },
     "execution_count": 8,
     "metadata": {},
     "output_type": "execute_result"
    }
   ],
   "source": [
    "#División periódica\n",
    "mes = datos_modelo.fechaID.unique() #solo considera 9 periodos de tiempo\n",
    "mes"
   ]
  },
  {
   "cell_type": "code",
   "execution_count": 9,
   "metadata": {},
   "outputs": [
    {
     "data": {
      "text/plain": [
       "2"
      ]
     },
     "execution_count": 9,
     "metadata": {},
     "output_type": "execute_result"
    }
   ],
   "source": [
    "#ejemplo\n",
    "mes[2]"
   ]
  },
  {
   "cell_type": "markdown",
   "metadata": {},
   "source": [
    "# <font color='darkblue'>-.-.-.-.-.-.-.-.-.-.-.-.-.-.-.-.-.-.-.-.-.-.-.-.-.-.-.-.-.-.-.-.-.-.-.-..-.-.-.-.-.-.-.-.-.-.-.-.-..-.-.-.-.-.-.-.-.-.-.-.-.-..-.-.-.-.-.-.-.-.-.-.-.-.-.-.-.-.- </font>"
   ]
  },
  {
   "cell_type": "markdown",
   "metadata": {},
   "source": [
    "## 1. Primera división: \n",
    "#### Entrenamiento: fechaID=0 (mes junio) - y: ventas julio\n",
    "#### Prueba: fechaID=1 (mes julio) - y:ventas agosto"
   ]
  },
  {
   "cell_type": "markdown",
   "metadata": {},
   "source": [
    "##### 1. Extraer de los datos los conjuntos de entrenamiento y prueba "
   ]
  },
  {
   "cell_type": "code",
   "execution_count": 10,
   "metadata": {},
   "outputs": [
    {
     "name": "stdout",
     "output_type": "stream",
     "text": [
      "Entrenar con el mes de Junio cuyo índice es: 0\n",
      "Probar con el mes de Julio cuyo índice es: 1\n"
     ]
    }
   ],
   "source": [
    "#Límites para cortar conjuntos en dattos\n",
    "entrenamiento_junio_para_predecir_julio = mes[0] #Con infomación de junio quiero predecir julio (entrenamiento)\n",
    "prueba_julio_para_predecir_en_agosto = mes[1] #Con el modelo anterior quiero predecir agosto (con información de julio)\n",
    "\n",
    "print('Entrenar con el mes de Junio cuyo índice es:', entrenamiento_junio_para_predecir_julio)\n",
    "print('Probar con el mes de Julio cuyo índice es:', prueba_julio_para_predecir_en_agosto)"
   ]
  },
  {
   "cell_type": "code",
   "execution_count": 11,
   "metadata": {},
   "outputs": [
    {
     "data": {
      "text/plain": [
       "(868595, 37)"
      ]
     },
     "execution_count": 11,
     "metadata": {},
     "output_type": "execute_result"
    }
   ],
   "source": [
    "#dividir el archivo en entrenamiento y prueba\n",
    "entrenamiento_1 = datos_modelo[datos_modelo['fechaID']==entrenamiento_junio_para_predecir_julio]\n",
    "#entrenamiento_1.head(2) #tiene puros valores de 0 en fechaID\n",
    "entrenamiento_1.shape #(868595, 37)"
   ]
  },
  {
   "cell_type": "code",
   "execution_count": 12,
   "metadata": {},
   "outputs": [
    {
     "data": {
      "text/plain": [
       "(868595, 37)"
      ]
     },
     "execution_count": 12,
     "metadata": {},
     "output_type": "execute_result"
    }
   ],
   "source": [
    "prueba_1 = datos_modelo[datos_modelo['fechaID']==prueba_julio_para_predecir_en_agosto]\n",
    "#prueba_1.head(2) #tiene puros valores de 1 en fecha ID\n",
    "prueba_1.shape #(868595, 37)"
   ]
  },
  {
   "cell_type": "markdown",
   "metadata": {},
   "source": [
    "#### 2. Generar índices "
   ]
  },
  {
   "cell_type": "code",
   "execution_count": 13,
   "metadata": {},
   "outputs": [
    {
     "data": {
      "text/html": [
       "<div>\n",
       "<style scoped>\n",
       "    .dataframe tbody tr th:only-of-type {\n",
       "        vertical-align: middle;\n",
       "    }\n",
       "\n",
       "    .dataframe tbody tr th {\n",
       "        vertical-align: top;\n",
       "    }\n",
       "\n",
       "    .dataframe thead th {\n",
       "        text-align: right;\n",
       "    }\n",
       "</style>\n",
       "<table border=\"1\" class=\"dataframe\">\n",
       "  <thead>\n",
       "    <tr style=\"text-align: right;\">\n",
       "      <th></th>\n",
       "      <th></th>\n",
       "      <th></th>\n",
       "      <th>ventas_por_mes</th>\n",
       "      <th>variable_y_ventas_del_siguiente_mes</th>\n",
       "      <th>ventas_totales_por_tienda_por_mes</th>\n",
       "      <th>ventas_promedio_por_tienda_por_mes</th>\n",
       "      <th>ventas_totales_por_marca_por_mes</th>\n",
       "      <th>ventas_promedio_por_marca_por_mes</th>\n",
       "      <th>ventas_totales_por_gamma_por_mes</th>\n",
       "      <th>ventas_promedio_por_gamma_por_mes</th>\n",
       "      <th>ventas_totales_por_sku_por_mes</th>\n",
       "      <th>ventas_promedio_por_sku_por_mes</th>\n",
       "      <th>...</th>\n",
       "      <th>lag2mes_ventas_totales_por_sku_por_mes</th>\n",
       "      <th>lag2mes_ventas_promedio_por_sku_por_mes</th>\n",
       "      <th>lag3mes_ventas_totales_por_tienda_por_mes</th>\n",
       "      <th>lag3mes_ventas_promedio_por_tienda_por_mes</th>\n",
       "      <th>lag3mes_ventas_totales_por_marca_por_mes</th>\n",
       "      <th>lag3mes_entas_promedio_por_marca_por_mes</th>\n",
       "      <th>lag3mes_ventas_totales_por_gamma_por_mes</th>\n",
       "      <th>lag3mes_ventas_promedio_por_gamma_por_mes</th>\n",
       "      <th>lag3mes_ventas_totales_por_sku_por_mes</th>\n",
       "      <th>lag3mes_ventas_promedio_por_sku_por_mes</th>\n",
       "    </tr>\n",
       "    <tr>\n",
       "      <th>tiendaID</th>\n",
       "      <th>skuID</th>\n",
       "      <th>fechaID</th>\n",
       "      <th></th>\n",
       "      <th></th>\n",
       "      <th></th>\n",
       "      <th></th>\n",
       "      <th></th>\n",
       "      <th></th>\n",
       "      <th></th>\n",
       "      <th></th>\n",
       "      <th></th>\n",
       "      <th></th>\n",
       "      <th></th>\n",
       "      <th></th>\n",
       "      <th></th>\n",
       "      <th></th>\n",
       "      <th></th>\n",
       "      <th></th>\n",
       "      <th></th>\n",
       "      <th></th>\n",
       "      <th></th>\n",
       "      <th></th>\n",
       "      <th></th>\n",
       "    </tr>\n",
       "  </thead>\n",
       "  <tbody>\n",
       "    <tr>\n",
       "      <th>1</th>\n",
       "      <th>1</th>\n",
       "      <th>0</th>\n",
       "      <td>0</td>\n",
       "      <td>0.0</td>\n",
       "      <td>70</td>\n",
       "      <td>1.044776</td>\n",
       "      <td>355</td>\n",
       "      <td>1.047198</td>\n",
       "      <td>86507</td>\n",
       "      <td>1.161542</td>\n",
       "      <td>1</td>\n",
       "      <td>1.0</td>\n",
       "      <td>...</td>\n",
       "      <td>1</td>\n",
       "      <td>1.0</td>\n",
       "      <td>70</td>\n",
       "      <td>1.044776</td>\n",
       "      <td>355</td>\n",
       "      <td>1.047198</td>\n",
       "      <td>86507</td>\n",
       "      <td>1.161542</td>\n",
       "      <td>1</td>\n",
       "      <td>1.0</td>\n",
       "    </tr>\n",
       "    <tr>\n",
       "      <th>2</th>\n",
       "      <th>1</th>\n",
       "      <th>0</th>\n",
       "      <td>0</td>\n",
       "      <td>0.0</td>\n",
       "      <td>14</td>\n",
       "      <td>1.076923</td>\n",
       "      <td>355</td>\n",
       "      <td>1.047198</td>\n",
       "      <td>86507</td>\n",
       "      <td>1.161542</td>\n",
       "      <td>1</td>\n",
       "      <td>1.0</td>\n",
       "      <td>...</td>\n",
       "      <td>1</td>\n",
       "      <td>1.0</td>\n",
       "      <td>14</td>\n",
       "      <td>1.076923</td>\n",
       "      <td>355</td>\n",
       "      <td>1.047198</td>\n",
       "      <td>86507</td>\n",
       "      <td>1.161542</td>\n",
       "      <td>1</td>\n",
       "      <td>1.0</td>\n",
       "    </tr>\n",
       "  </tbody>\n",
       "</table>\n",
       "<p>2 rows × 34 columns</p>\n",
       "</div>"
      ],
      "text/plain": [
       "                        ventas_por_mes  variable_y_ventas_del_siguiente_mes  \\\n",
       "tiendaID skuID fechaID                                                        \n",
       "1        1     0                     0                                  0.0   \n",
       "2        1     0                     0                                  0.0   \n",
       "\n",
       "                        ventas_totales_por_tienda_por_mes  \\\n",
       "tiendaID skuID fechaID                                      \n",
       "1        1     0                                       70   \n",
       "2        1     0                                       14   \n",
       "\n",
       "                        ventas_promedio_por_tienda_por_mes  \\\n",
       "tiendaID skuID fechaID                                       \n",
       "1        1     0                                  1.044776   \n",
       "2        1     0                                  1.076923   \n",
       "\n",
       "                        ventas_totales_por_marca_por_mes  \\\n",
       "tiendaID skuID fechaID                                     \n",
       "1        1     0                                     355   \n",
       "2        1     0                                     355   \n",
       "\n",
       "                        ventas_promedio_por_marca_por_mes  \\\n",
       "tiendaID skuID fechaID                                      \n",
       "1        1     0                                 1.047198   \n",
       "2        1     0                                 1.047198   \n",
       "\n",
       "                        ventas_totales_por_gamma_por_mes  \\\n",
       "tiendaID skuID fechaID                                     \n",
       "1        1     0                                   86507   \n",
       "2        1     0                                   86507   \n",
       "\n",
       "                        ventas_promedio_por_gamma_por_mes  \\\n",
       "tiendaID skuID fechaID                                      \n",
       "1        1     0                                 1.161542   \n",
       "2        1     0                                 1.161542   \n",
       "\n",
       "                        ventas_totales_por_sku_por_mes  \\\n",
       "tiendaID skuID fechaID                                   \n",
       "1        1     0                                     1   \n",
       "2        1     0                                     1   \n",
       "\n",
       "                        ventas_promedio_por_sku_por_mes  ...  \\\n",
       "tiendaID skuID fechaID                                   ...   \n",
       "1        1     0                                    1.0  ...   \n",
       "2        1     0                                    1.0  ...   \n",
       "\n",
       "                        lag2mes_ventas_totales_por_sku_por_mes  \\\n",
       "tiendaID skuID fechaID                                           \n",
       "1        1     0                                             1   \n",
       "2        1     0                                             1   \n",
       "\n",
       "                        lag2mes_ventas_promedio_por_sku_por_mes  \\\n",
       "tiendaID skuID fechaID                                            \n",
       "1        1     0                                            1.0   \n",
       "2        1     0                                            1.0   \n",
       "\n",
       "                        lag3mes_ventas_totales_por_tienda_por_mes  \\\n",
       "tiendaID skuID fechaID                                              \n",
       "1        1     0                                               70   \n",
       "2        1     0                                               14   \n",
       "\n",
       "                        lag3mes_ventas_promedio_por_tienda_por_mes  \\\n",
       "tiendaID skuID fechaID                                               \n",
       "1        1     0                                          1.044776   \n",
       "2        1     0                                          1.076923   \n",
       "\n",
       "                        lag3mes_ventas_totales_por_marca_por_mes  \\\n",
       "tiendaID skuID fechaID                                             \n",
       "1        1     0                                             355   \n",
       "2        1     0                                             355   \n",
       "\n",
       "                        lag3mes_entas_promedio_por_marca_por_mes  \\\n",
       "tiendaID skuID fechaID                                             \n",
       "1        1     0                                        1.047198   \n",
       "2        1     0                                        1.047198   \n",
       "\n",
       "                        lag3mes_ventas_totales_por_gamma_por_mes  \\\n",
       "tiendaID skuID fechaID                                             \n",
       "1        1     0                                           86507   \n",
       "2        1     0                                           86507   \n",
       "\n",
       "                        lag3mes_ventas_promedio_por_gamma_por_mes  \\\n",
       "tiendaID skuID fechaID                                              \n",
       "1        1     0                                         1.161542   \n",
       "2        1     0                                         1.161542   \n",
       "\n",
       "                        lag3mes_ventas_totales_por_sku_por_mes  \\\n",
       "tiendaID skuID fechaID                                           \n",
       "1        1     0                                             1   \n",
       "2        1     0                                             1   \n",
       "\n",
       "                        lag3mes_ventas_promedio_por_sku_por_mes  \n",
       "tiendaID skuID fechaID                                           \n",
       "1        1     0                                            1.0  \n",
       "2        1     0                                            1.0  \n",
       "\n",
       "[2 rows x 34 columns]"
      ]
     },
     "execution_count": 13,
     "metadata": {},
     "output_type": "execute_result"
    }
   ],
   "source": [
    "entrenamiento_1.set_index(['tiendaID', 'skuID','fechaID'], inplace=True)\n",
    "entrenamiento_1.head(2)"
   ]
  },
  {
   "cell_type": "code",
   "execution_count": 14,
   "metadata": {},
   "outputs": [
    {
     "data": {
      "text/html": [
       "<div>\n",
       "<style scoped>\n",
       "    .dataframe tbody tr th:only-of-type {\n",
       "        vertical-align: middle;\n",
       "    }\n",
       "\n",
       "    .dataframe tbody tr th {\n",
       "        vertical-align: top;\n",
       "    }\n",
       "\n",
       "    .dataframe thead th {\n",
       "        text-align: right;\n",
       "    }\n",
       "</style>\n",
       "<table border=\"1\" class=\"dataframe\">\n",
       "  <thead>\n",
       "    <tr style=\"text-align: right;\">\n",
       "      <th></th>\n",
       "      <th></th>\n",
       "      <th></th>\n",
       "      <th>ventas_por_mes</th>\n",
       "      <th>variable_y_ventas_del_siguiente_mes</th>\n",
       "      <th>ventas_totales_por_tienda_por_mes</th>\n",
       "      <th>ventas_promedio_por_tienda_por_mes</th>\n",
       "      <th>ventas_totales_por_marca_por_mes</th>\n",
       "      <th>ventas_promedio_por_marca_por_mes</th>\n",
       "      <th>ventas_totales_por_gamma_por_mes</th>\n",
       "      <th>ventas_promedio_por_gamma_por_mes</th>\n",
       "      <th>ventas_totales_por_sku_por_mes</th>\n",
       "      <th>ventas_promedio_por_sku_por_mes</th>\n",
       "      <th>...</th>\n",
       "      <th>lag2mes_ventas_totales_por_sku_por_mes</th>\n",
       "      <th>lag2mes_ventas_promedio_por_sku_por_mes</th>\n",
       "      <th>lag3mes_ventas_totales_por_tienda_por_mes</th>\n",
       "      <th>lag3mes_ventas_promedio_por_tienda_por_mes</th>\n",
       "      <th>lag3mes_ventas_totales_por_marca_por_mes</th>\n",
       "      <th>lag3mes_entas_promedio_por_marca_por_mes</th>\n",
       "      <th>lag3mes_ventas_totales_por_gamma_por_mes</th>\n",
       "      <th>lag3mes_ventas_promedio_por_gamma_por_mes</th>\n",
       "      <th>lag3mes_ventas_totales_por_sku_por_mes</th>\n",
       "      <th>lag3mes_ventas_promedio_por_sku_por_mes</th>\n",
       "    </tr>\n",
       "    <tr>\n",
       "      <th>tiendaID</th>\n",
       "      <th>skuID</th>\n",
       "      <th>fechaID</th>\n",
       "      <th></th>\n",
       "      <th></th>\n",
       "      <th></th>\n",
       "      <th></th>\n",
       "      <th></th>\n",
       "      <th></th>\n",
       "      <th></th>\n",
       "      <th></th>\n",
       "      <th></th>\n",
       "      <th></th>\n",
       "      <th></th>\n",
       "      <th></th>\n",
       "      <th></th>\n",
       "      <th></th>\n",
       "      <th></th>\n",
       "      <th></th>\n",
       "      <th></th>\n",
       "      <th></th>\n",
       "      <th></th>\n",
       "      <th></th>\n",
       "      <th></th>\n",
       "    </tr>\n",
       "  </thead>\n",
       "  <tbody>\n",
       "    <tr>\n",
       "      <th>1</th>\n",
       "      <th>1</th>\n",
       "      <th>1</th>\n",
       "      <td>0</td>\n",
       "      <td>0.0</td>\n",
       "      <td>79</td>\n",
       "      <td>1.128571</td>\n",
       "      <td>379</td>\n",
       "      <td>1.046961</td>\n",
       "      <td>92120</td>\n",
       "      <td>1.137986</td>\n",
       "      <td>1</td>\n",
       "      <td>1.0</td>\n",
       "      <td>...</td>\n",
       "      <td>1</td>\n",
       "      <td>1.0</td>\n",
       "      <td>70</td>\n",
       "      <td>1.044776</td>\n",
       "      <td>355</td>\n",
       "      <td>1.047198</td>\n",
       "      <td>86507</td>\n",
       "      <td>1.161542</td>\n",
       "      <td>1</td>\n",
       "      <td>1.0</td>\n",
       "    </tr>\n",
       "    <tr>\n",
       "      <th>2</th>\n",
       "      <th>1</th>\n",
       "      <th>1</th>\n",
       "      <td>0</td>\n",
       "      <td>0.0</td>\n",
       "      <td>24</td>\n",
       "      <td>1.043478</td>\n",
       "      <td>379</td>\n",
       "      <td>1.046961</td>\n",
       "      <td>92120</td>\n",
       "      <td>1.137986</td>\n",
       "      <td>1</td>\n",
       "      <td>1.0</td>\n",
       "      <td>...</td>\n",
       "      <td>1</td>\n",
       "      <td>1.0</td>\n",
       "      <td>14</td>\n",
       "      <td>1.076923</td>\n",
       "      <td>355</td>\n",
       "      <td>1.047198</td>\n",
       "      <td>86507</td>\n",
       "      <td>1.161542</td>\n",
       "      <td>1</td>\n",
       "      <td>1.0</td>\n",
       "    </tr>\n",
       "  </tbody>\n",
       "</table>\n",
       "<p>2 rows × 34 columns</p>\n",
       "</div>"
      ],
      "text/plain": [
       "                        ventas_por_mes  variable_y_ventas_del_siguiente_mes  \\\n",
       "tiendaID skuID fechaID                                                        \n",
       "1        1     1                     0                                  0.0   \n",
       "2        1     1                     0                                  0.0   \n",
       "\n",
       "                        ventas_totales_por_tienda_por_mes  \\\n",
       "tiendaID skuID fechaID                                      \n",
       "1        1     1                                       79   \n",
       "2        1     1                                       24   \n",
       "\n",
       "                        ventas_promedio_por_tienda_por_mes  \\\n",
       "tiendaID skuID fechaID                                       \n",
       "1        1     1                                  1.128571   \n",
       "2        1     1                                  1.043478   \n",
       "\n",
       "                        ventas_totales_por_marca_por_mes  \\\n",
       "tiendaID skuID fechaID                                     \n",
       "1        1     1                                     379   \n",
       "2        1     1                                     379   \n",
       "\n",
       "                        ventas_promedio_por_marca_por_mes  \\\n",
       "tiendaID skuID fechaID                                      \n",
       "1        1     1                                 1.046961   \n",
       "2        1     1                                 1.046961   \n",
       "\n",
       "                        ventas_totales_por_gamma_por_mes  \\\n",
       "tiendaID skuID fechaID                                     \n",
       "1        1     1                                   92120   \n",
       "2        1     1                                   92120   \n",
       "\n",
       "                        ventas_promedio_por_gamma_por_mes  \\\n",
       "tiendaID skuID fechaID                                      \n",
       "1        1     1                                 1.137986   \n",
       "2        1     1                                 1.137986   \n",
       "\n",
       "                        ventas_totales_por_sku_por_mes  \\\n",
       "tiendaID skuID fechaID                                   \n",
       "1        1     1                                     1   \n",
       "2        1     1                                     1   \n",
       "\n",
       "                        ventas_promedio_por_sku_por_mes  ...  \\\n",
       "tiendaID skuID fechaID                                   ...   \n",
       "1        1     1                                    1.0  ...   \n",
       "2        1     1                                    1.0  ...   \n",
       "\n",
       "                        lag2mes_ventas_totales_por_sku_por_mes  \\\n",
       "tiendaID skuID fechaID                                           \n",
       "1        1     1                                             1   \n",
       "2        1     1                                             1   \n",
       "\n",
       "                        lag2mes_ventas_promedio_por_sku_por_mes  \\\n",
       "tiendaID skuID fechaID                                            \n",
       "1        1     1                                            1.0   \n",
       "2        1     1                                            1.0   \n",
       "\n",
       "                        lag3mes_ventas_totales_por_tienda_por_mes  \\\n",
       "tiendaID skuID fechaID                                              \n",
       "1        1     1                                               70   \n",
       "2        1     1                                               14   \n",
       "\n",
       "                        lag3mes_ventas_promedio_por_tienda_por_mes  \\\n",
       "tiendaID skuID fechaID                                               \n",
       "1        1     1                                          1.044776   \n",
       "2        1     1                                          1.076923   \n",
       "\n",
       "                        lag3mes_ventas_totales_por_marca_por_mes  \\\n",
       "tiendaID skuID fechaID                                             \n",
       "1        1     1                                             355   \n",
       "2        1     1                                             355   \n",
       "\n",
       "                        lag3mes_entas_promedio_por_marca_por_mes  \\\n",
       "tiendaID skuID fechaID                                             \n",
       "1        1     1                                        1.047198   \n",
       "2        1     1                                        1.047198   \n",
       "\n",
       "                        lag3mes_ventas_totales_por_gamma_por_mes  \\\n",
       "tiendaID skuID fechaID                                             \n",
       "1        1     1                                           86507   \n",
       "2        1     1                                           86507   \n",
       "\n",
       "                        lag3mes_ventas_promedio_por_gamma_por_mes  \\\n",
       "tiendaID skuID fechaID                                              \n",
       "1        1     1                                         1.161542   \n",
       "2        1     1                                         1.161542   \n",
       "\n",
       "                        lag3mes_ventas_totales_por_sku_por_mes  \\\n",
       "tiendaID skuID fechaID                                           \n",
       "1        1     1                                             1   \n",
       "2        1     1                                             1   \n",
       "\n",
       "                        lag3mes_ventas_promedio_por_sku_por_mes  \n",
       "tiendaID skuID fechaID                                           \n",
       "1        1     1                                            1.0  \n",
       "2        1     1                                            1.0  \n",
       "\n",
       "[2 rows x 34 columns]"
      ]
     },
     "execution_count": 14,
     "metadata": {},
     "output_type": "execute_result"
    }
   ],
   "source": [
    "prueba_1.set_index(['tiendaID', 'skuID','fechaID'], inplace=True)\n",
    "prueba_1.head(2)"
   ]
  },
  {
   "cell_type": "markdown",
   "metadata": {},
   "source": [
    "#### 3. Dividir en variables de entrada y de salida en cada conjunto"
   ]
  },
  {
   "cell_type": "code",
   "execution_count": 15,
   "metadata": {},
   "outputs": [],
   "source": [
    "#Dividir x y y del conjunto de entrenamiento \n",
    "x_1 = entrenamiento_1.iloc[:, entrenamiento_1.columns != 'variable_y_ventas_del_siguiente_mes']\n",
    "y_1 = entrenamiento_1.iloc[:, entrenamiento_1.columns == 'variable_y_ventas_del_siguiente_mes']"
   ]
  },
  {
   "cell_type": "code",
   "execution_count": 16,
   "metadata": {},
   "outputs": [],
   "source": [
    "#Dividir en x y y el conjunyo de prueba\n",
    "prueba_x_1= prueba_1.iloc[:, prueba_1.columns != 'variable_y_ventas_del_siguiente_mes']\n",
    "prueba_y_1= prueba_1.iloc[:, prueba_1.columns == 'variable_y_ventas_del_siguiente_mes']"
   ]
  },
  {
   "cell_type": "markdown",
   "metadata": {},
   "source": [
    "# <font color='darkblue'>-.-.-.-.-.-.-.-.-.-.-.-.-.-.-.-.-.-.-.-.-.-.-.-.-.-.-.-.-.-.-.-.-.-.-.-..-.-.-.-.-.-.-.-.-.-.-.-.-..-.-.-.-.-.-.-.-.-.-.-.-.-..-.-.-.-.-.-.-.-.-.-.-.-.-.-.-.-.- </font>"
   ]
  },
  {
   "cell_type": "markdown",
   "metadata": {},
   "source": [
    "## 2. Segunda división: \n",
    "#### Entrenamiento: fechaID=0 y 1 (mes junio y julio) - y: ventas Agosto\n",
    "#### Prueba: fechaID=2 (mes Agosto) - y:ventas septiembre"
   ]
  },
  {
   "cell_type": "code",
   "execution_count": 37,
   "metadata": {},
   "outputs": [
    {
     "name": "stdout",
     "output_type": "stream",
     "text": [
      "Entrenar con los meses de Junio y Julio cuyos índices son: 0 1\n",
      "Probar con el mes de Agosto cuyo índice es: 2\n"
     ]
    }
   ],
   "source": [
    "#Límites para cortar conjuntos en dattos\n",
    "entrenamiento_junjul_para_predecir_agosto = mes[1] #Con infomación de junio y julio quiero predecir agogsto (entrenamiento)\n",
    "prueba_agosto_para_predecir_en_septiembre = mes[2] #Con el modelo anterior quiero predecir septiembre (con información de agosto\n",
    "\n",
    "print('Entrenar con los meses de Junio y Julio cuyos índices son:', \"0\",entrenamiento_junjul_para_predecir_agosto)\n",
    "print('Probar con el mes de Agosto cuyo índice es:', prueba_agosto_para_predecir_en_septiembre)"
   ]
  },
  {
   "cell_type": "code",
   "execution_count": 38,
   "metadata": {},
   "outputs": [
    {
     "data": {
      "text/plain": [
       "(1737190, 37)"
      ]
     },
     "execution_count": 38,
     "metadata": {},
     "output_type": "execute_result"
    }
   ],
   "source": [
    "#dividir el archivo en entrenamiento y prueba\n",
    "entrenamiento_2 = datos_modelo[datos_modelo['fechaID']<=entrenamiento_junjul_para_predecir_agosto]\n",
    "#entrenamiento_2.head(2)\n",
    "entrenamiento_2.shape"
   ]
  },
  {
   "cell_type": "code",
   "execution_count": 39,
   "metadata": {},
   "outputs": [
    {
     "data": {
      "text/plain": [
       "(868595, 37)"
      ]
     },
     "execution_count": 39,
     "metadata": {},
     "output_type": "execute_result"
    }
   ],
   "source": [
    "prueba_2 = datos_modelo[datos_modelo['fechaID']==prueba_agosto_para_predecir_en_septiembre]\n",
    "#prueba_2.head(2)\n",
    "prueba_2.shape"
   ]
  },
  {
   "cell_type": "code",
   "execution_count": 40,
   "metadata": {},
   "outputs": [
    {
     "data": {
      "text/html": [
       "<div>\n",
       "<style scoped>\n",
       "    .dataframe tbody tr th:only-of-type {\n",
       "        vertical-align: middle;\n",
       "    }\n",
       "\n",
       "    .dataframe tbody tr th {\n",
       "        vertical-align: top;\n",
       "    }\n",
       "\n",
       "    .dataframe thead th {\n",
       "        text-align: right;\n",
       "    }\n",
       "</style>\n",
       "<table border=\"1\" class=\"dataframe\">\n",
       "  <thead>\n",
       "    <tr style=\"text-align: right;\">\n",
       "      <th></th>\n",
       "      <th></th>\n",
       "      <th></th>\n",
       "      <th>ventas_por_mes</th>\n",
       "      <th>variable_y_ventas_del_siguiente_mes</th>\n",
       "      <th>ventas_totales_por_tienda_por_mes</th>\n",
       "      <th>ventas_promedio_por_tienda_por_mes</th>\n",
       "      <th>ventas_totales_por_marca_por_mes</th>\n",
       "      <th>ventas_promedio_por_marca_por_mes</th>\n",
       "      <th>ventas_totales_por_gamma_por_mes</th>\n",
       "      <th>ventas_promedio_por_gamma_por_mes</th>\n",
       "      <th>ventas_totales_por_sku_por_mes</th>\n",
       "      <th>ventas_promedio_por_sku_por_mes</th>\n",
       "      <th>...</th>\n",
       "      <th>lag2mes_ventas_totales_por_sku_por_mes</th>\n",
       "      <th>lag2mes_ventas_promedio_por_sku_por_mes</th>\n",
       "      <th>lag3mes_ventas_totales_por_tienda_por_mes</th>\n",
       "      <th>lag3mes_ventas_promedio_por_tienda_por_mes</th>\n",
       "      <th>lag3mes_ventas_totales_por_marca_por_mes</th>\n",
       "      <th>lag3mes_entas_promedio_por_marca_por_mes</th>\n",
       "      <th>lag3mes_ventas_totales_por_gamma_por_mes</th>\n",
       "      <th>lag3mes_ventas_promedio_por_gamma_por_mes</th>\n",
       "      <th>lag3mes_ventas_totales_por_sku_por_mes</th>\n",
       "      <th>lag3mes_ventas_promedio_por_sku_por_mes</th>\n",
       "    </tr>\n",
       "    <tr>\n",
       "      <th>tiendaID</th>\n",
       "      <th>skuID</th>\n",
       "      <th>fechaID</th>\n",
       "      <th></th>\n",
       "      <th></th>\n",
       "      <th></th>\n",
       "      <th></th>\n",
       "      <th></th>\n",
       "      <th></th>\n",
       "      <th></th>\n",
       "      <th></th>\n",
       "      <th></th>\n",
       "      <th></th>\n",
       "      <th></th>\n",
       "      <th></th>\n",
       "      <th></th>\n",
       "      <th></th>\n",
       "      <th></th>\n",
       "      <th></th>\n",
       "      <th></th>\n",
       "      <th></th>\n",
       "      <th></th>\n",
       "      <th></th>\n",
       "      <th></th>\n",
       "    </tr>\n",
       "  </thead>\n",
       "  <tbody>\n",
       "    <tr>\n",
       "      <th rowspan=\"2\" valign=\"top\">1</th>\n",
       "      <th rowspan=\"2\" valign=\"top\">1</th>\n",
       "      <th>0</th>\n",
       "      <td>0</td>\n",
       "      <td>0.0</td>\n",
       "      <td>70</td>\n",
       "      <td>1.044776</td>\n",
       "      <td>355</td>\n",
       "      <td>1.047198</td>\n",
       "      <td>86507</td>\n",
       "      <td>1.161542</td>\n",
       "      <td>1</td>\n",
       "      <td>1.0</td>\n",
       "      <td>...</td>\n",
       "      <td>1</td>\n",
       "      <td>1.0</td>\n",
       "      <td>70</td>\n",
       "      <td>1.044776</td>\n",
       "      <td>355</td>\n",
       "      <td>1.047198</td>\n",
       "      <td>86507</td>\n",
       "      <td>1.161542</td>\n",
       "      <td>1</td>\n",
       "      <td>1.0</td>\n",
       "    </tr>\n",
       "    <tr>\n",
       "      <th>1</th>\n",
       "      <td>0</td>\n",
       "      <td>0.0</td>\n",
       "      <td>79</td>\n",
       "      <td>1.128571</td>\n",
       "      <td>379</td>\n",
       "      <td>1.046961</td>\n",
       "      <td>92120</td>\n",
       "      <td>1.137986</td>\n",
       "      <td>1</td>\n",
       "      <td>1.0</td>\n",
       "      <td>...</td>\n",
       "      <td>1</td>\n",
       "      <td>1.0</td>\n",
       "      <td>70</td>\n",
       "      <td>1.044776</td>\n",
       "      <td>355</td>\n",
       "      <td>1.047198</td>\n",
       "      <td>86507</td>\n",
       "      <td>1.161542</td>\n",
       "      <td>1</td>\n",
       "      <td>1.0</td>\n",
       "    </tr>\n",
       "    <tr>\n",
       "      <th rowspan=\"2\" valign=\"top\">2</th>\n",
       "      <th rowspan=\"2\" valign=\"top\">1</th>\n",
       "      <th>0</th>\n",
       "      <td>0</td>\n",
       "      <td>0.0</td>\n",
       "      <td>14</td>\n",
       "      <td>1.076923</td>\n",
       "      <td>355</td>\n",
       "      <td>1.047198</td>\n",
       "      <td>86507</td>\n",
       "      <td>1.161542</td>\n",
       "      <td>1</td>\n",
       "      <td>1.0</td>\n",
       "      <td>...</td>\n",
       "      <td>1</td>\n",
       "      <td>1.0</td>\n",
       "      <td>14</td>\n",
       "      <td>1.076923</td>\n",
       "      <td>355</td>\n",
       "      <td>1.047198</td>\n",
       "      <td>86507</td>\n",
       "      <td>1.161542</td>\n",
       "      <td>1</td>\n",
       "      <td>1.0</td>\n",
       "    </tr>\n",
       "    <tr>\n",
       "      <th>1</th>\n",
       "      <td>0</td>\n",
       "      <td>0.0</td>\n",
       "      <td>24</td>\n",
       "      <td>1.043478</td>\n",
       "      <td>379</td>\n",
       "      <td>1.046961</td>\n",
       "      <td>92120</td>\n",
       "      <td>1.137986</td>\n",
       "      <td>1</td>\n",
       "      <td>1.0</td>\n",
       "      <td>...</td>\n",
       "      <td>1</td>\n",
       "      <td>1.0</td>\n",
       "      <td>14</td>\n",
       "      <td>1.076923</td>\n",
       "      <td>355</td>\n",
       "      <td>1.047198</td>\n",
       "      <td>86507</td>\n",
       "      <td>1.161542</td>\n",
       "      <td>1</td>\n",
       "      <td>1.0</td>\n",
       "    </tr>\n",
       "  </tbody>\n",
       "</table>\n",
       "<p>4 rows × 34 columns</p>\n",
       "</div>"
      ],
      "text/plain": [
       "                        ventas_por_mes  variable_y_ventas_del_siguiente_mes  \\\n",
       "tiendaID skuID fechaID                                                        \n",
       "1        1     0                     0                                  0.0   \n",
       "               1                     0                                  0.0   \n",
       "2        1     0                     0                                  0.0   \n",
       "               1                     0                                  0.0   \n",
       "\n",
       "                        ventas_totales_por_tienda_por_mes  \\\n",
       "tiendaID skuID fechaID                                      \n",
       "1        1     0                                       70   \n",
       "               1                                       79   \n",
       "2        1     0                                       14   \n",
       "               1                                       24   \n",
       "\n",
       "                        ventas_promedio_por_tienda_por_mes  \\\n",
       "tiendaID skuID fechaID                                       \n",
       "1        1     0                                  1.044776   \n",
       "               1                                  1.128571   \n",
       "2        1     0                                  1.076923   \n",
       "               1                                  1.043478   \n",
       "\n",
       "                        ventas_totales_por_marca_por_mes  \\\n",
       "tiendaID skuID fechaID                                     \n",
       "1        1     0                                     355   \n",
       "               1                                     379   \n",
       "2        1     0                                     355   \n",
       "               1                                     379   \n",
       "\n",
       "                        ventas_promedio_por_marca_por_mes  \\\n",
       "tiendaID skuID fechaID                                      \n",
       "1        1     0                                 1.047198   \n",
       "               1                                 1.046961   \n",
       "2        1     0                                 1.047198   \n",
       "               1                                 1.046961   \n",
       "\n",
       "                        ventas_totales_por_gamma_por_mes  \\\n",
       "tiendaID skuID fechaID                                     \n",
       "1        1     0                                   86507   \n",
       "               1                                   92120   \n",
       "2        1     0                                   86507   \n",
       "               1                                   92120   \n",
       "\n",
       "                        ventas_promedio_por_gamma_por_mes  \\\n",
       "tiendaID skuID fechaID                                      \n",
       "1        1     0                                 1.161542   \n",
       "               1                                 1.137986   \n",
       "2        1     0                                 1.161542   \n",
       "               1                                 1.137986   \n",
       "\n",
       "                        ventas_totales_por_sku_por_mes  \\\n",
       "tiendaID skuID fechaID                                   \n",
       "1        1     0                                     1   \n",
       "               1                                     1   \n",
       "2        1     0                                     1   \n",
       "               1                                     1   \n",
       "\n",
       "                        ventas_promedio_por_sku_por_mes  ...  \\\n",
       "tiendaID skuID fechaID                                   ...   \n",
       "1        1     0                                    1.0  ...   \n",
       "               1                                    1.0  ...   \n",
       "2        1     0                                    1.0  ...   \n",
       "               1                                    1.0  ...   \n",
       "\n",
       "                        lag2mes_ventas_totales_por_sku_por_mes  \\\n",
       "tiendaID skuID fechaID                                           \n",
       "1        1     0                                             1   \n",
       "               1                                             1   \n",
       "2        1     0                                             1   \n",
       "               1                                             1   \n",
       "\n",
       "                        lag2mes_ventas_promedio_por_sku_por_mes  \\\n",
       "tiendaID skuID fechaID                                            \n",
       "1        1     0                                            1.0   \n",
       "               1                                            1.0   \n",
       "2        1     0                                            1.0   \n",
       "               1                                            1.0   \n",
       "\n",
       "                        lag3mes_ventas_totales_por_tienda_por_mes  \\\n",
       "tiendaID skuID fechaID                                              \n",
       "1        1     0                                               70   \n",
       "               1                                               70   \n",
       "2        1     0                                               14   \n",
       "               1                                               14   \n",
       "\n",
       "                        lag3mes_ventas_promedio_por_tienda_por_mes  \\\n",
       "tiendaID skuID fechaID                                               \n",
       "1        1     0                                          1.044776   \n",
       "               1                                          1.044776   \n",
       "2        1     0                                          1.076923   \n",
       "               1                                          1.076923   \n",
       "\n",
       "                        lag3mes_ventas_totales_por_marca_por_mes  \\\n",
       "tiendaID skuID fechaID                                             \n",
       "1        1     0                                             355   \n",
       "               1                                             355   \n",
       "2        1     0                                             355   \n",
       "               1                                             355   \n",
       "\n",
       "                        lag3mes_entas_promedio_por_marca_por_mes  \\\n",
       "tiendaID skuID fechaID                                             \n",
       "1        1     0                                        1.047198   \n",
       "               1                                        1.047198   \n",
       "2        1     0                                        1.047198   \n",
       "               1                                        1.047198   \n",
       "\n",
       "                        lag3mes_ventas_totales_por_gamma_por_mes  \\\n",
       "tiendaID skuID fechaID                                             \n",
       "1        1     0                                           86507   \n",
       "               1                                           86507   \n",
       "2        1     0                                           86507   \n",
       "               1                                           86507   \n",
       "\n",
       "                        lag3mes_ventas_promedio_por_gamma_por_mes  \\\n",
       "tiendaID skuID fechaID                                              \n",
       "1        1     0                                         1.161542   \n",
       "               1                                         1.161542   \n",
       "2        1     0                                         1.161542   \n",
       "               1                                         1.161542   \n",
       "\n",
       "                        lag3mes_ventas_totales_por_sku_por_mes  \\\n",
       "tiendaID skuID fechaID                                           \n",
       "1        1     0                                             1   \n",
       "               1                                             1   \n",
       "2        1     0                                             1   \n",
       "               1                                             1   \n",
       "\n",
       "                        lag3mes_ventas_promedio_por_sku_por_mes  \n",
       "tiendaID skuID fechaID                                           \n",
       "1        1     0                                            1.0  \n",
       "               1                                            1.0  \n",
       "2        1     0                                            1.0  \n",
       "               1                                            1.0  \n",
       "\n",
       "[4 rows x 34 columns]"
      ]
     },
     "execution_count": 40,
     "metadata": {},
     "output_type": "execute_result"
    }
   ],
   "source": [
    "entrenamiento_2.set_index(['tiendaID', 'skuID','fechaID'], inplace=True)\n",
    "entrenamiento_2.head(4)"
   ]
  },
  {
   "cell_type": "code",
   "execution_count": 41,
   "metadata": {},
   "outputs": [
    {
     "data": {
      "text/html": [
       "<div>\n",
       "<style scoped>\n",
       "    .dataframe tbody tr th:only-of-type {\n",
       "        vertical-align: middle;\n",
       "    }\n",
       "\n",
       "    .dataframe tbody tr th {\n",
       "        vertical-align: top;\n",
       "    }\n",
       "\n",
       "    .dataframe thead th {\n",
       "        text-align: right;\n",
       "    }\n",
       "</style>\n",
       "<table border=\"1\" class=\"dataframe\">\n",
       "  <thead>\n",
       "    <tr style=\"text-align: right;\">\n",
       "      <th></th>\n",
       "      <th></th>\n",
       "      <th></th>\n",
       "      <th>ventas_por_mes</th>\n",
       "      <th>variable_y_ventas_del_siguiente_mes</th>\n",
       "      <th>ventas_totales_por_tienda_por_mes</th>\n",
       "      <th>ventas_promedio_por_tienda_por_mes</th>\n",
       "      <th>ventas_totales_por_marca_por_mes</th>\n",
       "      <th>ventas_promedio_por_marca_por_mes</th>\n",
       "      <th>ventas_totales_por_gamma_por_mes</th>\n",
       "      <th>ventas_promedio_por_gamma_por_mes</th>\n",
       "      <th>ventas_totales_por_sku_por_mes</th>\n",
       "      <th>ventas_promedio_por_sku_por_mes</th>\n",
       "      <th>...</th>\n",
       "      <th>lag2mes_ventas_totales_por_sku_por_mes</th>\n",
       "      <th>lag2mes_ventas_promedio_por_sku_por_mes</th>\n",
       "      <th>lag3mes_ventas_totales_por_tienda_por_mes</th>\n",
       "      <th>lag3mes_ventas_promedio_por_tienda_por_mes</th>\n",
       "      <th>lag3mes_ventas_totales_por_marca_por_mes</th>\n",
       "      <th>lag3mes_entas_promedio_por_marca_por_mes</th>\n",
       "      <th>lag3mes_ventas_totales_por_gamma_por_mes</th>\n",
       "      <th>lag3mes_ventas_promedio_por_gamma_por_mes</th>\n",
       "      <th>lag3mes_ventas_totales_por_sku_por_mes</th>\n",
       "      <th>lag3mes_ventas_promedio_por_sku_por_mes</th>\n",
       "    </tr>\n",
       "    <tr>\n",
       "      <th>tiendaID</th>\n",
       "      <th>skuID</th>\n",
       "      <th>fechaID</th>\n",
       "      <th></th>\n",
       "      <th></th>\n",
       "      <th></th>\n",
       "      <th></th>\n",
       "      <th></th>\n",
       "      <th></th>\n",
       "      <th></th>\n",
       "      <th></th>\n",
       "      <th></th>\n",
       "      <th></th>\n",
       "      <th></th>\n",
       "      <th></th>\n",
       "      <th></th>\n",
       "      <th></th>\n",
       "      <th></th>\n",
       "      <th></th>\n",
       "      <th></th>\n",
       "      <th></th>\n",
       "      <th></th>\n",
       "      <th></th>\n",
       "      <th></th>\n",
       "    </tr>\n",
       "  </thead>\n",
       "  <tbody>\n",
       "    <tr>\n",
       "      <th>1</th>\n",
       "      <th>1</th>\n",
       "      <th>2</th>\n",
       "      <td>0</td>\n",
       "      <td>0.0</td>\n",
       "      <td>87</td>\n",
       "      <td>1.060976</td>\n",
       "      <td>264</td>\n",
       "      <td>1.068826</td>\n",
       "      <td>84129</td>\n",
       "      <td>1.12627</td>\n",
       "      <td>0</td>\n",
       "      <td>0.0</td>\n",
       "      <td>...</td>\n",
       "      <td>1</td>\n",
       "      <td>1.0</td>\n",
       "      <td>70</td>\n",
       "      <td>1.044776</td>\n",
       "      <td>355</td>\n",
       "      <td>1.047198</td>\n",
       "      <td>86507</td>\n",
       "      <td>1.161542</td>\n",
       "      <td>1</td>\n",
       "      <td>1.0</td>\n",
       "    </tr>\n",
       "    <tr>\n",
       "      <th>2</th>\n",
       "      <th>1</th>\n",
       "      <th>2</th>\n",
       "      <td>0</td>\n",
       "      <td>0.0</td>\n",
       "      <td>13</td>\n",
       "      <td>1.083333</td>\n",
       "      <td>264</td>\n",
       "      <td>1.068826</td>\n",
       "      <td>84129</td>\n",
       "      <td>1.12627</td>\n",
       "      <td>0</td>\n",
       "      <td>0.0</td>\n",
       "      <td>...</td>\n",
       "      <td>1</td>\n",
       "      <td>1.0</td>\n",
       "      <td>14</td>\n",
       "      <td>1.076923</td>\n",
       "      <td>355</td>\n",
       "      <td>1.047198</td>\n",
       "      <td>86507</td>\n",
       "      <td>1.161542</td>\n",
       "      <td>1</td>\n",
       "      <td>1.0</td>\n",
       "    </tr>\n",
       "    <tr>\n",
       "      <th>3</th>\n",
       "      <th>1</th>\n",
       "      <th>2</th>\n",
       "      <td>0</td>\n",
       "      <td>0.0</td>\n",
       "      <td>36</td>\n",
       "      <td>1.028571</td>\n",
       "      <td>264</td>\n",
       "      <td>1.068826</td>\n",
       "      <td>84129</td>\n",
       "      <td>1.12627</td>\n",
       "      <td>0</td>\n",
       "      <td>0.0</td>\n",
       "      <td>...</td>\n",
       "      <td>1</td>\n",
       "      <td>1.0</td>\n",
       "      <td>24</td>\n",
       "      <td>1.000000</td>\n",
       "      <td>355</td>\n",
       "      <td>1.047198</td>\n",
       "      <td>86507</td>\n",
       "      <td>1.161542</td>\n",
       "      <td>1</td>\n",
       "      <td>1.0</td>\n",
       "    </tr>\n",
       "    <tr>\n",
       "      <th>4</th>\n",
       "      <th>1</th>\n",
       "      <th>2</th>\n",
       "      <td>0</td>\n",
       "      <td>0.0</td>\n",
       "      <td>0</td>\n",
       "      <td>0.000000</td>\n",
       "      <td>264</td>\n",
       "      <td>1.068826</td>\n",
       "      <td>84129</td>\n",
       "      <td>1.12627</td>\n",
       "      <td>0</td>\n",
       "      <td>0.0</td>\n",
       "      <td>...</td>\n",
       "      <td>1</td>\n",
       "      <td>1.0</td>\n",
       "      <td>0</td>\n",
       "      <td>0.000000</td>\n",
       "      <td>355</td>\n",
       "      <td>1.047198</td>\n",
       "      <td>86507</td>\n",
       "      <td>1.161542</td>\n",
       "      <td>1</td>\n",
       "      <td>1.0</td>\n",
       "    </tr>\n",
       "  </tbody>\n",
       "</table>\n",
       "<p>4 rows × 34 columns</p>\n",
       "</div>"
      ],
      "text/plain": [
       "                        ventas_por_mes  variable_y_ventas_del_siguiente_mes  \\\n",
       "tiendaID skuID fechaID                                                        \n",
       "1        1     2                     0                                  0.0   \n",
       "2        1     2                     0                                  0.0   \n",
       "3        1     2                     0                                  0.0   \n",
       "4        1     2                     0                                  0.0   \n",
       "\n",
       "                        ventas_totales_por_tienda_por_mes  \\\n",
       "tiendaID skuID fechaID                                      \n",
       "1        1     2                                       87   \n",
       "2        1     2                                       13   \n",
       "3        1     2                                       36   \n",
       "4        1     2                                        0   \n",
       "\n",
       "                        ventas_promedio_por_tienda_por_mes  \\\n",
       "tiendaID skuID fechaID                                       \n",
       "1        1     2                                  1.060976   \n",
       "2        1     2                                  1.083333   \n",
       "3        1     2                                  1.028571   \n",
       "4        1     2                                  0.000000   \n",
       "\n",
       "                        ventas_totales_por_marca_por_mes  \\\n",
       "tiendaID skuID fechaID                                     \n",
       "1        1     2                                     264   \n",
       "2        1     2                                     264   \n",
       "3        1     2                                     264   \n",
       "4        1     2                                     264   \n",
       "\n",
       "                        ventas_promedio_por_marca_por_mes  \\\n",
       "tiendaID skuID fechaID                                      \n",
       "1        1     2                                 1.068826   \n",
       "2        1     2                                 1.068826   \n",
       "3        1     2                                 1.068826   \n",
       "4        1     2                                 1.068826   \n",
       "\n",
       "                        ventas_totales_por_gamma_por_mes  \\\n",
       "tiendaID skuID fechaID                                     \n",
       "1        1     2                                   84129   \n",
       "2        1     2                                   84129   \n",
       "3        1     2                                   84129   \n",
       "4        1     2                                   84129   \n",
       "\n",
       "                        ventas_promedio_por_gamma_por_mes  \\\n",
       "tiendaID skuID fechaID                                      \n",
       "1        1     2                                  1.12627   \n",
       "2        1     2                                  1.12627   \n",
       "3        1     2                                  1.12627   \n",
       "4        1     2                                  1.12627   \n",
       "\n",
       "                        ventas_totales_por_sku_por_mes  \\\n",
       "tiendaID skuID fechaID                                   \n",
       "1        1     2                                     0   \n",
       "2        1     2                                     0   \n",
       "3        1     2                                     0   \n",
       "4        1     2                                     0   \n",
       "\n",
       "                        ventas_promedio_por_sku_por_mes  ...  \\\n",
       "tiendaID skuID fechaID                                   ...   \n",
       "1        1     2                                    0.0  ...   \n",
       "2        1     2                                    0.0  ...   \n",
       "3        1     2                                    0.0  ...   \n",
       "4        1     2                                    0.0  ...   \n",
       "\n",
       "                        lag2mes_ventas_totales_por_sku_por_mes  \\\n",
       "tiendaID skuID fechaID                                           \n",
       "1        1     2                                             1   \n",
       "2        1     2                                             1   \n",
       "3        1     2                                             1   \n",
       "4        1     2                                             1   \n",
       "\n",
       "                        lag2mes_ventas_promedio_por_sku_por_mes  \\\n",
       "tiendaID skuID fechaID                                            \n",
       "1        1     2                                            1.0   \n",
       "2        1     2                                            1.0   \n",
       "3        1     2                                            1.0   \n",
       "4        1     2                                            1.0   \n",
       "\n",
       "                        lag3mes_ventas_totales_por_tienda_por_mes  \\\n",
       "tiendaID skuID fechaID                                              \n",
       "1        1     2                                               70   \n",
       "2        1     2                                               14   \n",
       "3        1     2                                               24   \n",
       "4        1     2                                                0   \n",
       "\n",
       "                        lag3mes_ventas_promedio_por_tienda_por_mes  \\\n",
       "tiendaID skuID fechaID                                               \n",
       "1        1     2                                          1.044776   \n",
       "2        1     2                                          1.076923   \n",
       "3        1     2                                          1.000000   \n",
       "4        1     2                                          0.000000   \n",
       "\n",
       "                        lag3mes_ventas_totales_por_marca_por_mes  \\\n",
       "tiendaID skuID fechaID                                             \n",
       "1        1     2                                             355   \n",
       "2        1     2                                             355   \n",
       "3        1     2                                             355   \n",
       "4        1     2                                             355   \n",
       "\n",
       "                        lag3mes_entas_promedio_por_marca_por_mes  \\\n",
       "tiendaID skuID fechaID                                             \n",
       "1        1     2                                        1.047198   \n",
       "2        1     2                                        1.047198   \n",
       "3        1     2                                        1.047198   \n",
       "4        1     2                                        1.047198   \n",
       "\n",
       "                        lag3mes_ventas_totales_por_gamma_por_mes  \\\n",
       "tiendaID skuID fechaID                                             \n",
       "1        1     2                                           86507   \n",
       "2        1     2                                           86507   \n",
       "3        1     2                                           86507   \n",
       "4        1     2                                           86507   \n",
       "\n",
       "                        lag3mes_ventas_promedio_por_gamma_por_mes  \\\n",
       "tiendaID skuID fechaID                                              \n",
       "1        1     2                                         1.161542   \n",
       "2        1     2                                         1.161542   \n",
       "3        1     2                                         1.161542   \n",
       "4        1     2                                         1.161542   \n",
       "\n",
       "                        lag3mes_ventas_totales_por_sku_por_mes  \\\n",
       "tiendaID skuID fechaID                                           \n",
       "1        1     2                                             1   \n",
       "2        1     2                                             1   \n",
       "3        1     2                                             1   \n",
       "4        1     2                                             1   \n",
       "\n",
       "                        lag3mes_ventas_promedio_por_sku_por_mes  \n",
       "tiendaID skuID fechaID                                           \n",
       "1        1     2                                            1.0  \n",
       "2        1     2                                            1.0  \n",
       "3        1     2                                            1.0  \n",
       "4        1     2                                            1.0  \n",
       "\n",
       "[4 rows x 34 columns]"
      ]
     },
     "execution_count": 41,
     "metadata": {},
     "output_type": "execute_result"
    }
   ],
   "source": [
    "prueba_2.set_index(['tiendaID', 'skuID','fechaID'], inplace=True)\n",
    "prueba_2.head(4)"
   ]
  },
  {
   "cell_type": "code",
   "execution_count": 42,
   "metadata": {},
   "outputs": [],
   "source": [
    "#Dividir x y y del conjunto de entrenamiento \n",
    "x_2 = entrenamiento_2.iloc[:, entrenamiento_2.columns != 'variable_y_ventas_del_siguiente_mes']\n",
    "y_2 = entrenamiento_2.iloc[:, entrenamiento_2.columns == 'variable_y_ventas_del_siguiente_mes']"
   ]
  },
  {
   "cell_type": "code",
   "execution_count": 43,
   "metadata": {},
   "outputs": [],
   "source": [
    "#Dividir en x y y el conjunyo de prueba\n",
    "prueba_x_2= prueba_2.iloc[:, prueba_2.columns != 'variable_y_ventas_del_siguiente_mes']\n",
    "prueba_y_2= prueba_2.iloc[:, prueba_2.columns == 'variable_y_ventas_del_siguiente_mes']"
   ]
  },
  {
   "cell_type": "markdown",
   "metadata": {},
   "source": [
    "# <font color='darkblue'>-.-.-.-.-.-.-.-.-.-.-.-.-.-.-.-.-.-.-.-.-.-.-.-.-.-.-.-.-.-.-.-.-.-.-.-..-.-.-.-.-.-.-.-.-.-.-.-.-..-.-.-.-.-.-.-.-.-.-.-.-.-..-.-.-.-.-.-.-.-.-.-.-.-.-.-.-.-.- </font>"
   ]
  },
  {
   "cell_type": "markdown",
   "metadata": {},
   "source": [
    "## 3. Tercera división: \n",
    "#### Entrenamiento: fechaID=0,1,2(mes junio julio agosto) - y: ventas septiembre\n",
    "#### Prueba: fechaID=3 (mes septiembre) - y:ventas octubre"
   ]
  },
  {
   "cell_type": "code",
   "execution_count": 62,
   "metadata": {},
   "outputs": [
    {
     "name": "stdout",
     "output_type": "stream",
     "text": [
      "Entrenar con los meses de Junio,Julio y agosto cuyos índices son: 0 1 2\n",
      "Probar con el mes de septiembre cuyo índice es: 3\n"
     ]
    }
   ],
   "source": [
    "#Límites para cortar conjuntos en dattos\n",
    "entrenamiento_junjulago_para_predecir_septiembre = mes[2] \n",
    "prueba_septiembre_para_predecir_en_octubre = mes[3] \n",
    "\n",
    "print('Entrenar con los meses de Junio,Julio y agosto cuyos índices son:', \"0\",\"1\",entrenamiento_junjulago_para_predecir_septiembre)\n",
    "print('Probar con el mes de septiembre cuyo índice es:', prueba_septiembre_para_predecir_en_octubre)"
   ]
  },
  {
   "cell_type": "code",
   "execution_count": 63,
   "metadata": {},
   "outputs": [
    {
     "data": {
      "text/plain": [
       "(2605785, 37)"
      ]
     },
     "execution_count": 63,
     "metadata": {},
     "output_type": "execute_result"
    }
   ],
   "source": [
    "#dividir el archivo en entrenamiento y prueba\n",
    "entrenamiento_3 = datos_modelo[datos_modelo['fechaID']<=entrenamiento_junjulago_para_predecir_septiembre]\n",
    "#entrenamiento_3.head(2)\n",
    "entrenamiento_3.shape"
   ]
  },
  {
   "cell_type": "code",
   "execution_count": 64,
   "metadata": {},
   "outputs": [
    {
     "data": {
      "text/plain": [
       "(868595, 37)"
      ]
     },
     "execution_count": 64,
     "metadata": {},
     "output_type": "execute_result"
    }
   ],
   "source": [
    "prueba_3 = datos_modelo[datos_modelo['fechaID']==prueba_septiembre_para_predecir_en_octubre]\n",
    "#prueba_3.head(2)\n",
    "prueba_3.shape"
   ]
  },
  {
   "cell_type": "code",
   "execution_count": 65,
   "metadata": {},
   "outputs": [
    {
     "data": {
      "text/html": [
       "<div>\n",
       "<style scoped>\n",
       "    .dataframe tbody tr th:only-of-type {\n",
       "        vertical-align: middle;\n",
       "    }\n",
       "\n",
       "    .dataframe tbody tr th {\n",
       "        vertical-align: top;\n",
       "    }\n",
       "\n",
       "    .dataframe thead th {\n",
       "        text-align: right;\n",
       "    }\n",
       "</style>\n",
       "<table border=\"1\" class=\"dataframe\">\n",
       "  <thead>\n",
       "    <tr style=\"text-align: right;\">\n",
       "      <th></th>\n",
       "      <th></th>\n",
       "      <th></th>\n",
       "      <th>ventas_por_mes</th>\n",
       "      <th>variable_y_ventas_del_siguiente_mes</th>\n",
       "      <th>ventas_totales_por_tienda_por_mes</th>\n",
       "      <th>ventas_promedio_por_tienda_por_mes</th>\n",
       "      <th>ventas_totales_por_marca_por_mes</th>\n",
       "      <th>ventas_promedio_por_marca_por_mes</th>\n",
       "      <th>ventas_totales_por_gamma_por_mes</th>\n",
       "      <th>ventas_promedio_por_gamma_por_mes</th>\n",
       "      <th>ventas_totales_por_sku_por_mes</th>\n",
       "      <th>ventas_promedio_por_sku_por_mes</th>\n",
       "      <th>...</th>\n",
       "      <th>lag2mes_ventas_totales_por_sku_por_mes</th>\n",
       "      <th>lag2mes_ventas_promedio_por_sku_por_mes</th>\n",
       "      <th>lag3mes_ventas_totales_por_tienda_por_mes</th>\n",
       "      <th>lag3mes_ventas_promedio_por_tienda_por_mes</th>\n",
       "      <th>lag3mes_ventas_totales_por_marca_por_mes</th>\n",
       "      <th>lag3mes_entas_promedio_por_marca_por_mes</th>\n",
       "      <th>lag3mes_ventas_totales_por_gamma_por_mes</th>\n",
       "      <th>lag3mes_ventas_promedio_por_gamma_por_mes</th>\n",
       "      <th>lag3mes_ventas_totales_por_sku_por_mes</th>\n",
       "      <th>lag3mes_ventas_promedio_por_sku_por_mes</th>\n",
       "    </tr>\n",
       "    <tr>\n",
       "      <th>tiendaID</th>\n",
       "      <th>skuID</th>\n",
       "      <th>fechaID</th>\n",
       "      <th></th>\n",
       "      <th></th>\n",
       "      <th></th>\n",
       "      <th></th>\n",
       "      <th></th>\n",
       "      <th></th>\n",
       "      <th></th>\n",
       "      <th></th>\n",
       "      <th></th>\n",
       "      <th></th>\n",
       "      <th></th>\n",
       "      <th></th>\n",
       "      <th></th>\n",
       "      <th></th>\n",
       "      <th></th>\n",
       "      <th></th>\n",
       "      <th></th>\n",
       "      <th></th>\n",
       "      <th></th>\n",
       "      <th></th>\n",
       "      <th></th>\n",
       "    </tr>\n",
       "  </thead>\n",
       "  <tbody>\n",
       "    <tr>\n",
       "      <th rowspan=\"3\" valign=\"top\">1</th>\n",
       "      <th rowspan=\"3\" valign=\"top\">1</th>\n",
       "      <th>0</th>\n",
       "      <td>0</td>\n",
       "      <td>0.0</td>\n",
       "      <td>70</td>\n",
       "      <td>1.044776</td>\n",
       "      <td>355</td>\n",
       "      <td>1.047198</td>\n",
       "      <td>86507</td>\n",
       "      <td>1.161542</td>\n",
       "      <td>1</td>\n",
       "      <td>1.0</td>\n",
       "      <td>...</td>\n",
       "      <td>1</td>\n",
       "      <td>1.0</td>\n",
       "      <td>70</td>\n",
       "      <td>1.044776</td>\n",
       "      <td>355</td>\n",
       "      <td>1.047198</td>\n",
       "      <td>86507</td>\n",
       "      <td>1.161542</td>\n",
       "      <td>1</td>\n",
       "      <td>1.0</td>\n",
       "    </tr>\n",
       "    <tr>\n",
       "      <th>1</th>\n",
       "      <td>0</td>\n",
       "      <td>0.0</td>\n",
       "      <td>79</td>\n",
       "      <td>1.128571</td>\n",
       "      <td>379</td>\n",
       "      <td>1.046961</td>\n",
       "      <td>92120</td>\n",
       "      <td>1.137986</td>\n",
       "      <td>1</td>\n",
       "      <td>1.0</td>\n",
       "      <td>...</td>\n",
       "      <td>1</td>\n",
       "      <td>1.0</td>\n",
       "      <td>70</td>\n",
       "      <td>1.044776</td>\n",
       "      <td>355</td>\n",
       "      <td>1.047198</td>\n",
       "      <td>86507</td>\n",
       "      <td>1.161542</td>\n",
       "      <td>1</td>\n",
       "      <td>1.0</td>\n",
       "    </tr>\n",
       "    <tr>\n",
       "      <th>2</th>\n",
       "      <td>0</td>\n",
       "      <td>0.0</td>\n",
       "      <td>87</td>\n",
       "      <td>1.060976</td>\n",
       "      <td>264</td>\n",
       "      <td>1.068826</td>\n",
       "      <td>84129</td>\n",
       "      <td>1.126270</td>\n",
       "      <td>0</td>\n",
       "      <td>0.0</td>\n",
       "      <td>...</td>\n",
       "      <td>1</td>\n",
       "      <td>1.0</td>\n",
       "      <td>70</td>\n",
       "      <td>1.044776</td>\n",
       "      <td>355</td>\n",
       "      <td>1.047198</td>\n",
       "      <td>86507</td>\n",
       "      <td>1.161542</td>\n",
       "      <td>1</td>\n",
       "      <td>1.0</td>\n",
       "    </tr>\n",
       "  </tbody>\n",
       "</table>\n",
       "<p>3 rows × 34 columns</p>\n",
       "</div>"
      ],
      "text/plain": [
       "                        ventas_por_mes  variable_y_ventas_del_siguiente_mes  \\\n",
       "tiendaID skuID fechaID                                                        \n",
       "1        1     0                     0                                  0.0   \n",
       "               1                     0                                  0.0   \n",
       "               2                     0                                  0.0   \n",
       "\n",
       "                        ventas_totales_por_tienda_por_mes  \\\n",
       "tiendaID skuID fechaID                                      \n",
       "1        1     0                                       70   \n",
       "               1                                       79   \n",
       "               2                                       87   \n",
       "\n",
       "                        ventas_promedio_por_tienda_por_mes  \\\n",
       "tiendaID skuID fechaID                                       \n",
       "1        1     0                                  1.044776   \n",
       "               1                                  1.128571   \n",
       "               2                                  1.060976   \n",
       "\n",
       "                        ventas_totales_por_marca_por_mes  \\\n",
       "tiendaID skuID fechaID                                     \n",
       "1        1     0                                     355   \n",
       "               1                                     379   \n",
       "               2                                     264   \n",
       "\n",
       "                        ventas_promedio_por_marca_por_mes  \\\n",
       "tiendaID skuID fechaID                                      \n",
       "1        1     0                                 1.047198   \n",
       "               1                                 1.046961   \n",
       "               2                                 1.068826   \n",
       "\n",
       "                        ventas_totales_por_gamma_por_mes  \\\n",
       "tiendaID skuID fechaID                                     \n",
       "1        1     0                                   86507   \n",
       "               1                                   92120   \n",
       "               2                                   84129   \n",
       "\n",
       "                        ventas_promedio_por_gamma_por_mes  \\\n",
       "tiendaID skuID fechaID                                      \n",
       "1        1     0                                 1.161542   \n",
       "               1                                 1.137986   \n",
       "               2                                 1.126270   \n",
       "\n",
       "                        ventas_totales_por_sku_por_mes  \\\n",
       "tiendaID skuID fechaID                                   \n",
       "1        1     0                                     1   \n",
       "               1                                     1   \n",
       "               2                                     0   \n",
       "\n",
       "                        ventas_promedio_por_sku_por_mes  ...  \\\n",
       "tiendaID skuID fechaID                                   ...   \n",
       "1        1     0                                    1.0  ...   \n",
       "               1                                    1.0  ...   \n",
       "               2                                    0.0  ...   \n",
       "\n",
       "                        lag2mes_ventas_totales_por_sku_por_mes  \\\n",
       "tiendaID skuID fechaID                                           \n",
       "1        1     0                                             1   \n",
       "               1                                             1   \n",
       "               2                                             1   \n",
       "\n",
       "                        lag2mes_ventas_promedio_por_sku_por_mes  \\\n",
       "tiendaID skuID fechaID                                            \n",
       "1        1     0                                            1.0   \n",
       "               1                                            1.0   \n",
       "               2                                            1.0   \n",
       "\n",
       "                        lag3mes_ventas_totales_por_tienda_por_mes  \\\n",
       "tiendaID skuID fechaID                                              \n",
       "1        1     0                                               70   \n",
       "               1                                               70   \n",
       "               2                                               70   \n",
       "\n",
       "                        lag3mes_ventas_promedio_por_tienda_por_mes  \\\n",
       "tiendaID skuID fechaID                                               \n",
       "1        1     0                                          1.044776   \n",
       "               1                                          1.044776   \n",
       "               2                                          1.044776   \n",
       "\n",
       "                        lag3mes_ventas_totales_por_marca_por_mes  \\\n",
       "tiendaID skuID fechaID                                             \n",
       "1        1     0                                             355   \n",
       "               1                                             355   \n",
       "               2                                             355   \n",
       "\n",
       "                        lag3mes_entas_promedio_por_marca_por_mes  \\\n",
       "tiendaID skuID fechaID                                             \n",
       "1        1     0                                        1.047198   \n",
       "               1                                        1.047198   \n",
       "               2                                        1.047198   \n",
       "\n",
       "                        lag3mes_ventas_totales_por_gamma_por_mes  \\\n",
       "tiendaID skuID fechaID                                             \n",
       "1        1     0                                           86507   \n",
       "               1                                           86507   \n",
       "               2                                           86507   \n",
       "\n",
       "                        lag3mes_ventas_promedio_por_gamma_por_mes  \\\n",
       "tiendaID skuID fechaID                                              \n",
       "1        1     0                                         1.161542   \n",
       "               1                                         1.161542   \n",
       "               2                                         1.161542   \n",
       "\n",
       "                        lag3mes_ventas_totales_por_sku_por_mes  \\\n",
       "tiendaID skuID fechaID                                           \n",
       "1        1     0                                             1   \n",
       "               1                                             1   \n",
       "               2                                             1   \n",
       "\n",
       "                        lag3mes_ventas_promedio_por_sku_por_mes  \n",
       "tiendaID skuID fechaID                                           \n",
       "1        1     0                                            1.0  \n",
       "               1                                            1.0  \n",
       "               2                                            1.0  \n",
       "\n",
       "[3 rows x 34 columns]"
      ]
     },
     "execution_count": 65,
     "metadata": {},
     "output_type": "execute_result"
    }
   ],
   "source": [
    "entrenamiento_3.set_index(['tiendaID', 'skuID','fechaID'], inplace=True)\n",
    "entrenamiento_3.head(3)"
   ]
  },
  {
   "cell_type": "code",
   "execution_count": 66,
   "metadata": {},
   "outputs": [
    {
     "data": {
      "text/html": [
       "<div>\n",
       "<style scoped>\n",
       "    .dataframe tbody tr th:only-of-type {\n",
       "        vertical-align: middle;\n",
       "    }\n",
       "\n",
       "    .dataframe tbody tr th {\n",
       "        vertical-align: top;\n",
       "    }\n",
       "\n",
       "    .dataframe thead th {\n",
       "        text-align: right;\n",
       "    }\n",
       "</style>\n",
       "<table border=\"1\" class=\"dataframe\">\n",
       "  <thead>\n",
       "    <tr style=\"text-align: right;\">\n",
       "      <th></th>\n",
       "      <th></th>\n",
       "      <th></th>\n",
       "      <th>ventas_por_mes</th>\n",
       "      <th>variable_y_ventas_del_siguiente_mes</th>\n",
       "      <th>ventas_totales_por_tienda_por_mes</th>\n",
       "      <th>ventas_promedio_por_tienda_por_mes</th>\n",
       "      <th>ventas_totales_por_marca_por_mes</th>\n",
       "      <th>ventas_promedio_por_marca_por_mes</th>\n",
       "      <th>ventas_totales_por_gamma_por_mes</th>\n",
       "      <th>ventas_promedio_por_gamma_por_mes</th>\n",
       "      <th>ventas_totales_por_sku_por_mes</th>\n",
       "      <th>ventas_promedio_por_sku_por_mes</th>\n",
       "      <th>...</th>\n",
       "      <th>lag2mes_ventas_totales_por_sku_por_mes</th>\n",
       "      <th>lag2mes_ventas_promedio_por_sku_por_mes</th>\n",
       "      <th>lag3mes_ventas_totales_por_tienda_por_mes</th>\n",
       "      <th>lag3mes_ventas_promedio_por_tienda_por_mes</th>\n",
       "      <th>lag3mes_ventas_totales_por_marca_por_mes</th>\n",
       "      <th>lag3mes_entas_promedio_por_marca_por_mes</th>\n",
       "      <th>lag3mes_ventas_totales_por_gamma_por_mes</th>\n",
       "      <th>lag3mes_ventas_promedio_por_gamma_por_mes</th>\n",
       "      <th>lag3mes_ventas_totales_por_sku_por_mes</th>\n",
       "      <th>lag3mes_ventas_promedio_por_sku_por_mes</th>\n",
       "    </tr>\n",
       "    <tr>\n",
       "      <th>tiendaID</th>\n",
       "      <th>skuID</th>\n",
       "      <th>fechaID</th>\n",
       "      <th></th>\n",
       "      <th></th>\n",
       "      <th></th>\n",
       "      <th></th>\n",
       "      <th></th>\n",
       "      <th></th>\n",
       "      <th></th>\n",
       "      <th></th>\n",
       "      <th></th>\n",
       "      <th></th>\n",
       "      <th></th>\n",
       "      <th></th>\n",
       "      <th></th>\n",
       "      <th></th>\n",
       "      <th></th>\n",
       "      <th></th>\n",
       "      <th></th>\n",
       "      <th></th>\n",
       "      <th></th>\n",
       "      <th></th>\n",
       "      <th></th>\n",
       "    </tr>\n",
       "  </thead>\n",
       "  <tbody>\n",
       "    <tr>\n",
       "      <th>1</th>\n",
       "      <th>1</th>\n",
       "      <th>3</th>\n",
       "      <td>0</td>\n",
       "      <td>0.0</td>\n",
       "      <td>75</td>\n",
       "      <td>1.041667</td>\n",
       "      <td>136</td>\n",
       "      <td>1.079365</td>\n",
       "      <td>73612</td>\n",
       "      <td>1.110521</td>\n",
       "      <td>0</td>\n",
       "      <td>0.0</td>\n",
       "      <td>...</td>\n",
       "      <td>1</td>\n",
       "      <td>1.0</td>\n",
       "      <td>70</td>\n",
       "      <td>1.044776</td>\n",
       "      <td>355</td>\n",
       "      <td>1.047198</td>\n",
       "      <td>86507</td>\n",
       "      <td>1.161542</td>\n",
       "      <td>1</td>\n",
       "      <td>1.0</td>\n",
       "    </tr>\n",
       "    <tr>\n",
       "      <th>2</th>\n",
       "      <th>1</th>\n",
       "      <th>3</th>\n",
       "      <td>0</td>\n",
       "      <td>0.0</td>\n",
       "      <td>22</td>\n",
       "      <td>1.047619</td>\n",
       "      <td>136</td>\n",
       "      <td>1.079365</td>\n",
       "      <td>73612</td>\n",
       "      <td>1.110521</td>\n",
       "      <td>0</td>\n",
       "      <td>0.0</td>\n",
       "      <td>...</td>\n",
       "      <td>1</td>\n",
       "      <td>1.0</td>\n",
       "      <td>14</td>\n",
       "      <td>1.076923</td>\n",
       "      <td>355</td>\n",
       "      <td>1.047198</td>\n",
       "      <td>86507</td>\n",
       "      <td>1.161542</td>\n",
       "      <td>1</td>\n",
       "      <td>1.0</td>\n",
       "    </tr>\n",
       "    <tr>\n",
       "      <th>3</th>\n",
       "      <th>1</th>\n",
       "      <th>3</th>\n",
       "      <td>0</td>\n",
       "      <td>0.0</td>\n",
       "      <td>32</td>\n",
       "      <td>1.000000</td>\n",
       "      <td>136</td>\n",
       "      <td>1.079365</td>\n",
       "      <td>73612</td>\n",
       "      <td>1.110521</td>\n",
       "      <td>0</td>\n",
       "      <td>0.0</td>\n",
       "      <td>...</td>\n",
       "      <td>1</td>\n",
       "      <td>1.0</td>\n",
       "      <td>24</td>\n",
       "      <td>1.000000</td>\n",
       "      <td>355</td>\n",
       "      <td>1.047198</td>\n",
       "      <td>86507</td>\n",
       "      <td>1.161542</td>\n",
       "      <td>1</td>\n",
       "      <td>1.0</td>\n",
       "    </tr>\n",
       "  </tbody>\n",
       "</table>\n",
       "<p>3 rows × 34 columns</p>\n",
       "</div>"
      ],
      "text/plain": [
       "                        ventas_por_mes  variable_y_ventas_del_siguiente_mes  \\\n",
       "tiendaID skuID fechaID                                                        \n",
       "1        1     3                     0                                  0.0   \n",
       "2        1     3                     0                                  0.0   \n",
       "3        1     3                     0                                  0.0   \n",
       "\n",
       "                        ventas_totales_por_tienda_por_mes  \\\n",
       "tiendaID skuID fechaID                                      \n",
       "1        1     3                                       75   \n",
       "2        1     3                                       22   \n",
       "3        1     3                                       32   \n",
       "\n",
       "                        ventas_promedio_por_tienda_por_mes  \\\n",
       "tiendaID skuID fechaID                                       \n",
       "1        1     3                                  1.041667   \n",
       "2        1     3                                  1.047619   \n",
       "3        1     3                                  1.000000   \n",
       "\n",
       "                        ventas_totales_por_marca_por_mes  \\\n",
       "tiendaID skuID fechaID                                     \n",
       "1        1     3                                     136   \n",
       "2        1     3                                     136   \n",
       "3        1     3                                     136   \n",
       "\n",
       "                        ventas_promedio_por_marca_por_mes  \\\n",
       "tiendaID skuID fechaID                                      \n",
       "1        1     3                                 1.079365   \n",
       "2        1     3                                 1.079365   \n",
       "3        1     3                                 1.079365   \n",
       "\n",
       "                        ventas_totales_por_gamma_por_mes  \\\n",
       "tiendaID skuID fechaID                                     \n",
       "1        1     3                                   73612   \n",
       "2        1     3                                   73612   \n",
       "3        1     3                                   73612   \n",
       "\n",
       "                        ventas_promedio_por_gamma_por_mes  \\\n",
       "tiendaID skuID fechaID                                      \n",
       "1        1     3                                 1.110521   \n",
       "2        1     3                                 1.110521   \n",
       "3        1     3                                 1.110521   \n",
       "\n",
       "                        ventas_totales_por_sku_por_mes  \\\n",
       "tiendaID skuID fechaID                                   \n",
       "1        1     3                                     0   \n",
       "2        1     3                                     0   \n",
       "3        1     3                                     0   \n",
       "\n",
       "                        ventas_promedio_por_sku_por_mes  ...  \\\n",
       "tiendaID skuID fechaID                                   ...   \n",
       "1        1     3                                    0.0  ...   \n",
       "2        1     3                                    0.0  ...   \n",
       "3        1     3                                    0.0  ...   \n",
       "\n",
       "                        lag2mes_ventas_totales_por_sku_por_mes  \\\n",
       "tiendaID skuID fechaID                                           \n",
       "1        1     3                                             1   \n",
       "2        1     3                                             1   \n",
       "3        1     3                                             1   \n",
       "\n",
       "                        lag2mes_ventas_promedio_por_sku_por_mes  \\\n",
       "tiendaID skuID fechaID                                            \n",
       "1        1     3                                            1.0   \n",
       "2        1     3                                            1.0   \n",
       "3        1     3                                            1.0   \n",
       "\n",
       "                        lag3mes_ventas_totales_por_tienda_por_mes  \\\n",
       "tiendaID skuID fechaID                                              \n",
       "1        1     3                                               70   \n",
       "2        1     3                                               14   \n",
       "3        1     3                                               24   \n",
       "\n",
       "                        lag3mes_ventas_promedio_por_tienda_por_mes  \\\n",
       "tiendaID skuID fechaID                                               \n",
       "1        1     3                                          1.044776   \n",
       "2        1     3                                          1.076923   \n",
       "3        1     3                                          1.000000   \n",
       "\n",
       "                        lag3mes_ventas_totales_por_marca_por_mes  \\\n",
       "tiendaID skuID fechaID                                             \n",
       "1        1     3                                             355   \n",
       "2        1     3                                             355   \n",
       "3        1     3                                             355   \n",
       "\n",
       "                        lag3mes_entas_promedio_por_marca_por_mes  \\\n",
       "tiendaID skuID fechaID                                             \n",
       "1        1     3                                        1.047198   \n",
       "2        1     3                                        1.047198   \n",
       "3        1     3                                        1.047198   \n",
       "\n",
       "                        lag3mes_ventas_totales_por_gamma_por_mes  \\\n",
       "tiendaID skuID fechaID                                             \n",
       "1        1     3                                           86507   \n",
       "2        1     3                                           86507   \n",
       "3        1     3                                           86507   \n",
       "\n",
       "                        lag3mes_ventas_promedio_por_gamma_por_mes  \\\n",
       "tiendaID skuID fechaID                                              \n",
       "1        1     3                                         1.161542   \n",
       "2        1     3                                         1.161542   \n",
       "3        1     3                                         1.161542   \n",
       "\n",
       "                        lag3mes_ventas_totales_por_sku_por_mes  \\\n",
       "tiendaID skuID fechaID                                           \n",
       "1        1     3                                             1   \n",
       "2        1     3                                             1   \n",
       "3        1     3                                             1   \n",
       "\n",
       "                        lag3mes_ventas_promedio_por_sku_por_mes  \n",
       "tiendaID skuID fechaID                                           \n",
       "1        1     3                                            1.0  \n",
       "2        1     3                                            1.0  \n",
       "3        1     3                                            1.0  \n",
       "\n",
       "[3 rows x 34 columns]"
      ]
     },
     "execution_count": 66,
     "metadata": {},
     "output_type": "execute_result"
    }
   ],
   "source": [
    "prueba_3.set_index(['tiendaID', 'skuID','fechaID'], inplace=True)\n",
    "prueba_3.head(3)"
   ]
  },
  {
   "cell_type": "code",
   "execution_count": 67,
   "metadata": {},
   "outputs": [],
   "source": [
    "#Dividir x y y del conjunto de entrenamiento \n",
    "x_3 = entrenamiento_3.iloc[:, entrenamiento_3.columns != 'variable_y_ventas_del_siguiente_mes']\n",
    "y_3 = entrenamiento_3.iloc[:, entrenamiento_3.columns == 'variable_y_ventas_del_siguiente_mes']"
   ]
  },
  {
   "cell_type": "code",
   "execution_count": 68,
   "metadata": {},
   "outputs": [],
   "source": [
    "#Dividir en x y y el conjunyo de prueba\n",
    "prueba_x_3= prueba_3.iloc[:, prueba_3.columns != 'variable_y_ventas_del_siguiente_mes']\n",
    "prueba_y_3= prueba_3.iloc[:, prueba_3.columns == 'variable_y_ventas_del_siguiente_mes']"
   ]
  },
  {
   "cell_type": "markdown",
   "metadata": {},
   "source": [
    "# <font color='darkblue'>-.-.-.-.-.-.-.-.-.-.-.-.-.-.-.-.-.-.-.-.-.-.-.-.-.-.-.-.-.-.-.-.-.-.-.-..-.-.-.-.-.-.-.-.-.-.-.-.-..-.-.-.-.-.-.-.-.-.-.-.-.-..-.-.-.-.-.-.-.-.-.-.-.-.-.-.-.-.- </font>"
   ]
  },
  {
   "cell_type": "markdown",
   "metadata": {},
   "source": [
    "## 4. Cuarta división: \n",
    "#### Entrenamiento: fechaID=0,1,2,3 (mes junio julio agosto septiembre) - y: ventas octubre\n",
    "#### Prueba: fechaID=4 (mes octubre) - y:ventas noviembre"
   ]
  },
  {
   "cell_type": "code",
   "execution_count": 10,
   "metadata": {},
   "outputs": [
    {
     "name": "stdout",
     "output_type": "stream",
     "text": [
      "Entrenar con los meses de Junio,Julio,Agosto y Septiembre cuyos índices son: 0 1 2 3\n",
      "Probar con el mes de octubre cuyo índice es: 4\n"
     ]
    }
   ],
   "source": [
    "#Límites para cortar conjuntos en dattos\n",
    "entrenamiento_junjulagosep_para_predecir_octubre = mes[3]\n",
    "prueba_octubre_para_predecir_en_noviembre = mes[4]\n",
    "\n",
    "print('Entrenar con los meses de Junio,Julio,Agosto y Septiembre cuyos índices son:', \"0\",\"1\",\"2\",entrenamiento_junjulagosep_para_predecir_octubre)\n",
    "print('Probar con el mes de octubre cuyo índice es:', prueba_octubre_para_predecir_en_noviembre)"
   ]
  },
  {
   "cell_type": "code",
   "execution_count": 11,
   "metadata": {},
   "outputs": [
    {
     "data": {
      "text/plain": [
       "(3474380, 37)"
      ]
     },
     "execution_count": 11,
     "metadata": {},
     "output_type": "execute_result"
    }
   ],
   "source": [
    "#dividir el archivo en entrenamiento y prueba\n",
    "entrenamiento_4 = datos_modelo[datos_modelo['fechaID']<=entrenamiento_junjulagosep_para_predecir_octubre]\n",
    "#entrenamiento_4.head(2)\n",
    "entrenamiento_4.shape"
   ]
  },
  {
   "cell_type": "code",
   "execution_count": 12,
   "metadata": {},
   "outputs": [
    {
     "data": {
      "text/plain": [
       "(868595, 37)"
      ]
     },
     "execution_count": 12,
     "metadata": {},
     "output_type": "execute_result"
    }
   ],
   "source": [
    "prueba_4 = datos_modelo[datos_modelo['fechaID']==prueba_octubre_para_predecir_en_noviembre]\n",
    "#prueba_4.head(2)\n",
    "prueba_4.shape"
   ]
  },
  {
   "cell_type": "code",
   "execution_count": 13,
   "metadata": {},
   "outputs": [
    {
     "data": {
      "text/html": [
       "<div>\n",
       "<style scoped>\n",
       "    .dataframe tbody tr th:only-of-type {\n",
       "        vertical-align: middle;\n",
       "    }\n",
       "\n",
       "    .dataframe tbody tr th {\n",
       "        vertical-align: top;\n",
       "    }\n",
       "\n",
       "    .dataframe thead th {\n",
       "        text-align: right;\n",
       "    }\n",
       "</style>\n",
       "<table border=\"1\" class=\"dataframe\">\n",
       "  <thead>\n",
       "    <tr style=\"text-align: right;\">\n",
       "      <th></th>\n",
       "      <th></th>\n",
       "      <th></th>\n",
       "      <th>ventas_por_mes</th>\n",
       "      <th>variable_y_ventas_del_siguiente_mes</th>\n",
       "      <th>ventas_totales_por_tienda_por_mes</th>\n",
       "      <th>ventas_promedio_por_tienda_por_mes</th>\n",
       "      <th>ventas_totales_por_marca_por_mes</th>\n",
       "      <th>ventas_promedio_por_marca_por_mes</th>\n",
       "      <th>ventas_totales_por_gamma_por_mes</th>\n",
       "      <th>ventas_promedio_por_gamma_por_mes</th>\n",
       "      <th>ventas_totales_por_sku_por_mes</th>\n",
       "      <th>ventas_promedio_por_sku_por_mes</th>\n",
       "      <th>...</th>\n",
       "      <th>lag2mes_ventas_totales_por_sku_por_mes</th>\n",
       "      <th>lag2mes_ventas_promedio_por_sku_por_mes</th>\n",
       "      <th>lag3mes_ventas_totales_por_tienda_por_mes</th>\n",
       "      <th>lag3mes_ventas_promedio_por_tienda_por_mes</th>\n",
       "      <th>lag3mes_ventas_totales_por_marca_por_mes</th>\n",
       "      <th>lag3mes_entas_promedio_por_marca_por_mes</th>\n",
       "      <th>lag3mes_ventas_totales_por_gamma_por_mes</th>\n",
       "      <th>lag3mes_ventas_promedio_por_gamma_por_mes</th>\n",
       "      <th>lag3mes_ventas_totales_por_sku_por_mes</th>\n",
       "      <th>lag3mes_ventas_promedio_por_sku_por_mes</th>\n",
       "    </tr>\n",
       "    <tr>\n",
       "      <th>tiendaID</th>\n",
       "      <th>skuID</th>\n",
       "      <th>fechaID</th>\n",
       "      <th></th>\n",
       "      <th></th>\n",
       "      <th></th>\n",
       "      <th></th>\n",
       "      <th></th>\n",
       "      <th></th>\n",
       "      <th></th>\n",
       "      <th></th>\n",
       "      <th></th>\n",
       "      <th></th>\n",
       "      <th></th>\n",
       "      <th></th>\n",
       "      <th></th>\n",
       "      <th></th>\n",
       "      <th></th>\n",
       "      <th></th>\n",
       "      <th></th>\n",
       "      <th></th>\n",
       "      <th></th>\n",
       "      <th></th>\n",
       "      <th></th>\n",
       "    </tr>\n",
       "  </thead>\n",
       "  <tbody>\n",
       "    <tr>\n",
       "      <th rowspan=\"4\" valign=\"top\">1</th>\n",
       "      <th rowspan=\"4\" valign=\"top\">1</th>\n",
       "      <th>0</th>\n",
       "      <td>0</td>\n",
       "      <td>0.0</td>\n",
       "      <td>70</td>\n",
       "      <td>1.044776</td>\n",
       "      <td>355</td>\n",
       "      <td>1.047198</td>\n",
       "      <td>86507</td>\n",
       "      <td>1.161542</td>\n",
       "      <td>1</td>\n",
       "      <td>1.0</td>\n",
       "      <td>...</td>\n",
       "      <td>1</td>\n",
       "      <td>1.0</td>\n",
       "      <td>70</td>\n",
       "      <td>1.044776</td>\n",
       "      <td>355</td>\n",
       "      <td>1.047198</td>\n",
       "      <td>86507</td>\n",
       "      <td>1.161542</td>\n",
       "      <td>1</td>\n",
       "      <td>1.0</td>\n",
       "    </tr>\n",
       "    <tr>\n",
       "      <th>1</th>\n",
       "      <td>0</td>\n",
       "      <td>0.0</td>\n",
       "      <td>79</td>\n",
       "      <td>1.128571</td>\n",
       "      <td>379</td>\n",
       "      <td>1.046961</td>\n",
       "      <td>92120</td>\n",
       "      <td>1.137986</td>\n",
       "      <td>1</td>\n",
       "      <td>1.0</td>\n",
       "      <td>...</td>\n",
       "      <td>1</td>\n",
       "      <td>1.0</td>\n",
       "      <td>70</td>\n",
       "      <td>1.044776</td>\n",
       "      <td>355</td>\n",
       "      <td>1.047198</td>\n",
       "      <td>86507</td>\n",
       "      <td>1.161542</td>\n",
       "      <td>1</td>\n",
       "      <td>1.0</td>\n",
       "    </tr>\n",
       "    <tr>\n",
       "      <th>2</th>\n",
       "      <td>0</td>\n",
       "      <td>0.0</td>\n",
       "      <td>87</td>\n",
       "      <td>1.060976</td>\n",
       "      <td>264</td>\n",
       "      <td>1.068826</td>\n",
       "      <td>84129</td>\n",
       "      <td>1.126270</td>\n",
       "      <td>0</td>\n",
       "      <td>0.0</td>\n",
       "      <td>...</td>\n",
       "      <td>1</td>\n",
       "      <td>1.0</td>\n",
       "      <td>70</td>\n",
       "      <td>1.044776</td>\n",
       "      <td>355</td>\n",
       "      <td>1.047198</td>\n",
       "      <td>86507</td>\n",
       "      <td>1.161542</td>\n",
       "      <td>1</td>\n",
       "      <td>1.0</td>\n",
       "    </tr>\n",
       "    <tr>\n",
       "      <th>3</th>\n",
       "      <td>0</td>\n",
       "      <td>0.0</td>\n",
       "      <td>75</td>\n",
       "      <td>1.041667</td>\n",
       "      <td>136</td>\n",
       "      <td>1.079365</td>\n",
       "      <td>73612</td>\n",
       "      <td>1.110521</td>\n",
       "      <td>0</td>\n",
       "      <td>0.0</td>\n",
       "      <td>...</td>\n",
       "      <td>1</td>\n",
       "      <td>1.0</td>\n",
       "      <td>70</td>\n",
       "      <td>1.044776</td>\n",
       "      <td>355</td>\n",
       "      <td>1.047198</td>\n",
       "      <td>86507</td>\n",
       "      <td>1.161542</td>\n",
       "      <td>1</td>\n",
       "      <td>1.0</td>\n",
       "    </tr>\n",
       "  </tbody>\n",
       "</table>\n",
       "<p>4 rows × 34 columns</p>\n",
       "</div>"
      ],
      "text/plain": [
       "                        ventas_por_mes  variable_y_ventas_del_siguiente_mes  \\\n",
       "tiendaID skuID fechaID                                                        \n",
       "1        1     0                     0                                  0.0   \n",
       "               1                     0                                  0.0   \n",
       "               2                     0                                  0.0   \n",
       "               3                     0                                  0.0   \n",
       "\n",
       "                        ventas_totales_por_tienda_por_mes  \\\n",
       "tiendaID skuID fechaID                                      \n",
       "1        1     0                                       70   \n",
       "               1                                       79   \n",
       "               2                                       87   \n",
       "               3                                       75   \n",
       "\n",
       "                        ventas_promedio_por_tienda_por_mes  \\\n",
       "tiendaID skuID fechaID                                       \n",
       "1        1     0                                  1.044776   \n",
       "               1                                  1.128571   \n",
       "               2                                  1.060976   \n",
       "               3                                  1.041667   \n",
       "\n",
       "                        ventas_totales_por_marca_por_mes  \\\n",
       "tiendaID skuID fechaID                                     \n",
       "1        1     0                                     355   \n",
       "               1                                     379   \n",
       "               2                                     264   \n",
       "               3                                     136   \n",
       "\n",
       "                        ventas_promedio_por_marca_por_mes  \\\n",
       "tiendaID skuID fechaID                                      \n",
       "1        1     0                                 1.047198   \n",
       "               1                                 1.046961   \n",
       "               2                                 1.068826   \n",
       "               3                                 1.079365   \n",
       "\n",
       "                        ventas_totales_por_gamma_por_mes  \\\n",
       "tiendaID skuID fechaID                                     \n",
       "1        1     0                                   86507   \n",
       "               1                                   92120   \n",
       "               2                                   84129   \n",
       "               3                                   73612   \n",
       "\n",
       "                        ventas_promedio_por_gamma_por_mes  \\\n",
       "tiendaID skuID fechaID                                      \n",
       "1        1     0                                 1.161542   \n",
       "               1                                 1.137986   \n",
       "               2                                 1.126270   \n",
       "               3                                 1.110521   \n",
       "\n",
       "                        ventas_totales_por_sku_por_mes  \\\n",
       "tiendaID skuID fechaID                                   \n",
       "1        1     0                                     1   \n",
       "               1                                     1   \n",
       "               2                                     0   \n",
       "               3                                     0   \n",
       "\n",
       "                        ventas_promedio_por_sku_por_mes  ...  \\\n",
       "tiendaID skuID fechaID                                   ...   \n",
       "1        1     0                                    1.0  ...   \n",
       "               1                                    1.0  ...   \n",
       "               2                                    0.0  ...   \n",
       "               3                                    0.0  ...   \n",
       "\n",
       "                        lag2mes_ventas_totales_por_sku_por_mes  \\\n",
       "tiendaID skuID fechaID                                           \n",
       "1        1     0                                             1   \n",
       "               1                                             1   \n",
       "               2                                             1   \n",
       "               3                                             1   \n",
       "\n",
       "                        lag2mes_ventas_promedio_por_sku_por_mes  \\\n",
       "tiendaID skuID fechaID                                            \n",
       "1        1     0                                            1.0   \n",
       "               1                                            1.0   \n",
       "               2                                            1.0   \n",
       "               3                                            1.0   \n",
       "\n",
       "                        lag3mes_ventas_totales_por_tienda_por_mes  \\\n",
       "tiendaID skuID fechaID                                              \n",
       "1        1     0                                               70   \n",
       "               1                                               70   \n",
       "               2                                               70   \n",
       "               3                                               70   \n",
       "\n",
       "                        lag3mes_ventas_promedio_por_tienda_por_mes  \\\n",
       "tiendaID skuID fechaID                                               \n",
       "1        1     0                                          1.044776   \n",
       "               1                                          1.044776   \n",
       "               2                                          1.044776   \n",
       "               3                                          1.044776   \n",
       "\n",
       "                        lag3mes_ventas_totales_por_marca_por_mes  \\\n",
       "tiendaID skuID fechaID                                             \n",
       "1        1     0                                             355   \n",
       "               1                                             355   \n",
       "               2                                             355   \n",
       "               3                                             355   \n",
       "\n",
       "                        lag3mes_entas_promedio_por_marca_por_mes  \\\n",
       "tiendaID skuID fechaID                                             \n",
       "1        1     0                                        1.047198   \n",
       "               1                                        1.047198   \n",
       "               2                                        1.047198   \n",
       "               3                                        1.047198   \n",
       "\n",
       "                        lag3mes_ventas_totales_por_gamma_por_mes  \\\n",
       "tiendaID skuID fechaID                                             \n",
       "1        1     0                                           86507   \n",
       "               1                                           86507   \n",
       "               2                                           86507   \n",
       "               3                                           86507   \n",
       "\n",
       "                        lag3mes_ventas_promedio_por_gamma_por_mes  \\\n",
       "tiendaID skuID fechaID                                              \n",
       "1        1     0                                         1.161542   \n",
       "               1                                         1.161542   \n",
       "               2                                         1.161542   \n",
       "               3                                         1.161542   \n",
       "\n",
       "                        lag3mes_ventas_totales_por_sku_por_mes  \\\n",
       "tiendaID skuID fechaID                                           \n",
       "1        1     0                                             1   \n",
       "               1                                             1   \n",
       "               2                                             1   \n",
       "               3                                             1   \n",
       "\n",
       "                        lag3mes_ventas_promedio_por_sku_por_mes  \n",
       "tiendaID skuID fechaID                                           \n",
       "1        1     0                                            1.0  \n",
       "               1                                            1.0  \n",
       "               2                                            1.0  \n",
       "               3                                            1.0  \n",
       "\n",
       "[4 rows x 34 columns]"
      ]
     },
     "execution_count": 13,
     "metadata": {},
     "output_type": "execute_result"
    }
   ],
   "source": [
    "entrenamiento_4.set_index(['tiendaID', 'skuID','fechaID'], inplace=True)\n",
    "entrenamiento_4.head(4)"
   ]
  },
  {
   "cell_type": "code",
   "execution_count": 14,
   "metadata": {},
   "outputs": [
    {
     "data": {
      "text/html": [
       "<div>\n",
       "<style scoped>\n",
       "    .dataframe tbody tr th:only-of-type {\n",
       "        vertical-align: middle;\n",
       "    }\n",
       "\n",
       "    .dataframe tbody tr th {\n",
       "        vertical-align: top;\n",
       "    }\n",
       "\n",
       "    .dataframe thead th {\n",
       "        text-align: right;\n",
       "    }\n",
       "</style>\n",
       "<table border=\"1\" class=\"dataframe\">\n",
       "  <thead>\n",
       "    <tr style=\"text-align: right;\">\n",
       "      <th></th>\n",
       "      <th></th>\n",
       "      <th></th>\n",
       "      <th>ventas_por_mes</th>\n",
       "      <th>variable_y_ventas_del_siguiente_mes</th>\n",
       "      <th>ventas_totales_por_tienda_por_mes</th>\n",
       "      <th>ventas_promedio_por_tienda_por_mes</th>\n",
       "      <th>ventas_totales_por_marca_por_mes</th>\n",
       "      <th>ventas_promedio_por_marca_por_mes</th>\n",
       "      <th>ventas_totales_por_gamma_por_mes</th>\n",
       "      <th>ventas_promedio_por_gamma_por_mes</th>\n",
       "      <th>ventas_totales_por_sku_por_mes</th>\n",
       "      <th>ventas_promedio_por_sku_por_mes</th>\n",
       "      <th>...</th>\n",
       "      <th>lag2mes_ventas_totales_por_sku_por_mes</th>\n",
       "      <th>lag2mes_ventas_promedio_por_sku_por_mes</th>\n",
       "      <th>lag3mes_ventas_totales_por_tienda_por_mes</th>\n",
       "      <th>lag3mes_ventas_promedio_por_tienda_por_mes</th>\n",
       "      <th>lag3mes_ventas_totales_por_marca_por_mes</th>\n",
       "      <th>lag3mes_entas_promedio_por_marca_por_mes</th>\n",
       "      <th>lag3mes_ventas_totales_por_gamma_por_mes</th>\n",
       "      <th>lag3mes_ventas_promedio_por_gamma_por_mes</th>\n",
       "      <th>lag3mes_ventas_totales_por_sku_por_mes</th>\n",
       "      <th>lag3mes_ventas_promedio_por_sku_por_mes</th>\n",
       "    </tr>\n",
       "    <tr>\n",
       "      <th>tiendaID</th>\n",
       "      <th>skuID</th>\n",
       "      <th>fechaID</th>\n",
       "      <th></th>\n",
       "      <th></th>\n",
       "      <th></th>\n",
       "      <th></th>\n",
       "      <th></th>\n",
       "      <th></th>\n",
       "      <th></th>\n",
       "      <th></th>\n",
       "      <th></th>\n",
       "      <th></th>\n",
       "      <th></th>\n",
       "      <th></th>\n",
       "      <th></th>\n",
       "      <th></th>\n",
       "      <th></th>\n",
       "      <th></th>\n",
       "      <th></th>\n",
       "      <th></th>\n",
       "      <th></th>\n",
       "      <th></th>\n",
       "      <th></th>\n",
       "    </tr>\n",
       "  </thead>\n",
       "  <tbody>\n",
       "    <tr>\n",
       "      <th>1</th>\n",
       "      <th>1</th>\n",
       "      <th>4</th>\n",
       "      <td>0</td>\n",
       "      <td>0.0</td>\n",
       "      <td>77</td>\n",
       "      <td>1.026667</td>\n",
       "      <td>86</td>\n",
       "      <td>1.088608</td>\n",
       "      <td>67113</td>\n",
       "      <td>1.103143</td>\n",
       "      <td>0</td>\n",
       "      <td>0.0</td>\n",
       "      <td>...</td>\n",
       "      <td>0</td>\n",
       "      <td>0.0</td>\n",
       "      <td>79</td>\n",
       "      <td>1.128571</td>\n",
       "      <td>379</td>\n",
       "      <td>1.046961</td>\n",
       "      <td>92120</td>\n",
       "      <td>1.137986</td>\n",
       "      <td>1</td>\n",
       "      <td>1.0</td>\n",
       "    </tr>\n",
       "    <tr>\n",
       "      <th>2</th>\n",
       "      <th>1</th>\n",
       "      <th>4</th>\n",
       "      <td>0</td>\n",
       "      <td>0.0</td>\n",
       "      <td>9</td>\n",
       "      <td>1.125000</td>\n",
       "      <td>86</td>\n",
       "      <td>1.088608</td>\n",
       "      <td>67113</td>\n",
       "      <td>1.103143</td>\n",
       "      <td>0</td>\n",
       "      <td>0.0</td>\n",
       "      <td>...</td>\n",
       "      <td>0</td>\n",
       "      <td>0.0</td>\n",
       "      <td>24</td>\n",
       "      <td>1.043478</td>\n",
       "      <td>379</td>\n",
       "      <td>1.046961</td>\n",
       "      <td>92120</td>\n",
       "      <td>1.137986</td>\n",
       "      <td>1</td>\n",
       "      <td>1.0</td>\n",
       "    </tr>\n",
       "  </tbody>\n",
       "</table>\n",
       "<p>2 rows × 34 columns</p>\n",
       "</div>"
      ],
      "text/plain": [
       "                        ventas_por_mes  variable_y_ventas_del_siguiente_mes  \\\n",
       "tiendaID skuID fechaID                                                        \n",
       "1        1     4                     0                                  0.0   \n",
       "2        1     4                     0                                  0.0   \n",
       "\n",
       "                        ventas_totales_por_tienda_por_mes  \\\n",
       "tiendaID skuID fechaID                                      \n",
       "1        1     4                                       77   \n",
       "2        1     4                                        9   \n",
       "\n",
       "                        ventas_promedio_por_tienda_por_mes  \\\n",
       "tiendaID skuID fechaID                                       \n",
       "1        1     4                                  1.026667   \n",
       "2        1     4                                  1.125000   \n",
       "\n",
       "                        ventas_totales_por_marca_por_mes  \\\n",
       "tiendaID skuID fechaID                                     \n",
       "1        1     4                                      86   \n",
       "2        1     4                                      86   \n",
       "\n",
       "                        ventas_promedio_por_marca_por_mes  \\\n",
       "tiendaID skuID fechaID                                      \n",
       "1        1     4                                 1.088608   \n",
       "2        1     4                                 1.088608   \n",
       "\n",
       "                        ventas_totales_por_gamma_por_mes  \\\n",
       "tiendaID skuID fechaID                                     \n",
       "1        1     4                                   67113   \n",
       "2        1     4                                   67113   \n",
       "\n",
       "                        ventas_promedio_por_gamma_por_mes  \\\n",
       "tiendaID skuID fechaID                                      \n",
       "1        1     4                                 1.103143   \n",
       "2        1     4                                 1.103143   \n",
       "\n",
       "                        ventas_totales_por_sku_por_mes  \\\n",
       "tiendaID skuID fechaID                                   \n",
       "1        1     4                                     0   \n",
       "2        1     4                                     0   \n",
       "\n",
       "                        ventas_promedio_por_sku_por_mes  ...  \\\n",
       "tiendaID skuID fechaID                                   ...   \n",
       "1        1     4                                    0.0  ...   \n",
       "2        1     4                                    0.0  ...   \n",
       "\n",
       "                        lag2mes_ventas_totales_por_sku_por_mes  \\\n",
       "tiendaID skuID fechaID                                           \n",
       "1        1     4                                             0   \n",
       "2        1     4                                             0   \n",
       "\n",
       "                        lag2mes_ventas_promedio_por_sku_por_mes  \\\n",
       "tiendaID skuID fechaID                                            \n",
       "1        1     4                                            0.0   \n",
       "2        1     4                                            0.0   \n",
       "\n",
       "                        lag3mes_ventas_totales_por_tienda_por_mes  \\\n",
       "tiendaID skuID fechaID                                              \n",
       "1        1     4                                               79   \n",
       "2        1     4                                               24   \n",
       "\n",
       "                        lag3mes_ventas_promedio_por_tienda_por_mes  \\\n",
       "tiendaID skuID fechaID                                               \n",
       "1        1     4                                          1.128571   \n",
       "2        1     4                                          1.043478   \n",
       "\n",
       "                        lag3mes_ventas_totales_por_marca_por_mes  \\\n",
       "tiendaID skuID fechaID                                             \n",
       "1        1     4                                             379   \n",
       "2        1     4                                             379   \n",
       "\n",
       "                        lag3mes_entas_promedio_por_marca_por_mes  \\\n",
       "tiendaID skuID fechaID                                             \n",
       "1        1     4                                        1.046961   \n",
       "2        1     4                                        1.046961   \n",
       "\n",
       "                        lag3mes_ventas_totales_por_gamma_por_mes  \\\n",
       "tiendaID skuID fechaID                                             \n",
       "1        1     4                                           92120   \n",
       "2        1     4                                           92120   \n",
       "\n",
       "                        lag3mes_ventas_promedio_por_gamma_por_mes  \\\n",
       "tiendaID skuID fechaID                                              \n",
       "1        1     4                                         1.137986   \n",
       "2        1     4                                         1.137986   \n",
       "\n",
       "                        lag3mes_ventas_totales_por_sku_por_mes  \\\n",
       "tiendaID skuID fechaID                                           \n",
       "1        1     4                                             1   \n",
       "2        1     4                                             1   \n",
       "\n",
       "                        lag3mes_ventas_promedio_por_sku_por_mes  \n",
       "tiendaID skuID fechaID                                           \n",
       "1        1     4                                            1.0  \n",
       "2        1     4                                            1.0  \n",
       "\n",
       "[2 rows x 34 columns]"
      ]
     },
     "execution_count": 14,
     "metadata": {},
     "output_type": "execute_result"
    }
   ],
   "source": [
    "prueba_4.set_index(['tiendaID', 'skuID','fechaID'], inplace=True)\n",
    "prueba_4.head(2)"
   ]
  },
  {
   "cell_type": "code",
   "execution_count": 15,
   "metadata": {},
   "outputs": [],
   "source": [
    "#Dividir x y y del conjunto de entrenamiento \n",
    "x_4 = entrenamiento_4.iloc[:, entrenamiento_4.columns != 'variable_y_ventas_del_siguiente_mes']\n",
    "y_4 = entrenamiento_4.iloc[:, entrenamiento_4.columns == 'variable_y_ventas_del_siguiente_mes']"
   ]
  },
  {
   "cell_type": "code",
   "execution_count": 16,
   "metadata": {},
   "outputs": [],
   "source": [
    "#Dividir en x y y el conjunyo de prueba\n",
    "prueba_x_4= prueba_4.iloc[:, prueba_4.columns != 'variable_y_ventas_del_siguiente_mes']\n",
    "prueba_y_4= prueba_4.iloc[:, prueba_4.columns == 'variable_y_ventas_del_siguiente_mes']"
   ]
  },
  {
   "cell_type": "markdown",
   "metadata": {},
   "source": [
    "# <font color='darkblue'>-.-.-.-.-.-.-.-.-.-.-.-.-.-.-.-.-.-.-.-.-.-.-.-.-.-.-.-.-.-.-.-.-.-.-.-..-.-.-.-.-.-.-.-.-.-.-.-.-..-.-.-.-.-.-.-.-.-.-.-.-.-..-.-.-.-.-.-.-.-.-.-.-.-.-.-.-.-.- </font>"
   ]
  },
  {
   "cell_type": "markdown",
   "metadata": {},
   "source": [
    "## 5. Quinta división: \n",
    "#### Entrenamiento: fechaID=0,1,2,3,4 (mes junio julio agosto septiembre octubre) - y: ventas noviembre\n",
    "#### Prueba: fechaID= 5 (mes noviembre) - y:ventas diciembre"
   ]
  },
  {
   "cell_type": "code",
   "execution_count": 10,
   "metadata": {},
   "outputs": [
    {
     "name": "stdout",
     "output_type": "stream",
     "text": [
      "Entrenar con los meses de Junio, Julio, Agosto, Septiembre y Octubre cuyos índices son: 0 1 2 3 4\n",
      "Probar con el mes de Agosto cuyo índice es: 5\n"
     ]
    }
   ],
   "source": [
    "#Límites para cortar conjuntos en dattos\n",
    "entrenamiento_junjulagosepoct_para_predecir_noviembre = mes[4] \n",
    "prueba_noviembre_para_predecir_en_diciembre = mes[5] \n",
    "\n",
    "print('Entrenar con los meses de Junio, Julio, Agosto, Septiembre y Octubre cuyos índices son:', \"0\",\"1\",\"2\",\"3\",entrenamiento_junjulagosepoct_para_predecir_noviembre)\n",
    "print('Probar con el mes de Agosto cuyo índice es:', prueba_noviembre_para_predecir_en_diciembre)"
   ]
  },
  {
   "cell_type": "code",
   "execution_count": 11,
   "metadata": {},
   "outputs": [
    {
     "data": {
      "text/plain": [
       "(4342975, 37)"
      ]
     },
     "execution_count": 11,
     "metadata": {},
     "output_type": "execute_result"
    }
   ],
   "source": [
    "#dividir el archivo en entrenamiento y prueba\n",
    "entrenamiento_5 = datos_modelo[datos_modelo['fechaID']<=entrenamiento_junjulagosepoct_para_predecir_noviembre]\n",
    "#entrenamiento_5.head(2)\n",
    "entrenamiento_5.shape"
   ]
  },
  {
   "cell_type": "code",
   "execution_count": 12,
   "metadata": {},
   "outputs": [
    {
     "data": {
      "text/plain": [
       "(868595, 37)"
      ]
     },
     "execution_count": 12,
     "metadata": {},
     "output_type": "execute_result"
    }
   ],
   "source": [
    "prueba_5 = datos_modelo[datos_modelo['fechaID']==prueba_noviembre_para_predecir_en_diciembre]\n",
    "#prueba_5.head(2)\n",
    "prueba_5.shape"
   ]
  },
  {
   "cell_type": "code",
   "execution_count": 13,
   "metadata": {},
   "outputs": [
    {
     "data": {
      "text/html": [
       "<div>\n",
       "<style scoped>\n",
       "    .dataframe tbody tr th:only-of-type {\n",
       "        vertical-align: middle;\n",
       "    }\n",
       "\n",
       "    .dataframe tbody tr th {\n",
       "        vertical-align: top;\n",
       "    }\n",
       "\n",
       "    .dataframe thead th {\n",
       "        text-align: right;\n",
       "    }\n",
       "</style>\n",
       "<table border=\"1\" class=\"dataframe\">\n",
       "  <thead>\n",
       "    <tr style=\"text-align: right;\">\n",
       "      <th></th>\n",
       "      <th></th>\n",
       "      <th></th>\n",
       "      <th>ventas_por_mes</th>\n",
       "      <th>variable_y_ventas_del_siguiente_mes</th>\n",
       "      <th>ventas_totales_por_tienda_por_mes</th>\n",
       "      <th>ventas_promedio_por_tienda_por_mes</th>\n",
       "      <th>ventas_totales_por_marca_por_mes</th>\n",
       "      <th>ventas_promedio_por_marca_por_mes</th>\n",
       "      <th>ventas_totales_por_gamma_por_mes</th>\n",
       "      <th>ventas_promedio_por_gamma_por_mes</th>\n",
       "      <th>ventas_totales_por_sku_por_mes</th>\n",
       "      <th>ventas_promedio_por_sku_por_mes</th>\n",
       "      <th>...</th>\n",
       "      <th>lag2mes_ventas_totales_por_sku_por_mes</th>\n",
       "      <th>lag2mes_ventas_promedio_por_sku_por_mes</th>\n",
       "      <th>lag3mes_ventas_totales_por_tienda_por_mes</th>\n",
       "      <th>lag3mes_ventas_promedio_por_tienda_por_mes</th>\n",
       "      <th>lag3mes_ventas_totales_por_marca_por_mes</th>\n",
       "      <th>lag3mes_entas_promedio_por_marca_por_mes</th>\n",
       "      <th>lag3mes_ventas_totales_por_gamma_por_mes</th>\n",
       "      <th>lag3mes_ventas_promedio_por_gamma_por_mes</th>\n",
       "      <th>lag3mes_ventas_totales_por_sku_por_mes</th>\n",
       "      <th>lag3mes_ventas_promedio_por_sku_por_mes</th>\n",
       "    </tr>\n",
       "    <tr>\n",
       "      <th>tiendaID</th>\n",
       "      <th>skuID</th>\n",
       "      <th>fechaID</th>\n",
       "      <th></th>\n",
       "      <th></th>\n",
       "      <th></th>\n",
       "      <th></th>\n",
       "      <th></th>\n",
       "      <th></th>\n",
       "      <th></th>\n",
       "      <th></th>\n",
       "      <th></th>\n",
       "      <th></th>\n",
       "      <th></th>\n",
       "      <th></th>\n",
       "      <th></th>\n",
       "      <th></th>\n",
       "      <th></th>\n",
       "      <th></th>\n",
       "      <th></th>\n",
       "      <th></th>\n",
       "      <th></th>\n",
       "      <th></th>\n",
       "      <th></th>\n",
       "    </tr>\n",
       "  </thead>\n",
       "  <tbody>\n",
       "    <tr>\n",
       "      <th rowspan=\"5\" valign=\"top\">1</th>\n",
       "      <th rowspan=\"5\" valign=\"top\">1</th>\n",
       "      <th>0</th>\n",
       "      <td>0</td>\n",
       "      <td>0.0</td>\n",
       "      <td>70</td>\n",
       "      <td>1.044776</td>\n",
       "      <td>355</td>\n",
       "      <td>1.047198</td>\n",
       "      <td>86507</td>\n",
       "      <td>1.161542</td>\n",
       "      <td>1</td>\n",
       "      <td>1.0</td>\n",
       "      <td>...</td>\n",
       "      <td>1</td>\n",
       "      <td>1.0</td>\n",
       "      <td>70</td>\n",
       "      <td>1.044776</td>\n",
       "      <td>355</td>\n",
       "      <td>1.047198</td>\n",
       "      <td>86507</td>\n",
       "      <td>1.161542</td>\n",
       "      <td>1</td>\n",
       "      <td>1.0</td>\n",
       "    </tr>\n",
       "    <tr>\n",
       "      <th>1</th>\n",
       "      <td>0</td>\n",
       "      <td>0.0</td>\n",
       "      <td>79</td>\n",
       "      <td>1.128571</td>\n",
       "      <td>379</td>\n",
       "      <td>1.046961</td>\n",
       "      <td>92120</td>\n",
       "      <td>1.137986</td>\n",
       "      <td>1</td>\n",
       "      <td>1.0</td>\n",
       "      <td>...</td>\n",
       "      <td>1</td>\n",
       "      <td>1.0</td>\n",
       "      <td>70</td>\n",
       "      <td>1.044776</td>\n",
       "      <td>355</td>\n",
       "      <td>1.047198</td>\n",
       "      <td>86507</td>\n",
       "      <td>1.161542</td>\n",
       "      <td>1</td>\n",
       "      <td>1.0</td>\n",
       "    </tr>\n",
       "    <tr>\n",
       "      <th>2</th>\n",
       "      <td>0</td>\n",
       "      <td>0.0</td>\n",
       "      <td>87</td>\n",
       "      <td>1.060976</td>\n",
       "      <td>264</td>\n",
       "      <td>1.068826</td>\n",
       "      <td>84129</td>\n",
       "      <td>1.126270</td>\n",
       "      <td>0</td>\n",
       "      <td>0.0</td>\n",
       "      <td>...</td>\n",
       "      <td>1</td>\n",
       "      <td>1.0</td>\n",
       "      <td>70</td>\n",
       "      <td>1.044776</td>\n",
       "      <td>355</td>\n",
       "      <td>1.047198</td>\n",
       "      <td>86507</td>\n",
       "      <td>1.161542</td>\n",
       "      <td>1</td>\n",
       "      <td>1.0</td>\n",
       "    </tr>\n",
       "    <tr>\n",
       "      <th>3</th>\n",
       "      <td>0</td>\n",
       "      <td>0.0</td>\n",
       "      <td>75</td>\n",
       "      <td>1.041667</td>\n",
       "      <td>136</td>\n",
       "      <td>1.079365</td>\n",
       "      <td>73612</td>\n",
       "      <td>1.110521</td>\n",
       "      <td>0</td>\n",
       "      <td>0.0</td>\n",
       "      <td>...</td>\n",
       "      <td>1</td>\n",
       "      <td>1.0</td>\n",
       "      <td>70</td>\n",
       "      <td>1.044776</td>\n",
       "      <td>355</td>\n",
       "      <td>1.047198</td>\n",
       "      <td>86507</td>\n",
       "      <td>1.161542</td>\n",
       "      <td>1</td>\n",
       "      <td>1.0</td>\n",
       "    </tr>\n",
       "    <tr>\n",
       "      <th>4</th>\n",
       "      <td>0</td>\n",
       "      <td>0.0</td>\n",
       "      <td>77</td>\n",
       "      <td>1.026667</td>\n",
       "      <td>86</td>\n",
       "      <td>1.088608</td>\n",
       "      <td>67113</td>\n",
       "      <td>1.103143</td>\n",
       "      <td>0</td>\n",
       "      <td>0.0</td>\n",
       "      <td>...</td>\n",
       "      <td>0</td>\n",
       "      <td>0.0</td>\n",
       "      <td>79</td>\n",
       "      <td>1.128571</td>\n",
       "      <td>379</td>\n",
       "      <td>1.046961</td>\n",
       "      <td>92120</td>\n",
       "      <td>1.137986</td>\n",
       "      <td>1</td>\n",
       "      <td>1.0</td>\n",
       "    </tr>\n",
       "  </tbody>\n",
       "</table>\n",
       "<p>5 rows × 34 columns</p>\n",
       "</div>"
      ],
      "text/plain": [
       "                        ventas_por_mes  variable_y_ventas_del_siguiente_mes  \\\n",
       "tiendaID skuID fechaID                                                        \n",
       "1        1     0                     0                                  0.0   \n",
       "               1                     0                                  0.0   \n",
       "               2                     0                                  0.0   \n",
       "               3                     0                                  0.0   \n",
       "               4                     0                                  0.0   \n",
       "\n",
       "                        ventas_totales_por_tienda_por_mes  \\\n",
       "tiendaID skuID fechaID                                      \n",
       "1        1     0                                       70   \n",
       "               1                                       79   \n",
       "               2                                       87   \n",
       "               3                                       75   \n",
       "               4                                       77   \n",
       "\n",
       "                        ventas_promedio_por_tienda_por_mes  \\\n",
       "tiendaID skuID fechaID                                       \n",
       "1        1     0                                  1.044776   \n",
       "               1                                  1.128571   \n",
       "               2                                  1.060976   \n",
       "               3                                  1.041667   \n",
       "               4                                  1.026667   \n",
       "\n",
       "                        ventas_totales_por_marca_por_mes  \\\n",
       "tiendaID skuID fechaID                                     \n",
       "1        1     0                                     355   \n",
       "               1                                     379   \n",
       "               2                                     264   \n",
       "               3                                     136   \n",
       "               4                                      86   \n",
       "\n",
       "                        ventas_promedio_por_marca_por_mes  \\\n",
       "tiendaID skuID fechaID                                      \n",
       "1        1     0                                 1.047198   \n",
       "               1                                 1.046961   \n",
       "               2                                 1.068826   \n",
       "               3                                 1.079365   \n",
       "               4                                 1.088608   \n",
       "\n",
       "                        ventas_totales_por_gamma_por_mes  \\\n",
       "tiendaID skuID fechaID                                     \n",
       "1        1     0                                   86507   \n",
       "               1                                   92120   \n",
       "               2                                   84129   \n",
       "               3                                   73612   \n",
       "               4                                   67113   \n",
       "\n",
       "                        ventas_promedio_por_gamma_por_mes  \\\n",
       "tiendaID skuID fechaID                                      \n",
       "1        1     0                                 1.161542   \n",
       "               1                                 1.137986   \n",
       "               2                                 1.126270   \n",
       "               3                                 1.110521   \n",
       "               4                                 1.103143   \n",
       "\n",
       "                        ventas_totales_por_sku_por_mes  \\\n",
       "tiendaID skuID fechaID                                   \n",
       "1        1     0                                     1   \n",
       "               1                                     1   \n",
       "               2                                     0   \n",
       "               3                                     0   \n",
       "               4                                     0   \n",
       "\n",
       "                        ventas_promedio_por_sku_por_mes  ...  \\\n",
       "tiendaID skuID fechaID                                   ...   \n",
       "1        1     0                                    1.0  ...   \n",
       "               1                                    1.0  ...   \n",
       "               2                                    0.0  ...   \n",
       "               3                                    0.0  ...   \n",
       "               4                                    0.0  ...   \n",
       "\n",
       "                        lag2mes_ventas_totales_por_sku_por_mes  \\\n",
       "tiendaID skuID fechaID                                           \n",
       "1        1     0                                             1   \n",
       "               1                                             1   \n",
       "               2                                             1   \n",
       "               3                                             1   \n",
       "               4                                             0   \n",
       "\n",
       "                        lag2mes_ventas_promedio_por_sku_por_mes  \\\n",
       "tiendaID skuID fechaID                                            \n",
       "1        1     0                                            1.0   \n",
       "               1                                            1.0   \n",
       "               2                                            1.0   \n",
       "               3                                            1.0   \n",
       "               4                                            0.0   \n",
       "\n",
       "                        lag3mes_ventas_totales_por_tienda_por_mes  \\\n",
       "tiendaID skuID fechaID                                              \n",
       "1        1     0                                               70   \n",
       "               1                                               70   \n",
       "               2                                               70   \n",
       "               3                                               70   \n",
       "               4                                               79   \n",
       "\n",
       "                        lag3mes_ventas_promedio_por_tienda_por_mes  \\\n",
       "tiendaID skuID fechaID                                               \n",
       "1        1     0                                          1.044776   \n",
       "               1                                          1.044776   \n",
       "               2                                          1.044776   \n",
       "               3                                          1.044776   \n",
       "               4                                          1.128571   \n",
       "\n",
       "                        lag3mes_ventas_totales_por_marca_por_mes  \\\n",
       "tiendaID skuID fechaID                                             \n",
       "1        1     0                                             355   \n",
       "               1                                             355   \n",
       "               2                                             355   \n",
       "               3                                             355   \n",
       "               4                                             379   \n",
       "\n",
       "                        lag3mes_entas_promedio_por_marca_por_mes  \\\n",
       "tiendaID skuID fechaID                                             \n",
       "1        1     0                                        1.047198   \n",
       "               1                                        1.047198   \n",
       "               2                                        1.047198   \n",
       "               3                                        1.047198   \n",
       "               4                                        1.046961   \n",
       "\n",
       "                        lag3mes_ventas_totales_por_gamma_por_mes  \\\n",
       "tiendaID skuID fechaID                                             \n",
       "1        1     0                                           86507   \n",
       "               1                                           86507   \n",
       "               2                                           86507   \n",
       "               3                                           86507   \n",
       "               4                                           92120   \n",
       "\n",
       "                        lag3mes_ventas_promedio_por_gamma_por_mes  \\\n",
       "tiendaID skuID fechaID                                              \n",
       "1        1     0                                         1.161542   \n",
       "               1                                         1.161542   \n",
       "               2                                         1.161542   \n",
       "               3                                         1.161542   \n",
       "               4                                         1.137986   \n",
       "\n",
       "                        lag3mes_ventas_totales_por_sku_por_mes  \\\n",
       "tiendaID skuID fechaID                                           \n",
       "1        1     0                                             1   \n",
       "               1                                             1   \n",
       "               2                                             1   \n",
       "               3                                             1   \n",
       "               4                                             1   \n",
       "\n",
       "                        lag3mes_ventas_promedio_por_sku_por_mes  \n",
       "tiendaID skuID fechaID                                           \n",
       "1        1     0                                            1.0  \n",
       "               1                                            1.0  \n",
       "               2                                            1.0  \n",
       "               3                                            1.0  \n",
       "               4                                            1.0  \n",
       "\n",
       "[5 rows x 34 columns]"
      ]
     },
     "execution_count": 13,
     "metadata": {},
     "output_type": "execute_result"
    }
   ],
   "source": [
    "entrenamiento_5.set_index(['tiendaID', 'skuID','fechaID'], inplace=True)\n",
    "entrenamiento_5.head(5)"
   ]
  },
  {
   "cell_type": "code",
   "execution_count": 14,
   "metadata": {},
   "outputs": [
    {
     "data": {
      "text/html": [
       "<div>\n",
       "<style scoped>\n",
       "    .dataframe tbody tr th:only-of-type {\n",
       "        vertical-align: middle;\n",
       "    }\n",
       "\n",
       "    .dataframe tbody tr th {\n",
       "        vertical-align: top;\n",
       "    }\n",
       "\n",
       "    .dataframe thead th {\n",
       "        text-align: right;\n",
       "    }\n",
       "</style>\n",
       "<table border=\"1\" class=\"dataframe\">\n",
       "  <thead>\n",
       "    <tr style=\"text-align: right;\">\n",
       "      <th></th>\n",
       "      <th></th>\n",
       "      <th></th>\n",
       "      <th>ventas_por_mes</th>\n",
       "      <th>variable_y_ventas_del_siguiente_mes</th>\n",
       "      <th>ventas_totales_por_tienda_por_mes</th>\n",
       "      <th>ventas_promedio_por_tienda_por_mes</th>\n",
       "      <th>ventas_totales_por_marca_por_mes</th>\n",
       "      <th>ventas_promedio_por_marca_por_mes</th>\n",
       "      <th>ventas_totales_por_gamma_por_mes</th>\n",
       "      <th>ventas_promedio_por_gamma_por_mes</th>\n",
       "      <th>ventas_totales_por_sku_por_mes</th>\n",
       "      <th>ventas_promedio_por_sku_por_mes</th>\n",
       "      <th>...</th>\n",
       "      <th>lag2mes_ventas_totales_por_sku_por_mes</th>\n",
       "      <th>lag2mes_ventas_promedio_por_sku_por_mes</th>\n",
       "      <th>lag3mes_ventas_totales_por_tienda_por_mes</th>\n",
       "      <th>lag3mes_ventas_promedio_por_tienda_por_mes</th>\n",
       "      <th>lag3mes_ventas_totales_por_marca_por_mes</th>\n",
       "      <th>lag3mes_entas_promedio_por_marca_por_mes</th>\n",
       "      <th>lag3mes_ventas_totales_por_gamma_por_mes</th>\n",
       "      <th>lag3mes_ventas_promedio_por_gamma_por_mes</th>\n",
       "      <th>lag3mes_ventas_totales_por_sku_por_mes</th>\n",
       "      <th>lag3mes_ventas_promedio_por_sku_por_mes</th>\n",
       "    </tr>\n",
       "    <tr>\n",
       "      <th>tiendaID</th>\n",
       "      <th>skuID</th>\n",
       "      <th>fechaID</th>\n",
       "      <th></th>\n",
       "      <th></th>\n",
       "      <th></th>\n",
       "      <th></th>\n",
       "      <th></th>\n",
       "      <th></th>\n",
       "      <th></th>\n",
       "      <th></th>\n",
       "      <th></th>\n",
       "      <th></th>\n",
       "      <th></th>\n",
       "      <th></th>\n",
       "      <th></th>\n",
       "      <th></th>\n",
       "      <th></th>\n",
       "      <th></th>\n",
       "      <th></th>\n",
       "      <th></th>\n",
       "      <th></th>\n",
       "      <th></th>\n",
       "      <th></th>\n",
       "    </tr>\n",
       "  </thead>\n",
       "  <tbody>\n",
       "    <tr>\n",
       "      <th>1</th>\n",
       "      <th>1</th>\n",
       "      <th>5</th>\n",
       "      <td>0</td>\n",
       "      <td>0.0</td>\n",
       "      <td>80</td>\n",
       "      <td>1.126761</td>\n",
       "      <td>45</td>\n",
       "      <td>1.097561</td>\n",
       "      <td>89688</td>\n",
       "      <td>1.182501</td>\n",
       "      <td>0</td>\n",
       "      <td>0.0</td>\n",
       "      <td>...</td>\n",
       "      <td>0</td>\n",
       "      <td>0.0</td>\n",
       "      <td>87</td>\n",
       "      <td>1.060976</td>\n",
       "      <td>264</td>\n",
       "      <td>1.068826</td>\n",
       "      <td>84129</td>\n",
       "      <td>1.12627</td>\n",
       "      <td>0</td>\n",
       "      <td>0.0</td>\n",
       "    </tr>\n",
       "    <tr>\n",
       "      <th>2</th>\n",
       "      <th>1</th>\n",
       "      <th>5</th>\n",
       "      <td>0</td>\n",
       "      <td>0.0</td>\n",
       "      <td>11</td>\n",
       "      <td>1.000000</td>\n",
       "      <td>45</td>\n",
       "      <td>1.097561</td>\n",
       "      <td>89688</td>\n",
       "      <td>1.182501</td>\n",
       "      <td>0</td>\n",
       "      <td>0.0</td>\n",
       "      <td>...</td>\n",
       "      <td>0</td>\n",
       "      <td>0.0</td>\n",
       "      <td>13</td>\n",
       "      <td>1.083333</td>\n",
       "      <td>264</td>\n",
       "      <td>1.068826</td>\n",
       "      <td>84129</td>\n",
       "      <td>1.12627</td>\n",
       "      <td>0</td>\n",
       "      <td>0.0</td>\n",
       "    </tr>\n",
       "    <tr>\n",
       "      <th>3</th>\n",
       "      <th>1</th>\n",
       "      <th>5</th>\n",
       "      <td>0</td>\n",
       "      <td>0.0</td>\n",
       "      <td>52</td>\n",
       "      <td>1.040000</td>\n",
       "      <td>45</td>\n",
       "      <td>1.097561</td>\n",
       "      <td>89688</td>\n",
       "      <td>1.182501</td>\n",
       "      <td>0</td>\n",
       "      <td>0.0</td>\n",
       "      <td>...</td>\n",
       "      <td>0</td>\n",
       "      <td>0.0</td>\n",
       "      <td>36</td>\n",
       "      <td>1.028571</td>\n",
       "      <td>264</td>\n",
       "      <td>1.068826</td>\n",
       "      <td>84129</td>\n",
       "      <td>1.12627</td>\n",
       "      <td>0</td>\n",
       "      <td>0.0</td>\n",
       "    </tr>\n",
       "    <tr>\n",
       "      <th>4</th>\n",
       "      <th>1</th>\n",
       "      <th>5</th>\n",
       "      <td>0</td>\n",
       "      <td>0.0</td>\n",
       "      <td>12</td>\n",
       "      <td>1.000000</td>\n",
       "      <td>45</td>\n",
       "      <td>1.097561</td>\n",
       "      <td>89688</td>\n",
       "      <td>1.182501</td>\n",
       "      <td>0</td>\n",
       "      <td>0.0</td>\n",
       "      <td>...</td>\n",
       "      <td>0</td>\n",
       "      <td>0.0</td>\n",
       "      <td>0</td>\n",
       "      <td>0.000000</td>\n",
       "      <td>264</td>\n",
       "      <td>1.068826</td>\n",
       "      <td>84129</td>\n",
       "      <td>1.12627</td>\n",
       "      <td>0</td>\n",
       "      <td>0.0</td>\n",
       "    </tr>\n",
       "    <tr>\n",
       "      <th>5</th>\n",
       "      <th>1</th>\n",
       "      <th>5</th>\n",
       "      <td>0</td>\n",
       "      <td>0.0</td>\n",
       "      <td>17</td>\n",
       "      <td>1.000000</td>\n",
       "      <td>45</td>\n",
       "      <td>1.097561</td>\n",
       "      <td>89688</td>\n",
       "      <td>1.182501</td>\n",
       "      <td>0</td>\n",
       "      <td>0.0</td>\n",
       "      <td>...</td>\n",
       "      <td>0</td>\n",
       "      <td>0.0</td>\n",
       "      <td>0</td>\n",
       "      <td>0.000000</td>\n",
       "      <td>264</td>\n",
       "      <td>1.068826</td>\n",
       "      <td>84129</td>\n",
       "      <td>1.12627</td>\n",
       "      <td>0</td>\n",
       "      <td>0.0</td>\n",
       "    </tr>\n",
       "  </tbody>\n",
       "</table>\n",
       "<p>5 rows × 34 columns</p>\n",
       "</div>"
      ],
      "text/plain": [
       "                        ventas_por_mes  variable_y_ventas_del_siguiente_mes  \\\n",
       "tiendaID skuID fechaID                                                        \n",
       "1        1     5                     0                                  0.0   \n",
       "2        1     5                     0                                  0.0   \n",
       "3        1     5                     0                                  0.0   \n",
       "4        1     5                     0                                  0.0   \n",
       "5        1     5                     0                                  0.0   \n",
       "\n",
       "                        ventas_totales_por_tienda_por_mes  \\\n",
       "tiendaID skuID fechaID                                      \n",
       "1        1     5                                       80   \n",
       "2        1     5                                       11   \n",
       "3        1     5                                       52   \n",
       "4        1     5                                       12   \n",
       "5        1     5                                       17   \n",
       "\n",
       "                        ventas_promedio_por_tienda_por_mes  \\\n",
       "tiendaID skuID fechaID                                       \n",
       "1        1     5                                  1.126761   \n",
       "2        1     5                                  1.000000   \n",
       "3        1     5                                  1.040000   \n",
       "4        1     5                                  1.000000   \n",
       "5        1     5                                  1.000000   \n",
       "\n",
       "                        ventas_totales_por_marca_por_mes  \\\n",
       "tiendaID skuID fechaID                                     \n",
       "1        1     5                                      45   \n",
       "2        1     5                                      45   \n",
       "3        1     5                                      45   \n",
       "4        1     5                                      45   \n",
       "5        1     5                                      45   \n",
       "\n",
       "                        ventas_promedio_por_marca_por_mes  \\\n",
       "tiendaID skuID fechaID                                      \n",
       "1        1     5                                 1.097561   \n",
       "2        1     5                                 1.097561   \n",
       "3        1     5                                 1.097561   \n",
       "4        1     5                                 1.097561   \n",
       "5        1     5                                 1.097561   \n",
       "\n",
       "                        ventas_totales_por_gamma_por_mes  \\\n",
       "tiendaID skuID fechaID                                     \n",
       "1        1     5                                   89688   \n",
       "2        1     5                                   89688   \n",
       "3        1     5                                   89688   \n",
       "4        1     5                                   89688   \n",
       "5        1     5                                   89688   \n",
       "\n",
       "                        ventas_promedio_por_gamma_por_mes  \\\n",
       "tiendaID skuID fechaID                                      \n",
       "1        1     5                                 1.182501   \n",
       "2        1     5                                 1.182501   \n",
       "3        1     5                                 1.182501   \n",
       "4        1     5                                 1.182501   \n",
       "5        1     5                                 1.182501   \n",
       "\n",
       "                        ventas_totales_por_sku_por_mes  \\\n",
       "tiendaID skuID fechaID                                   \n",
       "1        1     5                                     0   \n",
       "2        1     5                                     0   \n",
       "3        1     5                                     0   \n",
       "4        1     5                                     0   \n",
       "5        1     5                                     0   \n",
       "\n",
       "                        ventas_promedio_por_sku_por_mes  ...  \\\n",
       "tiendaID skuID fechaID                                   ...   \n",
       "1        1     5                                    0.0  ...   \n",
       "2        1     5                                    0.0  ...   \n",
       "3        1     5                                    0.0  ...   \n",
       "4        1     5                                    0.0  ...   \n",
       "5        1     5                                    0.0  ...   \n",
       "\n",
       "                        lag2mes_ventas_totales_por_sku_por_mes  \\\n",
       "tiendaID skuID fechaID                                           \n",
       "1        1     5                                             0   \n",
       "2        1     5                                             0   \n",
       "3        1     5                                             0   \n",
       "4        1     5                                             0   \n",
       "5        1     5                                             0   \n",
       "\n",
       "                        lag2mes_ventas_promedio_por_sku_por_mes  \\\n",
       "tiendaID skuID fechaID                                            \n",
       "1        1     5                                            0.0   \n",
       "2        1     5                                            0.0   \n",
       "3        1     5                                            0.0   \n",
       "4        1     5                                            0.0   \n",
       "5        1     5                                            0.0   \n",
       "\n",
       "                        lag3mes_ventas_totales_por_tienda_por_mes  \\\n",
       "tiendaID skuID fechaID                                              \n",
       "1        1     5                                               87   \n",
       "2        1     5                                               13   \n",
       "3        1     5                                               36   \n",
       "4        1     5                                                0   \n",
       "5        1     5                                                0   \n",
       "\n",
       "                        lag3mes_ventas_promedio_por_tienda_por_mes  \\\n",
       "tiendaID skuID fechaID                                               \n",
       "1        1     5                                          1.060976   \n",
       "2        1     5                                          1.083333   \n",
       "3        1     5                                          1.028571   \n",
       "4        1     5                                          0.000000   \n",
       "5        1     5                                          0.000000   \n",
       "\n",
       "                        lag3mes_ventas_totales_por_marca_por_mes  \\\n",
       "tiendaID skuID fechaID                                             \n",
       "1        1     5                                             264   \n",
       "2        1     5                                             264   \n",
       "3        1     5                                             264   \n",
       "4        1     5                                             264   \n",
       "5        1     5                                             264   \n",
       "\n",
       "                        lag3mes_entas_promedio_por_marca_por_mes  \\\n",
       "tiendaID skuID fechaID                                             \n",
       "1        1     5                                        1.068826   \n",
       "2        1     5                                        1.068826   \n",
       "3        1     5                                        1.068826   \n",
       "4        1     5                                        1.068826   \n",
       "5        1     5                                        1.068826   \n",
       "\n",
       "                        lag3mes_ventas_totales_por_gamma_por_mes  \\\n",
       "tiendaID skuID fechaID                                             \n",
       "1        1     5                                           84129   \n",
       "2        1     5                                           84129   \n",
       "3        1     5                                           84129   \n",
       "4        1     5                                           84129   \n",
       "5        1     5                                           84129   \n",
       "\n",
       "                        lag3mes_ventas_promedio_por_gamma_por_mes  \\\n",
       "tiendaID skuID fechaID                                              \n",
       "1        1     5                                          1.12627   \n",
       "2        1     5                                          1.12627   \n",
       "3        1     5                                          1.12627   \n",
       "4        1     5                                          1.12627   \n",
       "5        1     5                                          1.12627   \n",
       "\n",
       "                        lag3mes_ventas_totales_por_sku_por_mes  \\\n",
       "tiendaID skuID fechaID                                           \n",
       "1        1     5                                             0   \n",
       "2        1     5                                             0   \n",
       "3        1     5                                             0   \n",
       "4        1     5                                             0   \n",
       "5        1     5                                             0   \n",
       "\n",
       "                        lag3mes_ventas_promedio_por_sku_por_mes  \n",
       "tiendaID skuID fechaID                                           \n",
       "1        1     5                                            0.0  \n",
       "2        1     5                                            0.0  \n",
       "3        1     5                                            0.0  \n",
       "4        1     5                                            0.0  \n",
       "5        1     5                                            0.0  \n",
       "\n",
       "[5 rows x 34 columns]"
      ]
     },
     "execution_count": 14,
     "metadata": {},
     "output_type": "execute_result"
    }
   ],
   "source": [
    "prueba_5.set_index(['tiendaID', 'skuID','fechaID'], inplace=True)\n",
    "prueba_5.head(5)"
   ]
  },
  {
   "cell_type": "code",
   "execution_count": 15,
   "metadata": {},
   "outputs": [],
   "source": [
    "#Dividir x y y del conjunto de entrenamiento \n",
    "x_5 = entrenamiento_5.iloc[:, entrenamiento_5.columns != 'variable_y_ventas_del_siguiente_mes']\n",
    "y_5 = entrenamiento_5.iloc[:, entrenamiento_5.columns == 'variable_y_ventas_del_siguiente_mes']"
   ]
  },
  {
   "cell_type": "code",
   "execution_count": 16,
   "metadata": {},
   "outputs": [],
   "source": [
    "#Dividir en x y y el conjunyo de prueba\n",
    "prueba_x_5= prueba_5.iloc[:, prueba_5.columns != 'variable_y_ventas_del_siguiente_mes']\n",
    "prueba_y_5= prueba_5.iloc[:, prueba_5.columns == 'variable_y_ventas_del_siguiente_mes']"
   ]
  },
  {
   "cell_type": "markdown",
   "metadata": {},
   "source": [
    "# <font color='darkblue'>-.-.-.-.-.-.-.-.-.-.-.-.-.-.-.-.-.-.-.-.-.-.-.-.-.-.-.-.-.-.-.-.-.-.-.-..-.-.-.-.-.-.-.-.-.-.-.-.-..-.-.-.-.-.-.-.-.-.-.-.-.-..-.-.-.-.-.-.-.-.-.-.-.-.-.-.-.-.- </font>"
   ]
  },
  {
   "cell_type": "markdown",
   "metadata": {},
   "source": [
    "## 6. Sexta división: \n",
    "#### Entrenamiento: fechaID=0,1,2,3,4,5 (mes junio julio agosto septiembre octubre noviembre) - y: ventas diciembre\n",
    "#### Prueba: fechaID=6 (mes diciembre) - y:ventas enero"
   ]
  },
  {
   "cell_type": "code",
   "execution_count": 10,
   "metadata": {},
   "outputs": [
    {
     "name": "stdout",
     "output_type": "stream",
     "text": [
      "Entrenar con los meses de Junio, Julio, Agosto, Septiembre, Octubre y Noviembre cuyos índices son: 0 1 2 3 4 5\n",
      "Probar con el mes de Diciembre cuyo índice es: 6\n"
     ]
    }
   ],
   "source": [
    "#Límites para cortar conjuntos en dattos\n",
    "entrenamiento_junjulagosepoctnov_para_predecir_diciembre = mes[5] \n",
    "prueba_diciembre_para_predecir_en_enero = mes[6] \n",
    "\n",
    "print('Entrenar con los meses de Junio, Julio, Agosto, Septiembre, Octubre y Noviembre cuyos índices son:', \"0\",\"1\",\"2\",\"3\",\"4\",entrenamiento_junjulagosepoctnov_para_predecir_diciembre)\n",
    "print('Probar con el mes de Diciembre cuyo índice es:', prueba_diciembre_para_predecir_en_enero)"
   ]
  },
  {
   "cell_type": "code",
   "execution_count": 11,
   "metadata": {},
   "outputs": [
    {
     "data": {
      "text/plain": [
       "(5211570, 37)"
      ]
     },
     "execution_count": 11,
     "metadata": {},
     "output_type": "execute_result"
    }
   ],
   "source": [
    "#dividir el archivo en entrenamiento y prueba\n",
    "entrenamiento_6 = datos_modelo[datos_modelo['fechaID']<=entrenamiento_junjulagosepoctnov_para_predecir_diciembre]\n",
    "#entrenamiento_6.head(2)\n",
    "entrenamiento_6.shape"
   ]
  },
  {
   "cell_type": "code",
   "execution_count": 12,
   "metadata": {},
   "outputs": [
    {
     "data": {
      "text/plain": [
       "(868595, 37)"
      ]
     },
     "execution_count": 12,
     "metadata": {},
     "output_type": "execute_result"
    }
   ],
   "source": [
    "prueba_6 = datos_modelo[datos_modelo['fechaID']==prueba_diciembre_para_predecir_en_enero]\n",
    "#prueba_6.head(2)\n",
    "prueba_6.shape"
   ]
  },
  {
   "cell_type": "code",
   "execution_count": 13,
   "metadata": {},
   "outputs": [
    {
     "data": {
      "text/html": [
       "<div>\n",
       "<style scoped>\n",
       "    .dataframe tbody tr th:only-of-type {\n",
       "        vertical-align: middle;\n",
       "    }\n",
       "\n",
       "    .dataframe tbody tr th {\n",
       "        vertical-align: top;\n",
       "    }\n",
       "\n",
       "    .dataframe thead th {\n",
       "        text-align: right;\n",
       "    }\n",
       "</style>\n",
       "<table border=\"1\" class=\"dataframe\">\n",
       "  <thead>\n",
       "    <tr style=\"text-align: right;\">\n",
       "      <th></th>\n",
       "      <th></th>\n",
       "      <th></th>\n",
       "      <th>ventas_por_mes</th>\n",
       "      <th>variable_y_ventas_del_siguiente_mes</th>\n",
       "      <th>ventas_totales_por_tienda_por_mes</th>\n",
       "      <th>ventas_promedio_por_tienda_por_mes</th>\n",
       "      <th>ventas_totales_por_marca_por_mes</th>\n",
       "      <th>ventas_promedio_por_marca_por_mes</th>\n",
       "      <th>ventas_totales_por_gamma_por_mes</th>\n",
       "      <th>ventas_promedio_por_gamma_por_mes</th>\n",
       "      <th>ventas_totales_por_sku_por_mes</th>\n",
       "      <th>ventas_promedio_por_sku_por_mes</th>\n",
       "      <th>...</th>\n",
       "      <th>lag2mes_ventas_totales_por_sku_por_mes</th>\n",
       "      <th>lag2mes_ventas_promedio_por_sku_por_mes</th>\n",
       "      <th>lag3mes_ventas_totales_por_tienda_por_mes</th>\n",
       "      <th>lag3mes_ventas_promedio_por_tienda_por_mes</th>\n",
       "      <th>lag3mes_ventas_totales_por_marca_por_mes</th>\n",
       "      <th>lag3mes_entas_promedio_por_marca_por_mes</th>\n",
       "      <th>lag3mes_ventas_totales_por_gamma_por_mes</th>\n",
       "      <th>lag3mes_ventas_promedio_por_gamma_por_mes</th>\n",
       "      <th>lag3mes_ventas_totales_por_sku_por_mes</th>\n",
       "      <th>lag3mes_ventas_promedio_por_sku_por_mes</th>\n",
       "    </tr>\n",
       "    <tr>\n",
       "      <th>tiendaID</th>\n",
       "      <th>skuID</th>\n",
       "      <th>fechaID</th>\n",
       "      <th></th>\n",
       "      <th></th>\n",
       "      <th></th>\n",
       "      <th></th>\n",
       "      <th></th>\n",
       "      <th></th>\n",
       "      <th></th>\n",
       "      <th></th>\n",
       "      <th></th>\n",
       "      <th></th>\n",
       "      <th></th>\n",
       "      <th></th>\n",
       "      <th></th>\n",
       "      <th></th>\n",
       "      <th></th>\n",
       "      <th></th>\n",
       "      <th></th>\n",
       "      <th></th>\n",
       "      <th></th>\n",
       "      <th></th>\n",
       "      <th></th>\n",
       "    </tr>\n",
       "  </thead>\n",
       "  <tbody>\n",
       "    <tr>\n",
       "      <th rowspan=\"6\" valign=\"top\">1</th>\n",
       "      <th rowspan=\"6\" valign=\"top\">1</th>\n",
       "      <th>0</th>\n",
       "      <td>0</td>\n",
       "      <td>0.0</td>\n",
       "      <td>70</td>\n",
       "      <td>1.044776</td>\n",
       "      <td>355</td>\n",
       "      <td>1.047198</td>\n",
       "      <td>86507</td>\n",
       "      <td>1.161542</td>\n",
       "      <td>1</td>\n",
       "      <td>1.0</td>\n",
       "      <td>...</td>\n",
       "      <td>1</td>\n",
       "      <td>1.0</td>\n",
       "      <td>70</td>\n",
       "      <td>1.044776</td>\n",
       "      <td>355</td>\n",
       "      <td>1.047198</td>\n",
       "      <td>86507</td>\n",
       "      <td>1.161542</td>\n",
       "      <td>1</td>\n",
       "      <td>1.0</td>\n",
       "    </tr>\n",
       "    <tr>\n",
       "      <th>1</th>\n",
       "      <td>0</td>\n",
       "      <td>0.0</td>\n",
       "      <td>79</td>\n",
       "      <td>1.128571</td>\n",
       "      <td>379</td>\n",
       "      <td>1.046961</td>\n",
       "      <td>92120</td>\n",
       "      <td>1.137986</td>\n",
       "      <td>1</td>\n",
       "      <td>1.0</td>\n",
       "      <td>...</td>\n",
       "      <td>1</td>\n",
       "      <td>1.0</td>\n",
       "      <td>70</td>\n",
       "      <td>1.044776</td>\n",
       "      <td>355</td>\n",
       "      <td>1.047198</td>\n",
       "      <td>86507</td>\n",
       "      <td>1.161542</td>\n",
       "      <td>1</td>\n",
       "      <td>1.0</td>\n",
       "    </tr>\n",
       "    <tr>\n",
       "      <th>2</th>\n",
       "      <td>0</td>\n",
       "      <td>0.0</td>\n",
       "      <td>87</td>\n",
       "      <td>1.060976</td>\n",
       "      <td>264</td>\n",
       "      <td>1.068826</td>\n",
       "      <td>84129</td>\n",
       "      <td>1.126270</td>\n",
       "      <td>0</td>\n",
       "      <td>0.0</td>\n",
       "      <td>...</td>\n",
       "      <td>1</td>\n",
       "      <td>1.0</td>\n",
       "      <td>70</td>\n",
       "      <td>1.044776</td>\n",
       "      <td>355</td>\n",
       "      <td>1.047198</td>\n",
       "      <td>86507</td>\n",
       "      <td>1.161542</td>\n",
       "      <td>1</td>\n",
       "      <td>1.0</td>\n",
       "    </tr>\n",
       "    <tr>\n",
       "      <th>3</th>\n",
       "      <td>0</td>\n",
       "      <td>0.0</td>\n",
       "      <td>75</td>\n",
       "      <td>1.041667</td>\n",
       "      <td>136</td>\n",
       "      <td>1.079365</td>\n",
       "      <td>73612</td>\n",
       "      <td>1.110521</td>\n",
       "      <td>0</td>\n",
       "      <td>0.0</td>\n",
       "      <td>...</td>\n",
       "      <td>1</td>\n",
       "      <td>1.0</td>\n",
       "      <td>70</td>\n",
       "      <td>1.044776</td>\n",
       "      <td>355</td>\n",
       "      <td>1.047198</td>\n",
       "      <td>86507</td>\n",
       "      <td>1.161542</td>\n",
       "      <td>1</td>\n",
       "      <td>1.0</td>\n",
       "    </tr>\n",
       "    <tr>\n",
       "      <th>4</th>\n",
       "      <td>0</td>\n",
       "      <td>0.0</td>\n",
       "      <td>77</td>\n",
       "      <td>1.026667</td>\n",
       "      <td>86</td>\n",
       "      <td>1.088608</td>\n",
       "      <td>67113</td>\n",
       "      <td>1.103143</td>\n",
       "      <td>0</td>\n",
       "      <td>0.0</td>\n",
       "      <td>...</td>\n",
       "      <td>0</td>\n",
       "      <td>0.0</td>\n",
       "      <td>79</td>\n",
       "      <td>1.128571</td>\n",
       "      <td>379</td>\n",
       "      <td>1.046961</td>\n",
       "      <td>92120</td>\n",
       "      <td>1.137986</td>\n",
       "      <td>1</td>\n",
       "      <td>1.0</td>\n",
       "    </tr>\n",
       "    <tr>\n",
       "      <th>5</th>\n",
       "      <td>0</td>\n",
       "      <td>0.0</td>\n",
       "      <td>80</td>\n",
       "      <td>1.126761</td>\n",
       "      <td>45</td>\n",
       "      <td>1.097561</td>\n",
       "      <td>89688</td>\n",
       "      <td>1.182501</td>\n",
       "      <td>0</td>\n",
       "      <td>0.0</td>\n",
       "      <td>...</td>\n",
       "      <td>0</td>\n",
       "      <td>0.0</td>\n",
       "      <td>87</td>\n",
       "      <td>1.060976</td>\n",
       "      <td>264</td>\n",
       "      <td>1.068826</td>\n",
       "      <td>84129</td>\n",
       "      <td>1.126270</td>\n",
       "      <td>0</td>\n",
       "      <td>0.0</td>\n",
       "    </tr>\n",
       "  </tbody>\n",
       "</table>\n",
       "<p>6 rows × 34 columns</p>\n",
       "</div>"
      ],
      "text/plain": [
       "                        ventas_por_mes  variable_y_ventas_del_siguiente_mes  \\\n",
       "tiendaID skuID fechaID                                                        \n",
       "1        1     0                     0                                  0.0   \n",
       "               1                     0                                  0.0   \n",
       "               2                     0                                  0.0   \n",
       "               3                     0                                  0.0   \n",
       "               4                     0                                  0.0   \n",
       "               5                     0                                  0.0   \n",
       "\n",
       "                        ventas_totales_por_tienda_por_mes  \\\n",
       "tiendaID skuID fechaID                                      \n",
       "1        1     0                                       70   \n",
       "               1                                       79   \n",
       "               2                                       87   \n",
       "               3                                       75   \n",
       "               4                                       77   \n",
       "               5                                       80   \n",
       "\n",
       "                        ventas_promedio_por_tienda_por_mes  \\\n",
       "tiendaID skuID fechaID                                       \n",
       "1        1     0                                  1.044776   \n",
       "               1                                  1.128571   \n",
       "               2                                  1.060976   \n",
       "               3                                  1.041667   \n",
       "               4                                  1.026667   \n",
       "               5                                  1.126761   \n",
       "\n",
       "                        ventas_totales_por_marca_por_mes  \\\n",
       "tiendaID skuID fechaID                                     \n",
       "1        1     0                                     355   \n",
       "               1                                     379   \n",
       "               2                                     264   \n",
       "               3                                     136   \n",
       "               4                                      86   \n",
       "               5                                      45   \n",
       "\n",
       "                        ventas_promedio_por_marca_por_mes  \\\n",
       "tiendaID skuID fechaID                                      \n",
       "1        1     0                                 1.047198   \n",
       "               1                                 1.046961   \n",
       "               2                                 1.068826   \n",
       "               3                                 1.079365   \n",
       "               4                                 1.088608   \n",
       "               5                                 1.097561   \n",
       "\n",
       "                        ventas_totales_por_gamma_por_mes  \\\n",
       "tiendaID skuID fechaID                                     \n",
       "1        1     0                                   86507   \n",
       "               1                                   92120   \n",
       "               2                                   84129   \n",
       "               3                                   73612   \n",
       "               4                                   67113   \n",
       "               5                                   89688   \n",
       "\n",
       "                        ventas_promedio_por_gamma_por_mes  \\\n",
       "tiendaID skuID fechaID                                      \n",
       "1        1     0                                 1.161542   \n",
       "               1                                 1.137986   \n",
       "               2                                 1.126270   \n",
       "               3                                 1.110521   \n",
       "               4                                 1.103143   \n",
       "               5                                 1.182501   \n",
       "\n",
       "                        ventas_totales_por_sku_por_mes  \\\n",
       "tiendaID skuID fechaID                                   \n",
       "1        1     0                                     1   \n",
       "               1                                     1   \n",
       "               2                                     0   \n",
       "               3                                     0   \n",
       "               4                                     0   \n",
       "               5                                     0   \n",
       "\n",
       "                        ventas_promedio_por_sku_por_mes  ...  \\\n",
       "tiendaID skuID fechaID                                   ...   \n",
       "1        1     0                                    1.0  ...   \n",
       "               1                                    1.0  ...   \n",
       "               2                                    0.0  ...   \n",
       "               3                                    0.0  ...   \n",
       "               4                                    0.0  ...   \n",
       "               5                                    0.0  ...   \n",
       "\n",
       "                        lag2mes_ventas_totales_por_sku_por_mes  \\\n",
       "tiendaID skuID fechaID                                           \n",
       "1        1     0                                             1   \n",
       "               1                                             1   \n",
       "               2                                             1   \n",
       "               3                                             1   \n",
       "               4                                             0   \n",
       "               5                                             0   \n",
       "\n",
       "                        lag2mes_ventas_promedio_por_sku_por_mes  \\\n",
       "tiendaID skuID fechaID                                            \n",
       "1        1     0                                            1.0   \n",
       "               1                                            1.0   \n",
       "               2                                            1.0   \n",
       "               3                                            1.0   \n",
       "               4                                            0.0   \n",
       "               5                                            0.0   \n",
       "\n",
       "                        lag3mes_ventas_totales_por_tienda_por_mes  \\\n",
       "tiendaID skuID fechaID                                              \n",
       "1        1     0                                               70   \n",
       "               1                                               70   \n",
       "               2                                               70   \n",
       "               3                                               70   \n",
       "               4                                               79   \n",
       "               5                                               87   \n",
       "\n",
       "                        lag3mes_ventas_promedio_por_tienda_por_mes  \\\n",
       "tiendaID skuID fechaID                                               \n",
       "1        1     0                                          1.044776   \n",
       "               1                                          1.044776   \n",
       "               2                                          1.044776   \n",
       "               3                                          1.044776   \n",
       "               4                                          1.128571   \n",
       "               5                                          1.060976   \n",
       "\n",
       "                        lag3mes_ventas_totales_por_marca_por_mes  \\\n",
       "tiendaID skuID fechaID                                             \n",
       "1        1     0                                             355   \n",
       "               1                                             355   \n",
       "               2                                             355   \n",
       "               3                                             355   \n",
       "               4                                             379   \n",
       "               5                                             264   \n",
       "\n",
       "                        lag3mes_entas_promedio_por_marca_por_mes  \\\n",
       "tiendaID skuID fechaID                                             \n",
       "1        1     0                                        1.047198   \n",
       "               1                                        1.047198   \n",
       "               2                                        1.047198   \n",
       "               3                                        1.047198   \n",
       "               4                                        1.046961   \n",
       "               5                                        1.068826   \n",
       "\n",
       "                        lag3mes_ventas_totales_por_gamma_por_mes  \\\n",
       "tiendaID skuID fechaID                                             \n",
       "1        1     0                                           86507   \n",
       "               1                                           86507   \n",
       "               2                                           86507   \n",
       "               3                                           86507   \n",
       "               4                                           92120   \n",
       "               5                                           84129   \n",
       "\n",
       "                        lag3mes_ventas_promedio_por_gamma_por_mes  \\\n",
       "tiendaID skuID fechaID                                              \n",
       "1        1     0                                         1.161542   \n",
       "               1                                         1.161542   \n",
       "               2                                         1.161542   \n",
       "               3                                         1.161542   \n",
       "               4                                         1.137986   \n",
       "               5                                         1.126270   \n",
       "\n",
       "                        lag3mes_ventas_totales_por_sku_por_mes  \\\n",
       "tiendaID skuID fechaID                                           \n",
       "1        1     0                                             1   \n",
       "               1                                             1   \n",
       "               2                                             1   \n",
       "               3                                             1   \n",
       "               4                                             1   \n",
       "               5                                             0   \n",
       "\n",
       "                        lag3mes_ventas_promedio_por_sku_por_mes  \n",
       "tiendaID skuID fechaID                                           \n",
       "1        1     0                                            1.0  \n",
       "               1                                            1.0  \n",
       "               2                                            1.0  \n",
       "               3                                            1.0  \n",
       "               4                                            1.0  \n",
       "               5                                            0.0  \n",
       "\n",
       "[6 rows x 34 columns]"
      ]
     },
     "execution_count": 13,
     "metadata": {},
     "output_type": "execute_result"
    }
   ],
   "source": [
    "entrenamiento_6.set_index(['tiendaID', 'skuID','fechaID'], inplace=True)\n",
    "entrenamiento_6.head(6)"
   ]
  },
  {
   "cell_type": "code",
   "execution_count": 14,
   "metadata": {},
   "outputs": [
    {
     "data": {
      "text/html": [
       "<div>\n",
       "<style scoped>\n",
       "    .dataframe tbody tr th:only-of-type {\n",
       "        vertical-align: middle;\n",
       "    }\n",
       "\n",
       "    .dataframe tbody tr th {\n",
       "        vertical-align: top;\n",
       "    }\n",
       "\n",
       "    .dataframe thead th {\n",
       "        text-align: right;\n",
       "    }\n",
       "</style>\n",
       "<table border=\"1\" class=\"dataframe\">\n",
       "  <thead>\n",
       "    <tr style=\"text-align: right;\">\n",
       "      <th></th>\n",
       "      <th></th>\n",
       "      <th></th>\n",
       "      <th>ventas_por_mes</th>\n",
       "      <th>variable_y_ventas_del_siguiente_mes</th>\n",
       "      <th>ventas_totales_por_tienda_por_mes</th>\n",
       "      <th>ventas_promedio_por_tienda_por_mes</th>\n",
       "      <th>ventas_totales_por_marca_por_mes</th>\n",
       "      <th>ventas_promedio_por_marca_por_mes</th>\n",
       "      <th>ventas_totales_por_gamma_por_mes</th>\n",
       "      <th>ventas_promedio_por_gamma_por_mes</th>\n",
       "      <th>ventas_totales_por_sku_por_mes</th>\n",
       "      <th>ventas_promedio_por_sku_por_mes</th>\n",
       "      <th>...</th>\n",
       "      <th>lag2mes_ventas_totales_por_sku_por_mes</th>\n",
       "      <th>lag2mes_ventas_promedio_por_sku_por_mes</th>\n",
       "      <th>lag3mes_ventas_totales_por_tienda_por_mes</th>\n",
       "      <th>lag3mes_ventas_promedio_por_tienda_por_mes</th>\n",
       "      <th>lag3mes_ventas_totales_por_marca_por_mes</th>\n",
       "      <th>lag3mes_entas_promedio_por_marca_por_mes</th>\n",
       "      <th>lag3mes_ventas_totales_por_gamma_por_mes</th>\n",
       "      <th>lag3mes_ventas_promedio_por_gamma_por_mes</th>\n",
       "      <th>lag3mes_ventas_totales_por_sku_por_mes</th>\n",
       "      <th>lag3mes_ventas_promedio_por_sku_por_mes</th>\n",
       "    </tr>\n",
       "    <tr>\n",
       "      <th>tiendaID</th>\n",
       "      <th>skuID</th>\n",
       "      <th>fechaID</th>\n",
       "      <th></th>\n",
       "      <th></th>\n",
       "      <th></th>\n",
       "      <th></th>\n",
       "      <th></th>\n",
       "      <th></th>\n",
       "      <th></th>\n",
       "      <th></th>\n",
       "      <th></th>\n",
       "      <th></th>\n",
       "      <th></th>\n",
       "      <th></th>\n",
       "      <th></th>\n",
       "      <th></th>\n",
       "      <th></th>\n",
       "      <th></th>\n",
       "      <th></th>\n",
       "      <th></th>\n",
       "      <th></th>\n",
       "      <th></th>\n",
       "      <th></th>\n",
       "    </tr>\n",
       "  </thead>\n",
       "  <tbody>\n",
       "    <tr>\n",
       "      <th>1</th>\n",
       "      <th>1</th>\n",
       "      <th>6</th>\n",
       "      <td>0</td>\n",
       "      <td>0.0</td>\n",
       "      <td>73</td>\n",
       "      <td>1.028169</td>\n",
       "      <td>32</td>\n",
       "      <td>1.066667</td>\n",
       "      <td>95478</td>\n",
       "      <td>1.156594</td>\n",
       "      <td>0</td>\n",
       "      <td>0.0</td>\n",
       "      <td>...</td>\n",
       "      <td>0</td>\n",
       "      <td>0.0</td>\n",
       "      <td>75</td>\n",
       "      <td>1.041667</td>\n",
       "      <td>136</td>\n",
       "      <td>1.079365</td>\n",
       "      <td>73612</td>\n",
       "      <td>1.110521</td>\n",
       "      <td>0</td>\n",
       "      <td>0.0</td>\n",
       "    </tr>\n",
       "    <tr>\n",
       "      <th>2</th>\n",
       "      <th>1</th>\n",
       "      <th>6</th>\n",
       "      <td>0</td>\n",
       "      <td>0.0</td>\n",
       "      <td>27</td>\n",
       "      <td>1.038462</td>\n",
       "      <td>32</td>\n",
       "      <td>1.066667</td>\n",
       "      <td>95478</td>\n",
       "      <td>1.156594</td>\n",
       "      <td>0</td>\n",
       "      <td>0.0</td>\n",
       "      <td>...</td>\n",
       "      <td>0</td>\n",
       "      <td>0.0</td>\n",
       "      <td>22</td>\n",
       "      <td>1.047619</td>\n",
       "      <td>136</td>\n",
       "      <td>1.079365</td>\n",
       "      <td>73612</td>\n",
       "      <td>1.110521</td>\n",
       "      <td>0</td>\n",
       "      <td>0.0</td>\n",
       "    </tr>\n",
       "  </tbody>\n",
       "</table>\n",
       "<p>2 rows × 34 columns</p>\n",
       "</div>"
      ],
      "text/plain": [
       "                        ventas_por_mes  variable_y_ventas_del_siguiente_mes  \\\n",
       "tiendaID skuID fechaID                                                        \n",
       "1        1     6                     0                                  0.0   \n",
       "2        1     6                     0                                  0.0   \n",
       "\n",
       "                        ventas_totales_por_tienda_por_mes  \\\n",
       "tiendaID skuID fechaID                                      \n",
       "1        1     6                                       73   \n",
       "2        1     6                                       27   \n",
       "\n",
       "                        ventas_promedio_por_tienda_por_mes  \\\n",
       "tiendaID skuID fechaID                                       \n",
       "1        1     6                                  1.028169   \n",
       "2        1     6                                  1.038462   \n",
       "\n",
       "                        ventas_totales_por_marca_por_mes  \\\n",
       "tiendaID skuID fechaID                                     \n",
       "1        1     6                                      32   \n",
       "2        1     6                                      32   \n",
       "\n",
       "                        ventas_promedio_por_marca_por_mes  \\\n",
       "tiendaID skuID fechaID                                      \n",
       "1        1     6                                 1.066667   \n",
       "2        1     6                                 1.066667   \n",
       "\n",
       "                        ventas_totales_por_gamma_por_mes  \\\n",
       "tiendaID skuID fechaID                                     \n",
       "1        1     6                                   95478   \n",
       "2        1     6                                   95478   \n",
       "\n",
       "                        ventas_promedio_por_gamma_por_mes  \\\n",
       "tiendaID skuID fechaID                                      \n",
       "1        1     6                                 1.156594   \n",
       "2        1     6                                 1.156594   \n",
       "\n",
       "                        ventas_totales_por_sku_por_mes  \\\n",
       "tiendaID skuID fechaID                                   \n",
       "1        1     6                                     0   \n",
       "2        1     6                                     0   \n",
       "\n",
       "                        ventas_promedio_por_sku_por_mes  ...  \\\n",
       "tiendaID skuID fechaID                                   ...   \n",
       "1        1     6                                    0.0  ...   \n",
       "2        1     6                                    0.0  ...   \n",
       "\n",
       "                        lag2mes_ventas_totales_por_sku_por_mes  \\\n",
       "tiendaID skuID fechaID                                           \n",
       "1        1     6                                             0   \n",
       "2        1     6                                             0   \n",
       "\n",
       "                        lag2mes_ventas_promedio_por_sku_por_mes  \\\n",
       "tiendaID skuID fechaID                                            \n",
       "1        1     6                                            0.0   \n",
       "2        1     6                                            0.0   \n",
       "\n",
       "                        lag3mes_ventas_totales_por_tienda_por_mes  \\\n",
       "tiendaID skuID fechaID                                              \n",
       "1        1     6                                               75   \n",
       "2        1     6                                               22   \n",
       "\n",
       "                        lag3mes_ventas_promedio_por_tienda_por_mes  \\\n",
       "tiendaID skuID fechaID                                               \n",
       "1        1     6                                          1.041667   \n",
       "2        1     6                                          1.047619   \n",
       "\n",
       "                        lag3mes_ventas_totales_por_marca_por_mes  \\\n",
       "tiendaID skuID fechaID                                             \n",
       "1        1     6                                             136   \n",
       "2        1     6                                             136   \n",
       "\n",
       "                        lag3mes_entas_promedio_por_marca_por_mes  \\\n",
       "tiendaID skuID fechaID                                             \n",
       "1        1     6                                        1.079365   \n",
       "2        1     6                                        1.079365   \n",
       "\n",
       "                        lag3mes_ventas_totales_por_gamma_por_mes  \\\n",
       "tiendaID skuID fechaID                                             \n",
       "1        1     6                                           73612   \n",
       "2        1     6                                           73612   \n",
       "\n",
       "                        lag3mes_ventas_promedio_por_gamma_por_mes  \\\n",
       "tiendaID skuID fechaID                                              \n",
       "1        1     6                                         1.110521   \n",
       "2        1     6                                         1.110521   \n",
       "\n",
       "                        lag3mes_ventas_totales_por_sku_por_mes  \\\n",
       "tiendaID skuID fechaID                                           \n",
       "1        1     6                                             0   \n",
       "2        1     6                                             0   \n",
       "\n",
       "                        lag3mes_ventas_promedio_por_sku_por_mes  \n",
       "tiendaID skuID fechaID                                           \n",
       "1        1     6                                            0.0  \n",
       "2        1     6                                            0.0  \n",
       "\n",
       "[2 rows x 34 columns]"
      ]
     },
     "execution_count": 14,
     "metadata": {},
     "output_type": "execute_result"
    }
   ],
   "source": [
    "prueba_6.set_index(['tiendaID', 'skuID','fechaID'], inplace=True)\n",
    "prueba_6.head(2)"
   ]
  },
  {
   "cell_type": "code",
   "execution_count": 15,
   "metadata": {},
   "outputs": [],
   "source": [
    "#Dividir x y y del conjunto de entrenamiento \n",
    "x_6 = entrenamiento_6.iloc[:, entrenamiento_6.columns != 'variable_y_ventas_del_siguiente_mes']\n",
    "y_6 = entrenamiento_6.iloc[:, entrenamiento_6.columns == 'variable_y_ventas_del_siguiente_mes']"
   ]
  },
  {
   "cell_type": "code",
   "execution_count": 16,
   "metadata": {},
   "outputs": [],
   "source": [
    "#Dividir en x y y el conjunyo de prueba\n",
    "prueba_x_6= prueba_6.iloc[:, prueba_6.columns != 'variable_y_ventas_del_siguiente_mes']\n",
    "prueba_y_6= prueba_6.iloc[:, prueba_6.columns == 'variable_y_ventas_del_siguiente_mes']"
   ]
  },
  {
   "cell_type": "markdown",
   "metadata": {},
   "source": [
    "# <font color='darkblue'>-.-.-.-.-.-.-.-.-.-.-.-.-.-.-.-.-.-.-.-.-.-.-.-.-.-.-.-.-.-.-.-.-.-.-.-..-.-.-.-.-.-.-.-.-.-.-.-.-..-.-.-.-.-.-.-.-.-.-.-.-.-..-.-.-.-.-.-.-.-.-.-.-.-.-.-.-.-.- </font>"
   ]
  },
  {
   "cell_type": "markdown",
   "metadata": {},
   "source": [
    "## 7. Séptima división: \n",
    "#### Entrenamiento: fechaID=0,1,2,3,4,5,6 (mes junio julio agosto septiembre octubre noviembre diciembre) - y: ventas enero\n",
    "#### Prueba: fechaID=7 (mes enero) - y:ventas febrero"
   ]
  },
  {
   "cell_type": "code",
   "execution_count": 10,
   "metadata": {},
   "outputs": [
    {
     "name": "stdout",
     "output_type": "stream",
     "text": [
      "Entrenar con los meses de Junio, Julio, Agosto, Septiembre, Octubre, Noviembre y Diciembre cuyos índices son: 0 1 2 3 4 5 6\n",
      "Probar con el mes de Agosto cuyo índice es: 7\n"
     ]
    }
   ],
   "source": [
    "#Límites para cortar conjuntos en dattos\n",
    "entrenamiento_junjulagosepoctnovdic_para_predecir_enero = mes[6]\n",
    "prueba_enero_para_predecir_en_febrero = mes[7] \n",
    "\n",
    "print('Entrenar con los meses de Junio, Julio, Agosto, Septiembre, Octubre, Noviembre y Diciembre cuyos índices son:', \"0\",\"1\",\"2\",\"3\",\"4\",\"5\",entrenamiento_junjulagosepoctnovdic_para_predecir_enero)\n",
    "print('Probar con el mes de Agosto cuyo índice es:', prueba_enero_para_predecir_en_febrero)"
   ]
  },
  {
   "cell_type": "code",
   "execution_count": 11,
   "metadata": {},
   "outputs": [
    {
     "data": {
      "text/plain": [
       "(6080165, 37)"
      ]
     },
     "execution_count": 11,
     "metadata": {},
     "output_type": "execute_result"
    }
   ],
   "source": [
    "#dividir el archivo en entrenamiento y prueba\n",
    "entrenamiento_7 = datos_modelo[datos_modelo['fechaID']<=entrenamiento_junjulagosepoctnovdic_para_predecir_enero]\n",
    "#entrenamiento_7.head(2)\n",
    "entrenamiento_7.shape"
   ]
  },
  {
   "cell_type": "code",
   "execution_count": 12,
   "metadata": {},
   "outputs": [
    {
     "data": {
      "text/plain": [
       "(868595, 37)"
      ]
     },
     "execution_count": 12,
     "metadata": {},
     "output_type": "execute_result"
    }
   ],
   "source": [
    "prueba_7 = datos_modelo[datos_modelo['fechaID']==prueba_enero_para_predecir_en_febrero]\n",
    "#prueba_7.head(2)\n",
    "prueba_7.shape"
   ]
  },
  {
   "cell_type": "code",
   "execution_count": 13,
   "metadata": {},
   "outputs": [
    {
     "data": {
      "text/html": [
       "<div>\n",
       "<style scoped>\n",
       "    .dataframe tbody tr th:only-of-type {\n",
       "        vertical-align: middle;\n",
       "    }\n",
       "\n",
       "    .dataframe tbody tr th {\n",
       "        vertical-align: top;\n",
       "    }\n",
       "\n",
       "    .dataframe thead th {\n",
       "        text-align: right;\n",
       "    }\n",
       "</style>\n",
       "<table border=\"1\" class=\"dataframe\">\n",
       "  <thead>\n",
       "    <tr style=\"text-align: right;\">\n",
       "      <th></th>\n",
       "      <th></th>\n",
       "      <th></th>\n",
       "      <th>ventas_por_mes</th>\n",
       "      <th>variable_y_ventas_del_siguiente_mes</th>\n",
       "      <th>ventas_totales_por_tienda_por_mes</th>\n",
       "      <th>ventas_promedio_por_tienda_por_mes</th>\n",
       "      <th>ventas_totales_por_marca_por_mes</th>\n",
       "      <th>ventas_promedio_por_marca_por_mes</th>\n",
       "      <th>ventas_totales_por_gamma_por_mes</th>\n",
       "      <th>ventas_promedio_por_gamma_por_mes</th>\n",
       "      <th>ventas_totales_por_sku_por_mes</th>\n",
       "      <th>ventas_promedio_por_sku_por_mes</th>\n",
       "      <th>...</th>\n",
       "      <th>lag2mes_ventas_totales_por_sku_por_mes</th>\n",
       "      <th>lag2mes_ventas_promedio_por_sku_por_mes</th>\n",
       "      <th>lag3mes_ventas_totales_por_tienda_por_mes</th>\n",
       "      <th>lag3mes_ventas_promedio_por_tienda_por_mes</th>\n",
       "      <th>lag3mes_ventas_totales_por_marca_por_mes</th>\n",
       "      <th>lag3mes_entas_promedio_por_marca_por_mes</th>\n",
       "      <th>lag3mes_ventas_totales_por_gamma_por_mes</th>\n",
       "      <th>lag3mes_ventas_promedio_por_gamma_por_mes</th>\n",
       "      <th>lag3mes_ventas_totales_por_sku_por_mes</th>\n",
       "      <th>lag3mes_ventas_promedio_por_sku_por_mes</th>\n",
       "    </tr>\n",
       "    <tr>\n",
       "      <th>tiendaID</th>\n",
       "      <th>skuID</th>\n",
       "      <th>fechaID</th>\n",
       "      <th></th>\n",
       "      <th></th>\n",
       "      <th></th>\n",
       "      <th></th>\n",
       "      <th></th>\n",
       "      <th></th>\n",
       "      <th></th>\n",
       "      <th></th>\n",
       "      <th></th>\n",
       "      <th></th>\n",
       "      <th></th>\n",
       "      <th></th>\n",
       "      <th></th>\n",
       "      <th></th>\n",
       "      <th></th>\n",
       "      <th></th>\n",
       "      <th></th>\n",
       "      <th></th>\n",
       "      <th></th>\n",
       "      <th></th>\n",
       "      <th></th>\n",
       "    </tr>\n",
       "  </thead>\n",
       "  <tbody>\n",
       "    <tr>\n",
       "      <th rowspan=\"7\" valign=\"top\">1</th>\n",
       "      <th rowspan=\"7\" valign=\"top\">1</th>\n",
       "      <th>0</th>\n",
       "      <td>0</td>\n",
       "      <td>0.0</td>\n",
       "      <td>70</td>\n",
       "      <td>1.044776</td>\n",
       "      <td>355</td>\n",
       "      <td>1.047198</td>\n",
       "      <td>86507</td>\n",
       "      <td>1.161542</td>\n",
       "      <td>1</td>\n",
       "      <td>1.0</td>\n",
       "      <td>...</td>\n",
       "      <td>1</td>\n",
       "      <td>1.0</td>\n",
       "      <td>70</td>\n",
       "      <td>1.044776</td>\n",
       "      <td>355</td>\n",
       "      <td>1.047198</td>\n",
       "      <td>86507</td>\n",
       "      <td>1.161542</td>\n",
       "      <td>1</td>\n",
       "      <td>1.0</td>\n",
       "    </tr>\n",
       "    <tr>\n",
       "      <th>1</th>\n",
       "      <td>0</td>\n",
       "      <td>0.0</td>\n",
       "      <td>79</td>\n",
       "      <td>1.128571</td>\n",
       "      <td>379</td>\n",
       "      <td>1.046961</td>\n",
       "      <td>92120</td>\n",
       "      <td>1.137986</td>\n",
       "      <td>1</td>\n",
       "      <td>1.0</td>\n",
       "      <td>...</td>\n",
       "      <td>1</td>\n",
       "      <td>1.0</td>\n",
       "      <td>70</td>\n",
       "      <td>1.044776</td>\n",
       "      <td>355</td>\n",
       "      <td>1.047198</td>\n",
       "      <td>86507</td>\n",
       "      <td>1.161542</td>\n",
       "      <td>1</td>\n",
       "      <td>1.0</td>\n",
       "    </tr>\n",
       "    <tr>\n",
       "      <th>2</th>\n",
       "      <td>0</td>\n",
       "      <td>0.0</td>\n",
       "      <td>87</td>\n",
       "      <td>1.060976</td>\n",
       "      <td>264</td>\n",
       "      <td>1.068826</td>\n",
       "      <td>84129</td>\n",
       "      <td>1.126270</td>\n",
       "      <td>0</td>\n",
       "      <td>0.0</td>\n",
       "      <td>...</td>\n",
       "      <td>1</td>\n",
       "      <td>1.0</td>\n",
       "      <td>70</td>\n",
       "      <td>1.044776</td>\n",
       "      <td>355</td>\n",
       "      <td>1.047198</td>\n",
       "      <td>86507</td>\n",
       "      <td>1.161542</td>\n",
       "      <td>1</td>\n",
       "      <td>1.0</td>\n",
       "    </tr>\n",
       "    <tr>\n",
       "      <th>3</th>\n",
       "      <td>0</td>\n",
       "      <td>0.0</td>\n",
       "      <td>75</td>\n",
       "      <td>1.041667</td>\n",
       "      <td>136</td>\n",
       "      <td>1.079365</td>\n",
       "      <td>73612</td>\n",
       "      <td>1.110521</td>\n",
       "      <td>0</td>\n",
       "      <td>0.0</td>\n",
       "      <td>...</td>\n",
       "      <td>1</td>\n",
       "      <td>1.0</td>\n",
       "      <td>70</td>\n",
       "      <td>1.044776</td>\n",
       "      <td>355</td>\n",
       "      <td>1.047198</td>\n",
       "      <td>86507</td>\n",
       "      <td>1.161542</td>\n",
       "      <td>1</td>\n",
       "      <td>1.0</td>\n",
       "    </tr>\n",
       "    <tr>\n",
       "      <th>4</th>\n",
       "      <td>0</td>\n",
       "      <td>0.0</td>\n",
       "      <td>77</td>\n",
       "      <td>1.026667</td>\n",
       "      <td>86</td>\n",
       "      <td>1.088608</td>\n",
       "      <td>67113</td>\n",
       "      <td>1.103143</td>\n",
       "      <td>0</td>\n",
       "      <td>0.0</td>\n",
       "      <td>...</td>\n",
       "      <td>0</td>\n",
       "      <td>0.0</td>\n",
       "      <td>79</td>\n",
       "      <td>1.128571</td>\n",
       "      <td>379</td>\n",
       "      <td>1.046961</td>\n",
       "      <td>92120</td>\n",
       "      <td>1.137986</td>\n",
       "      <td>1</td>\n",
       "      <td>1.0</td>\n",
       "    </tr>\n",
       "    <tr>\n",
       "      <th>5</th>\n",
       "      <td>0</td>\n",
       "      <td>0.0</td>\n",
       "      <td>80</td>\n",
       "      <td>1.126761</td>\n",
       "      <td>45</td>\n",
       "      <td>1.097561</td>\n",
       "      <td>89688</td>\n",
       "      <td>1.182501</td>\n",
       "      <td>0</td>\n",
       "      <td>0.0</td>\n",
       "      <td>...</td>\n",
       "      <td>0</td>\n",
       "      <td>0.0</td>\n",
       "      <td>87</td>\n",
       "      <td>1.060976</td>\n",
       "      <td>264</td>\n",
       "      <td>1.068826</td>\n",
       "      <td>84129</td>\n",
       "      <td>1.126270</td>\n",
       "      <td>0</td>\n",
       "      <td>0.0</td>\n",
       "    </tr>\n",
       "    <tr>\n",
       "      <th>6</th>\n",
       "      <td>0</td>\n",
       "      <td>0.0</td>\n",
       "      <td>73</td>\n",
       "      <td>1.028169</td>\n",
       "      <td>32</td>\n",
       "      <td>1.066667</td>\n",
       "      <td>95478</td>\n",
       "      <td>1.156594</td>\n",
       "      <td>0</td>\n",
       "      <td>0.0</td>\n",
       "      <td>...</td>\n",
       "      <td>0</td>\n",
       "      <td>0.0</td>\n",
       "      <td>75</td>\n",
       "      <td>1.041667</td>\n",
       "      <td>136</td>\n",
       "      <td>1.079365</td>\n",
       "      <td>73612</td>\n",
       "      <td>1.110521</td>\n",
       "      <td>0</td>\n",
       "      <td>0.0</td>\n",
       "    </tr>\n",
       "  </tbody>\n",
       "</table>\n",
       "<p>7 rows × 34 columns</p>\n",
       "</div>"
      ],
      "text/plain": [
       "                        ventas_por_mes  variable_y_ventas_del_siguiente_mes  \\\n",
       "tiendaID skuID fechaID                                                        \n",
       "1        1     0                     0                                  0.0   \n",
       "               1                     0                                  0.0   \n",
       "               2                     0                                  0.0   \n",
       "               3                     0                                  0.0   \n",
       "               4                     0                                  0.0   \n",
       "               5                     0                                  0.0   \n",
       "               6                     0                                  0.0   \n",
       "\n",
       "                        ventas_totales_por_tienda_por_mes  \\\n",
       "tiendaID skuID fechaID                                      \n",
       "1        1     0                                       70   \n",
       "               1                                       79   \n",
       "               2                                       87   \n",
       "               3                                       75   \n",
       "               4                                       77   \n",
       "               5                                       80   \n",
       "               6                                       73   \n",
       "\n",
       "                        ventas_promedio_por_tienda_por_mes  \\\n",
       "tiendaID skuID fechaID                                       \n",
       "1        1     0                                  1.044776   \n",
       "               1                                  1.128571   \n",
       "               2                                  1.060976   \n",
       "               3                                  1.041667   \n",
       "               4                                  1.026667   \n",
       "               5                                  1.126761   \n",
       "               6                                  1.028169   \n",
       "\n",
       "                        ventas_totales_por_marca_por_mes  \\\n",
       "tiendaID skuID fechaID                                     \n",
       "1        1     0                                     355   \n",
       "               1                                     379   \n",
       "               2                                     264   \n",
       "               3                                     136   \n",
       "               4                                      86   \n",
       "               5                                      45   \n",
       "               6                                      32   \n",
       "\n",
       "                        ventas_promedio_por_marca_por_mes  \\\n",
       "tiendaID skuID fechaID                                      \n",
       "1        1     0                                 1.047198   \n",
       "               1                                 1.046961   \n",
       "               2                                 1.068826   \n",
       "               3                                 1.079365   \n",
       "               4                                 1.088608   \n",
       "               5                                 1.097561   \n",
       "               6                                 1.066667   \n",
       "\n",
       "                        ventas_totales_por_gamma_por_mes  \\\n",
       "tiendaID skuID fechaID                                     \n",
       "1        1     0                                   86507   \n",
       "               1                                   92120   \n",
       "               2                                   84129   \n",
       "               3                                   73612   \n",
       "               4                                   67113   \n",
       "               5                                   89688   \n",
       "               6                                   95478   \n",
       "\n",
       "                        ventas_promedio_por_gamma_por_mes  \\\n",
       "tiendaID skuID fechaID                                      \n",
       "1        1     0                                 1.161542   \n",
       "               1                                 1.137986   \n",
       "               2                                 1.126270   \n",
       "               3                                 1.110521   \n",
       "               4                                 1.103143   \n",
       "               5                                 1.182501   \n",
       "               6                                 1.156594   \n",
       "\n",
       "                        ventas_totales_por_sku_por_mes  \\\n",
       "tiendaID skuID fechaID                                   \n",
       "1        1     0                                     1   \n",
       "               1                                     1   \n",
       "               2                                     0   \n",
       "               3                                     0   \n",
       "               4                                     0   \n",
       "               5                                     0   \n",
       "               6                                     0   \n",
       "\n",
       "                        ventas_promedio_por_sku_por_mes  ...  \\\n",
       "tiendaID skuID fechaID                                   ...   \n",
       "1        1     0                                    1.0  ...   \n",
       "               1                                    1.0  ...   \n",
       "               2                                    0.0  ...   \n",
       "               3                                    0.0  ...   \n",
       "               4                                    0.0  ...   \n",
       "               5                                    0.0  ...   \n",
       "               6                                    0.0  ...   \n",
       "\n",
       "                        lag2mes_ventas_totales_por_sku_por_mes  \\\n",
       "tiendaID skuID fechaID                                           \n",
       "1        1     0                                             1   \n",
       "               1                                             1   \n",
       "               2                                             1   \n",
       "               3                                             1   \n",
       "               4                                             0   \n",
       "               5                                             0   \n",
       "               6                                             0   \n",
       "\n",
       "                        lag2mes_ventas_promedio_por_sku_por_mes  \\\n",
       "tiendaID skuID fechaID                                            \n",
       "1        1     0                                            1.0   \n",
       "               1                                            1.0   \n",
       "               2                                            1.0   \n",
       "               3                                            1.0   \n",
       "               4                                            0.0   \n",
       "               5                                            0.0   \n",
       "               6                                            0.0   \n",
       "\n",
       "                        lag3mes_ventas_totales_por_tienda_por_mes  \\\n",
       "tiendaID skuID fechaID                                              \n",
       "1        1     0                                               70   \n",
       "               1                                               70   \n",
       "               2                                               70   \n",
       "               3                                               70   \n",
       "               4                                               79   \n",
       "               5                                               87   \n",
       "               6                                               75   \n",
       "\n",
       "                        lag3mes_ventas_promedio_por_tienda_por_mes  \\\n",
       "tiendaID skuID fechaID                                               \n",
       "1        1     0                                          1.044776   \n",
       "               1                                          1.044776   \n",
       "               2                                          1.044776   \n",
       "               3                                          1.044776   \n",
       "               4                                          1.128571   \n",
       "               5                                          1.060976   \n",
       "               6                                          1.041667   \n",
       "\n",
       "                        lag3mes_ventas_totales_por_marca_por_mes  \\\n",
       "tiendaID skuID fechaID                                             \n",
       "1        1     0                                             355   \n",
       "               1                                             355   \n",
       "               2                                             355   \n",
       "               3                                             355   \n",
       "               4                                             379   \n",
       "               5                                             264   \n",
       "               6                                             136   \n",
       "\n",
       "                        lag3mes_entas_promedio_por_marca_por_mes  \\\n",
       "tiendaID skuID fechaID                                             \n",
       "1        1     0                                        1.047198   \n",
       "               1                                        1.047198   \n",
       "               2                                        1.047198   \n",
       "               3                                        1.047198   \n",
       "               4                                        1.046961   \n",
       "               5                                        1.068826   \n",
       "               6                                        1.079365   \n",
       "\n",
       "                        lag3mes_ventas_totales_por_gamma_por_mes  \\\n",
       "tiendaID skuID fechaID                                             \n",
       "1        1     0                                           86507   \n",
       "               1                                           86507   \n",
       "               2                                           86507   \n",
       "               3                                           86507   \n",
       "               4                                           92120   \n",
       "               5                                           84129   \n",
       "               6                                           73612   \n",
       "\n",
       "                        lag3mes_ventas_promedio_por_gamma_por_mes  \\\n",
       "tiendaID skuID fechaID                                              \n",
       "1        1     0                                         1.161542   \n",
       "               1                                         1.161542   \n",
       "               2                                         1.161542   \n",
       "               3                                         1.161542   \n",
       "               4                                         1.137986   \n",
       "               5                                         1.126270   \n",
       "               6                                         1.110521   \n",
       "\n",
       "                        lag3mes_ventas_totales_por_sku_por_mes  \\\n",
       "tiendaID skuID fechaID                                           \n",
       "1        1     0                                             1   \n",
       "               1                                             1   \n",
       "               2                                             1   \n",
       "               3                                             1   \n",
       "               4                                             1   \n",
       "               5                                             0   \n",
       "               6                                             0   \n",
       "\n",
       "                        lag3mes_ventas_promedio_por_sku_por_mes  \n",
       "tiendaID skuID fechaID                                           \n",
       "1        1     0                                            1.0  \n",
       "               1                                            1.0  \n",
       "               2                                            1.0  \n",
       "               3                                            1.0  \n",
       "               4                                            1.0  \n",
       "               5                                            0.0  \n",
       "               6                                            0.0  \n",
       "\n",
       "[7 rows x 34 columns]"
      ]
     },
     "execution_count": 13,
     "metadata": {},
     "output_type": "execute_result"
    }
   ],
   "source": [
    "entrenamiento_7.set_index(['tiendaID', 'skuID','fechaID'], inplace=True)\n",
    "entrenamiento_7.head(7)"
   ]
  },
  {
   "cell_type": "code",
   "execution_count": 14,
   "metadata": {},
   "outputs": [
    {
     "data": {
      "text/html": [
       "<div>\n",
       "<style scoped>\n",
       "    .dataframe tbody tr th:only-of-type {\n",
       "        vertical-align: middle;\n",
       "    }\n",
       "\n",
       "    .dataframe tbody tr th {\n",
       "        vertical-align: top;\n",
       "    }\n",
       "\n",
       "    .dataframe thead th {\n",
       "        text-align: right;\n",
       "    }\n",
       "</style>\n",
       "<table border=\"1\" class=\"dataframe\">\n",
       "  <thead>\n",
       "    <tr style=\"text-align: right;\">\n",
       "      <th></th>\n",
       "      <th></th>\n",
       "      <th></th>\n",
       "      <th>ventas_por_mes</th>\n",
       "      <th>variable_y_ventas_del_siguiente_mes</th>\n",
       "      <th>ventas_totales_por_tienda_por_mes</th>\n",
       "      <th>ventas_promedio_por_tienda_por_mes</th>\n",
       "      <th>ventas_totales_por_marca_por_mes</th>\n",
       "      <th>ventas_promedio_por_marca_por_mes</th>\n",
       "      <th>ventas_totales_por_gamma_por_mes</th>\n",
       "      <th>ventas_promedio_por_gamma_por_mes</th>\n",
       "      <th>ventas_totales_por_sku_por_mes</th>\n",
       "      <th>ventas_promedio_por_sku_por_mes</th>\n",
       "      <th>...</th>\n",
       "      <th>lag2mes_ventas_totales_por_sku_por_mes</th>\n",
       "      <th>lag2mes_ventas_promedio_por_sku_por_mes</th>\n",
       "      <th>lag3mes_ventas_totales_por_tienda_por_mes</th>\n",
       "      <th>lag3mes_ventas_promedio_por_tienda_por_mes</th>\n",
       "      <th>lag3mes_ventas_totales_por_marca_por_mes</th>\n",
       "      <th>lag3mes_entas_promedio_por_marca_por_mes</th>\n",
       "      <th>lag3mes_ventas_totales_por_gamma_por_mes</th>\n",
       "      <th>lag3mes_ventas_promedio_por_gamma_por_mes</th>\n",
       "      <th>lag3mes_ventas_totales_por_sku_por_mes</th>\n",
       "      <th>lag3mes_ventas_promedio_por_sku_por_mes</th>\n",
       "    </tr>\n",
       "    <tr>\n",
       "      <th>tiendaID</th>\n",
       "      <th>skuID</th>\n",
       "      <th>fechaID</th>\n",
       "      <th></th>\n",
       "      <th></th>\n",
       "      <th></th>\n",
       "      <th></th>\n",
       "      <th></th>\n",
       "      <th></th>\n",
       "      <th></th>\n",
       "      <th></th>\n",
       "      <th></th>\n",
       "      <th></th>\n",
       "      <th></th>\n",
       "      <th></th>\n",
       "      <th></th>\n",
       "      <th></th>\n",
       "      <th></th>\n",
       "      <th></th>\n",
       "      <th></th>\n",
       "      <th></th>\n",
       "      <th></th>\n",
       "      <th></th>\n",
       "      <th></th>\n",
       "    </tr>\n",
       "  </thead>\n",
       "  <tbody>\n",
       "    <tr>\n",
       "      <th>1</th>\n",
       "      <th>1</th>\n",
       "      <th>7</th>\n",
       "      <td>0</td>\n",
       "      <td>0.0</td>\n",
       "      <td>70</td>\n",
       "      <td>1.09375</td>\n",
       "      <td>71</td>\n",
       "      <td>1.145161</td>\n",
       "      <td>66132</td>\n",
       "      <td>1.13079</td>\n",
       "      <td>1</td>\n",
       "      <td>1.0</td>\n",
       "      <td>...</td>\n",
       "      <td>0</td>\n",
       "      <td>0.0</td>\n",
       "      <td>77</td>\n",
       "      <td>1.026667</td>\n",
       "      <td>86</td>\n",
       "      <td>1.088608</td>\n",
       "      <td>67113</td>\n",
       "      <td>1.103143</td>\n",
       "      <td>0</td>\n",
       "      <td>0.0</td>\n",
       "    </tr>\n",
       "    <tr>\n",
       "      <th>2</th>\n",
       "      <th>1</th>\n",
       "      <th>7</th>\n",
       "      <td>0</td>\n",
       "      <td>0.0</td>\n",
       "      <td>17</td>\n",
       "      <td>1.00000</td>\n",
       "      <td>71</td>\n",
       "      <td>1.145161</td>\n",
       "      <td>66132</td>\n",
       "      <td>1.13079</td>\n",
       "      <td>1</td>\n",
       "      <td>1.0</td>\n",
       "      <td>...</td>\n",
       "      <td>0</td>\n",
       "      <td>0.0</td>\n",
       "      <td>9</td>\n",
       "      <td>1.125000</td>\n",
       "      <td>86</td>\n",
       "      <td>1.088608</td>\n",
       "      <td>67113</td>\n",
       "      <td>1.103143</td>\n",
       "      <td>0</td>\n",
       "      <td>0.0</td>\n",
       "    </tr>\n",
       "  </tbody>\n",
       "</table>\n",
       "<p>2 rows × 34 columns</p>\n",
       "</div>"
      ],
      "text/plain": [
       "                        ventas_por_mes  variable_y_ventas_del_siguiente_mes  \\\n",
       "tiendaID skuID fechaID                                                        \n",
       "1        1     7                     0                                  0.0   \n",
       "2        1     7                     0                                  0.0   \n",
       "\n",
       "                        ventas_totales_por_tienda_por_mes  \\\n",
       "tiendaID skuID fechaID                                      \n",
       "1        1     7                                       70   \n",
       "2        1     7                                       17   \n",
       "\n",
       "                        ventas_promedio_por_tienda_por_mes  \\\n",
       "tiendaID skuID fechaID                                       \n",
       "1        1     7                                   1.09375   \n",
       "2        1     7                                   1.00000   \n",
       "\n",
       "                        ventas_totales_por_marca_por_mes  \\\n",
       "tiendaID skuID fechaID                                     \n",
       "1        1     7                                      71   \n",
       "2        1     7                                      71   \n",
       "\n",
       "                        ventas_promedio_por_marca_por_mes  \\\n",
       "tiendaID skuID fechaID                                      \n",
       "1        1     7                                 1.145161   \n",
       "2        1     7                                 1.145161   \n",
       "\n",
       "                        ventas_totales_por_gamma_por_mes  \\\n",
       "tiendaID skuID fechaID                                     \n",
       "1        1     7                                   66132   \n",
       "2        1     7                                   66132   \n",
       "\n",
       "                        ventas_promedio_por_gamma_por_mes  \\\n",
       "tiendaID skuID fechaID                                      \n",
       "1        1     7                                  1.13079   \n",
       "2        1     7                                  1.13079   \n",
       "\n",
       "                        ventas_totales_por_sku_por_mes  \\\n",
       "tiendaID skuID fechaID                                   \n",
       "1        1     7                                     1   \n",
       "2        1     7                                     1   \n",
       "\n",
       "                        ventas_promedio_por_sku_por_mes  ...  \\\n",
       "tiendaID skuID fechaID                                   ...   \n",
       "1        1     7                                    1.0  ...   \n",
       "2        1     7                                    1.0  ...   \n",
       "\n",
       "                        lag2mes_ventas_totales_por_sku_por_mes  \\\n",
       "tiendaID skuID fechaID                                           \n",
       "1        1     7                                             0   \n",
       "2        1     7                                             0   \n",
       "\n",
       "                        lag2mes_ventas_promedio_por_sku_por_mes  \\\n",
       "tiendaID skuID fechaID                                            \n",
       "1        1     7                                            0.0   \n",
       "2        1     7                                            0.0   \n",
       "\n",
       "                        lag3mes_ventas_totales_por_tienda_por_mes  \\\n",
       "tiendaID skuID fechaID                                              \n",
       "1        1     7                                               77   \n",
       "2        1     7                                                9   \n",
       "\n",
       "                        lag3mes_ventas_promedio_por_tienda_por_mes  \\\n",
       "tiendaID skuID fechaID                                               \n",
       "1        1     7                                          1.026667   \n",
       "2        1     7                                          1.125000   \n",
       "\n",
       "                        lag3mes_ventas_totales_por_marca_por_mes  \\\n",
       "tiendaID skuID fechaID                                             \n",
       "1        1     7                                              86   \n",
       "2        1     7                                              86   \n",
       "\n",
       "                        lag3mes_entas_promedio_por_marca_por_mes  \\\n",
       "tiendaID skuID fechaID                                             \n",
       "1        1     7                                        1.088608   \n",
       "2        1     7                                        1.088608   \n",
       "\n",
       "                        lag3mes_ventas_totales_por_gamma_por_mes  \\\n",
       "tiendaID skuID fechaID                                             \n",
       "1        1     7                                           67113   \n",
       "2        1     7                                           67113   \n",
       "\n",
       "                        lag3mes_ventas_promedio_por_gamma_por_mes  \\\n",
       "tiendaID skuID fechaID                                              \n",
       "1        1     7                                         1.103143   \n",
       "2        1     7                                         1.103143   \n",
       "\n",
       "                        lag3mes_ventas_totales_por_sku_por_mes  \\\n",
       "tiendaID skuID fechaID                                           \n",
       "1        1     7                                             0   \n",
       "2        1     7                                             0   \n",
       "\n",
       "                        lag3mes_ventas_promedio_por_sku_por_mes  \n",
       "tiendaID skuID fechaID                                           \n",
       "1        1     7                                            0.0  \n",
       "2        1     7                                            0.0  \n",
       "\n",
       "[2 rows x 34 columns]"
      ]
     },
     "execution_count": 14,
     "metadata": {},
     "output_type": "execute_result"
    }
   ],
   "source": [
    "prueba_7.set_index(['tiendaID', 'skuID','fechaID'], inplace=True)\n",
    "prueba_7.head(2)"
   ]
  },
  {
   "cell_type": "code",
   "execution_count": 15,
   "metadata": {},
   "outputs": [],
   "source": [
    "#Dividir x y y del conjunto de entrenamiento \n",
    "x_7 = entrenamiento_7.iloc[:, entrenamiento_7.columns != 'variable_y_ventas_del_siguiente_mes']\n",
    "y_7 = entrenamiento_7.iloc[:, entrenamiento_7.columns == 'variable_y_ventas_del_siguiente_mes']"
   ]
  },
  {
   "cell_type": "code",
   "execution_count": 16,
   "metadata": {},
   "outputs": [],
   "source": [
    "#Dividir en x y y el conjunyo de prueba\n",
    "prueba_x_7= prueba_7.iloc[:, prueba_7.columns != 'variable_y_ventas_del_siguiente_mes']\n",
    "prueba_y_7= prueba_7.iloc[:, prueba_7.columns == 'variable_y_ventas_del_siguiente_mes']"
   ]
  },
  {
   "cell_type": "markdown",
   "metadata": {},
   "source": [
    "# <font color='darkblue'>-.-.-.-.-.-.-.-.-.-.-.-.-.-.-.-.-.-.-.-.-.-.-.-.-.-.-.-.-.-.-.-.-.-.-.-..-.-.-.-.-.-.-.-.-.-.-.-.-..-.-.-.-.-.-.-.-.-.-.-.-.-..-.-.-.-.-.-.-.-.-.-.-.-.-.-.-.-.- </font>"
   ]
  },
  {
   "cell_type": "markdown",
   "metadata": {},
   "source": [
    "## 8. Octava división: \n",
    "#### Entrenamiento: fechaID=0,1,2,3,4,5,6,7 (mes junio  julio agosto septiembre octubre noviembre diciembre enero) - y: ventas febrero\n",
    "#### Prueba: fechaID=8(mes febrero) - y:ventas marzo"
   ]
  },
  {
   "cell_type": "code",
   "execution_count": 10,
   "metadata": {},
   "outputs": [
    {
     "name": "stdout",
     "output_type": "stream",
     "text": [
      "Entrenar con los meses de Junio,Julio,Agosto,Septiembre,Octubre, Noviembre, Diciembre, y Enero cuyos índices son: 0 1 2 3 4 5 6 7\n",
      "Probar con el mes de febrero cuyo índice es: 8\n"
     ]
    }
   ],
   "source": [
    "#Límites para cortar conjuntos en dattos\n",
    "entrenamiento_junjulagosepoctnovdicene_para_predecir_febrero = mes[7]\n",
    "prueba_febrero_para_predecir_en_marzo = mes[8] \n",
    "\n",
    "print('Entrenar con los meses de Junio,Julio,Agosto,Septiembre,Octubre, Noviembre, Diciembre, y Enero cuyos índices son:', \"0\",\"1\",\"2\",\"3\",\"4\",\"5\",\"6\",entrenamiento_junjulagosepoctnovdicene_para_predecir_febrero)\n",
    "print('Probar con el mes de febrero cuyo índice es:', prueba_febrero_para_predecir_en_marzo)"
   ]
  },
  {
   "cell_type": "code",
   "execution_count": 11,
   "metadata": {},
   "outputs": [
    {
     "data": {
      "text/plain": [
       "(6948760, 37)"
      ]
     },
     "execution_count": 11,
     "metadata": {},
     "output_type": "execute_result"
    }
   ],
   "source": [
    "#dividir el archivo en entrenamiento y prueba\n",
    "entrenamiento_8 = datos_modelo[datos_modelo['fechaID']<=entrenamiento_junjulagosepoctnovdicene_para_predecir_febrero]\n",
    "#entrenamiento_8.head(2)\n",
    "entrenamiento_8.shape\n"
   ]
  },
  {
   "cell_type": "code",
   "execution_count": 12,
   "metadata": {},
   "outputs": [
    {
     "data": {
      "text/plain": [
       "(868595, 37)"
      ]
     },
     "execution_count": 12,
     "metadata": {},
     "output_type": "execute_result"
    }
   ],
   "source": [
    "prueba_8 = datos_modelo[datos_modelo['fechaID']==prueba_febrero_para_predecir_en_marzo]\n",
    "#prueba_8.head(2)\n",
    "prueba_8.shape"
   ]
  },
  {
   "cell_type": "code",
   "execution_count": 13,
   "metadata": {},
   "outputs": [
    {
     "data": {
      "text/html": [
       "<div>\n",
       "<style scoped>\n",
       "    .dataframe tbody tr th:only-of-type {\n",
       "        vertical-align: middle;\n",
       "    }\n",
       "\n",
       "    .dataframe tbody tr th {\n",
       "        vertical-align: top;\n",
       "    }\n",
       "\n",
       "    .dataframe thead th {\n",
       "        text-align: right;\n",
       "    }\n",
       "</style>\n",
       "<table border=\"1\" class=\"dataframe\">\n",
       "  <thead>\n",
       "    <tr style=\"text-align: right;\">\n",
       "      <th></th>\n",
       "      <th></th>\n",
       "      <th></th>\n",
       "      <th>ventas_por_mes</th>\n",
       "      <th>variable_y_ventas_del_siguiente_mes</th>\n",
       "      <th>ventas_totales_por_tienda_por_mes</th>\n",
       "      <th>ventas_promedio_por_tienda_por_mes</th>\n",
       "      <th>ventas_totales_por_marca_por_mes</th>\n",
       "      <th>ventas_promedio_por_marca_por_mes</th>\n",
       "      <th>ventas_totales_por_gamma_por_mes</th>\n",
       "      <th>ventas_promedio_por_gamma_por_mes</th>\n",
       "      <th>ventas_totales_por_sku_por_mes</th>\n",
       "      <th>ventas_promedio_por_sku_por_mes</th>\n",
       "      <th>...</th>\n",
       "      <th>lag2mes_ventas_totales_por_sku_por_mes</th>\n",
       "      <th>lag2mes_ventas_promedio_por_sku_por_mes</th>\n",
       "      <th>lag3mes_ventas_totales_por_tienda_por_mes</th>\n",
       "      <th>lag3mes_ventas_promedio_por_tienda_por_mes</th>\n",
       "      <th>lag3mes_ventas_totales_por_marca_por_mes</th>\n",
       "      <th>lag3mes_entas_promedio_por_marca_por_mes</th>\n",
       "      <th>lag3mes_ventas_totales_por_gamma_por_mes</th>\n",
       "      <th>lag3mes_ventas_promedio_por_gamma_por_mes</th>\n",
       "      <th>lag3mes_ventas_totales_por_sku_por_mes</th>\n",
       "      <th>lag3mes_ventas_promedio_por_sku_por_mes</th>\n",
       "    </tr>\n",
       "    <tr>\n",
       "      <th>tiendaID</th>\n",
       "      <th>skuID</th>\n",
       "      <th>fechaID</th>\n",
       "      <th></th>\n",
       "      <th></th>\n",
       "      <th></th>\n",
       "      <th></th>\n",
       "      <th></th>\n",
       "      <th></th>\n",
       "      <th></th>\n",
       "      <th></th>\n",
       "      <th></th>\n",
       "      <th></th>\n",
       "      <th></th>\n",
       "      <th></th>\n",
       "      <th></th>\n",
       "      <th></th>\n",
       "      <th></th>\n",
       "      <th></th>\n",
       "      <th></th>\n",
       "      <th></th>\n",
       "      <th></th>\n",
       "      <th></th>\n",
       "      <th></th>\n",
       "    </tr>\n",
       "  </thead>\n",
       "  <tbody>\n",
       "    <tr>\n",
       "      <th rowspan=\"8\" valign=\"top\">1</th>\n",
       "      <th rowspan=\"8\" valign=\"top\">1</th>\n",
       "      <th>0</th>\n",
       "      <td>0</td>\n",
       "      <td>0.0</td>\n",
       "      <td>70</td>\n",
       "      <td>1.044776</td>\n",
       "      <td>355</td>\n",
       "      <td>1.047198</td>\n",
       "      <td>86507</td>\n",
       "      <td>1.161542</td>\n",
       "      <td>1</td>\n",
       "      <td>1.0</td>\n",
       "      <td>...</td>\n",
       "      <td>1</td>\n",
       "      <td>1.0</td>\n",
       "      <td>70</td>\n",
       "      <td>1.044776</td>\n",
       "      <td>355</td>\n",
       "      <td>1.047198</td>\n",
       "      <td>86507</td>\n",
       "      <td>1.161542</td>\n",
       "      <td>1</td>\n",
       "      <td>1.0</td>\n",
       "    </tr>\n",
       "    <tr>\n",
       "      <th>1</th>\n",
       "      <td>0</td>\n",
       "      <td>0.0</td>\n",
       "      <td>79</td>\n",
       "      <td>1.128571</td>\n",
       "      <td>379</td>\n",
       "      <td>1.046961</td>\n",
       "      <td>92120</td>\n",
       "      <td>1.137986</td>\n",
       "      <td>1</td>\n",
       "      <td>1.0</td>\n",
       "      <td>...</td>\n",
       "      <td>1</td>\n",
       "      <td>1.0</td>\n",
       "      <td>70</td>\n",
       "      <td>1.044776</td>\n",
       "      <td>355</td>\n",
       "      <td>1.047198</td>\n",
       "      <td>86507</td>\n",
       "      <td>1.161542</td>\n",
       "      <td>1</td>\n",
       "      <td>1.0</td>\n",
       "    </tr>\n",
       "    <tr>\n",
       "      <th>2</th>\n",
       "      <td>0</td>\n",
       "      <td>0.0</td>\n",
       "      <td>87</td>\n",
       "      <td>1.060976</td>\n",
       "      <td>264</td>\n",
       "      <td>1.068826</td>\n",
       "      <td>84129</td>\n",
       "      <td>1.126270</td>\n",
       "      <td>0</td>\n",
       "      <td>0.0</td>\n",
       "      <td>...</td>\n",
       "      <td>1</td>\n",
       "      <td>1.0</td>\n",
       "      <td>70</td>\n",
       "      <td>1.044776</td>\n",
       "      <td>355</td>\n",
       "      <td>1.047198</td>\n",
       "      <td>86507</td>\n",
       "      <td>1.161542</td>\n",
       "      <td>1</td>\n",
       "      <td>1.0</td>\n",
       "    </tr>\n",
       "    <tr>\n",
       "      <th>3</th>\n",
       "      <td>0</td>\n",
       "      <td>0.0</td>\n",
       "      <td>75</td>\n",
       "      <td>1.041667</td>\n",
       "      <td>136</td>\n",
       "      <td>1.079365</td>\n",
       "      <td>73612</td>\n",
       "      <td>1.110521</td>\n",
       "      <td>0</td>\n",
       "      <td>0.0</td>\n",
       "      <td>...</td>\n",
       "      <td>1</td>\n",
       "      <td>1.0</td>\n",
       "      <td>70</td>\n",
       "      <td>1.044776</td>\n",
       "      <td>355</td>\n",
       "      <td>1.047198</td>\n",
       "      <td>86507</td>\n",
       "      <td>1.161542</td>\n",
       "      <td>1</td>\n",
       "      <td>1.0</td>\n",
       "    </tr>\n",
       "    <tr>\n",
       "      <th>4</th>\n",
       "      <td>0</td>\n",
       "      <td>0.0</td>\n",
       "      <td>77</td>\n",
       "      <td>1.026667</td>\n",
       "      <td>86</td>\n",
       "      <td>1.088608</td>\n",
       "      <td>67113</td>\n",
       "      <td>1.103143</td>\n",
       "      <td>0</td>\n",
       "      <td>0.0</td>\n",
       "      <td>...</td>\n",
       "      <td>0</td>\n",
       "      <td>0.0</td>\n",
       "      <td>79</td>\n",
       "      <td>1.128571</td>\n",
       "      <td>379</td>\n",
       "      <td>1.046961</td>\n",
       "      <td>92120</td>\n",
       "      <td>1.137986</td>\n",
       "      <td>1</td>\n",
       "      <td>1.0</td>\n",
       "    </tr>\n",
       "    <tr>\n",
       "      <th>5</th>\n",
       "      <td>0</td>\n",
       "      <td>0.0</td>\n",
       "      <td>80</td>\n",
       "      <td>1.126761</td>\n",
       "      <td>45</td>\n",
       "      <td>1.097561</td>\n",
       "      <td>89688</td>\n",
       "      <td>1.182501</td>\n",
       "      <td>0</td>\n",
       "      <td>0.0</td>\n",
       "      <td>...</td>\n",
       "      <td>0</td>\n",
       "      <td>0.0</td>\n",
       "      <td>87</td>\n",
       "      <td>1.060976</td>\n",
       "      <td>264</td>\n",
       "      <td>1.068826</td>\n",
       "      <td>84129</td>\n",
       "      <td>1.126270</td>\n",
       "      <td>0</td>\n",
       "      <td>0.0</td>\n",
       "    </tr>\n",
       "    <tr>\n",
       "      <th>6</th>\n",
       "      <td>0</td>\n",
       "      <td>0.0</td>\n",
       "      <td>73</td>\n",
       "      <td>1.028169</td>\n",
       "      <td>32</td>\n",
       "      <td>1.066667</td>\n",
       "      <td>95478</td>\n",
       "      <td>1.156594</td>\n",
       "      <td>0</td>\n",
       "      <td>0.0</td>\n",
       "      <td>...</td>\n",
       "      <td>0</td>\n",
       "      <td>0.0</td>\n",
       "      <td>75</td>\n",
       "      <td>1.041667</td>\n",
       "      <td>136</td>\n",
       "      <td>1.079365</td>\n",
       "      <td>73612</td>\n",
       "      <td>1.110521</td>\n",
       "      <td>0</td>\n",
       "      <td>0.0</td>\n",
       "    </tr>\n",
       "    <tr>\n",
       "      <th>7</th>\n",
       "      <td>0</td>\n",
       "      <td>0.0</td>\n",
       "      <td>70</td>\n",
       "      <td>1.093750</td>\n",
       "      <td>71</td>\n",
       "      <td>1.145161</td>\n",
       "      <td>66132</td>\n",
       "      <td>1.130790</td>\n",
       "      <td>1</td>\n",
       "      <td>1.0</td>\n",
       "      <td>...</td>\n",
       "      <td>0</td>\n",
       "      <td>0.0</td>\n",
       "      <td>77</td>\n",
       "      <td>1.026667</td>\n",
       "      <td>86</td>\n",
       "      <td>1.088608</td>\n",
       "      <td>67113</td>\n",
       "      <td>1.103143</td>\n",
       "      <td>0</td>\n",
       "      <td>0.0</td>\n",
       "    </tr>\n",
       "  </tbody>\n",
       "</table>\n",
       "<p>8 rows × 34 columns</p>\n",
       "</div>"
      ],
      "text/plain": [
       "                        ventas_por_mes  variable_y_ventas_del_siguiente_mes  \\\n",
       "tiendaID skuID fechaID                                                        \n",
       "1        1     0                     0                                  0.0   \n",
       "               1                     0                                  0.0   \n",
       "               2                     0                                  0.0   \n",
       "               3                     0                                  0.0   \n",
       "               4                     0                                  0.0   \n",
       "               5                     0                                  0.0   \n",
       "               6                     0                                  0.0   \n",
       "               7                     0                                  0.0   \n",
       "\n",
       "                        ventas_totales_por_tienda_por_mes  \\\n",
       "tiendaID skuID fechaID                                      \n",
       "1        1     0                                       70   \n",
       "               1                                       79   \n",
       "               2                                       87   \n",
       "               3                                       75   \n",
       "               4                                       77   \n",
       "               5                                       80   \n",
       "               6                                       73   \n",
       "               7                                       70   \n",
       "\n",
       "                        ventas_promedio_por_tienda_por_mes  \\\n",
       "tiendaID skuID fechaID                                       \n",
       "1        1     0                                  1.044776   \n",
       "               1                                  1.128571   \n",
       "               2                                  1.060976   \n",
       "               3                                  1.041667   \n",
       "               4                                  1.026667   \n",
       "               5                                  1.126761   \n",
       "               6                                  1.028169   \n",
       "               7                                  1.093750   \n",
       "\n",
       "                        ventas_totales_por_marca_por_mes  \\\n",
       "tiendaID skuID fechaID                                     \n",
       "1        1     0                                     355   \n",
       "               1                                     379   \n",
       "               2                                     264   \n",
       "               3                                     136   \n",
       "               4                                      86   \n",
       "               5                                      45   \n",
       "               6                                      32   \n",
       "               7                                      71   \n",
       "\n",
       "                        ventas_promedio_por_marca_por_mes  \\\n",
       "tiendaID skuID fechaID                                      \n",
       "1        1     0                                 1.047198   \n",
       "               1                                 1.046961   \n",
       "               2                                 1.068826   \n",
       "               3                                 1.079365   \n",
       "               4                                 1.088608   \n",
       "               5                                 1.097561   \n",
       "               6                                 1.066667   \n",
       "               7                                 1.145161   \n",
       "\n",
       "                        ventas_totales_por_gamma_por_mes  \\\n",
       "tiendaID skuID fechaID                                     \n",
       "1        1     0                                   86507   \n",
       "               1                                   92120   \n",
       "               2                                   84129   \n",
       "               3                                   73612   \n",
       "               4                                   67113   \n",
       "               5                                   89688   \n",
       "               6                                   95478   \n",
       "               7                                   66132   \n",
       "\n",
       "                        ventas_promedio_por_gamma_por_mes  \\\n",
       "tiendaID skuID fechaID                                      \n",
       "1        1     0                                 1.161542   \n",
       "               1                                 1.137986   \n",
       "               2                                 1.126270   \n",
       "               3                                 1.110521   \n",
       "               4                                 1.103143   \n",
       "               5                                 1.182501   \n",
       "               6                                 1.156594   \n",
       "               7                                 1.130790   \n",
       "\n",
       "                        ventas_totales_por_sku_por_mes  \\\n",
       "tiendaID skuID fechaID                                   \n",
       "1        1     0                                     1   \n",
       "               1                                     1   \n",
       "               2                                     0   \n",
       "               3                                     0   \n",
       "               4                                     0   \n",
       "               5                                     0   \n",
       "               6                                     0   \n",
       "               7                                     1   \n",
       "\n",
       "                        ventas_promedio_por_sku_por_mes  ...  \\\n",
       "tiendaID skuID fechaID                                   ...   \n",
       "1        1     0                                    1.0  ...   \n",
       "               1                                    1.0  ...   \n",
       "               2                                    0.0  ...   \n",
       "               3                                    0.0  ...   \n",
       "               4                                    0.0  ...   \n",
       "               5                                    0.0  ...   \n",
       "               6                                    0.0  ...   \n",
       "               7                                    1.0  ...   \n",
       "\n",
       "                        lag2mes_ventas_totales_por_sku_por_mes  \\\n",
       "tiendaID skuID fechaID                                           \n",
       "1        1     0                                             1   \n",
       "               1                                             1   \n",
       "               2                                             1   \n",
       "               3                                             1   \n",
       "               4                                             0   \n",
       "               5                                             0   \n",
       "               6                                             0   \n",
       "               7                                             0   \n",
       "\n",
       "                        lag2mes_ventas_promedio_por_sku_por_mes  \\\n",
       "tiendaID skuID fechaID                                            \n",
       "1        1     0                                            1.0   \n",
       "               1                                            1.0   \n",
       "               2                                            1.0   \n",
       "               3                                            1.0   \n",
       "               4                                            0.0   \n",
       "               5                                            0.0   \n",
       "               6                                            0.0   \n",
       "               7                                            0.0   \n",
       "\n",
       "                        lag3mes_ventas_totales_por_tienda_por_mes  \\\n",
       "tiendaID skuID fechaID                                              \n",
       "1        1     0                                               70   \n",
       "               1                                               70   \n",
       "               2                                               70   \n",
       "               3                                               70   \n",
       "               4                                               79   \n",
       "               5                                               87   \n",
       "               6                                               75   \n",
       "               7                                               77   \n",
       "\n",
       "                        lag3mes_ventas_promedio_por_tienda_por_mes  \\\n",
       "tiendaID skuID fechaID                                               \n",
       "1        1     0                                          1.044776   \n",
       "               1                                          1.044776   \n",
       "               2                                          1.044776   \n",
       "               3                                          1.044776   \n",
       "               4                                          1.128571   \n",
       "               5                                          1.060976   \n",
       "               6                                          1.041667   \n",
       "               7                                          1.026667   \n",
       "\n",
       "                        lag3mes_ventas_totales_por_marca_por_mes  \\\n",
       "tiendaID skuID fechaID                                             \n",
       "1        1     0                                             355   \n",
       "               1                                             355   \n",
       "               2                                             355   \n",
       "               3                                             355   \n",
       "               4                                             379   \n",
       "               5                                             264   \n",
       "               6                                             136   \n",
       "               7                                              86   \n",
       "\n",
       "                        lag3mes_entas_promedio_por_marca_por_mes  \\\n",
       "tiendaID skuID fechaID                                             \n",
       "1        1     0                                        1.047198   \n",
       "               1                                        1.047198   \n",
       "               2                                        1.047198   \n",
       "               3                                        1.047198   \n",
       "               4                                        1.046961   \n",
       "               5                                        1.068826   \n",
       "               6                                        1.079365   \n",
       "               7                                        1.088608   \n",
       "\n",
       "                        lag3mes_ventas_totales_por_gamma_por_mes  \\\n",
       "tiendaID skuID fechaID                                             \n",
       "1        1     0                                           86507   \n",
       "               1                                           86507   \n",
       "               2                                           86507   \n",
       "               3                                           86507   \n",
       "               4                                           92120   \n",
       "               5                                           84129   \n",
       "               6                                           73612   \n",
       "               7                                           67113   \n",
       "\n",
       "                        lag3mes_ventas_promedio_por_gamma_por_mes  \\\n",
       "tiendaID skuID fechaID                                              \n",
       "1        1     0                                         1.161542   \n",
       "               1                                         1.161542   \n",
       "               2                                         1.161542   \n",
       "               3                                         1.161542   \n",
       "               4                                         1.137986   \n",
       "               5                                         1.126270   \n",
       "               6                                         1.110521   \n",
       "               7                                         1.103143   \n",
       "\n",
       "                        lag3mes_ventas_totales_por_sku_por_mes  \\\n",
       "tiendaID skuID fechaID                                           \n",
       "1        1     0                                             1   \n",
       "               1                                             1   \n",
       "               2                                             1   \n",
       "               3                                             1   \n",
       "               4                                             1   \n",
       "               5                                             0   \n",
       "               6                                             0   \n",
       "               7                                             0   \n",
       "\n",
       "                        lag3mes_ventas_promedio_por_sku_por_mes  \n",
       "tiendaID skuID fechaID                                           \n",
       "1        1     0                                            1.0  \n",
       "               1                                            1.0  \n",
       "               2                                            1.0  \n",
       "               3                                            1.0  \n",
       "               4                                            1.0  \n",
       "               5                                            0.0  \n",
       "               6                                            0.0  \n",
       "               7                                            0.0  \n",
       "\n",
       "[8 rows x 34 columns]"
      ]
     },
     "execution_count": 13,
     "metadata": {},
     "output_type": "execute_result"
    }
   ],
   "source": [
    "entrenamiento_8.set_index(['tiendaID', 'skuID','fechaID'], inplace=True)\n",
    "entrenamiento_8.head(8)"
   ]
  },
  {
   "cell_type": "code",
   "execution_count": 14,
   "metadata": {},
   "outputs": [
    {
     "data": {
      "text/html": [
       "<div>\n",
       "<style scoped>\n",
       "    .dataframe tbody tr th:only-of-type {\n",
       "        vertical-align: middle;\n",
       "    }\n",
       "\n",
       "    .dataframe tbody tr th {\n",
       "        vertical-align: top;\n",
       "    }\n",
       "\n",
       "    .dataframe thead th {\n",
       "        text-align: right;\n",
       "    }\n",
       "</style>\n",
       "<table border=\"1\" class=\"dataframe\">\n",
       "  <thead>\n",
       "    <tr style=\"text-align: right;\">\n",
       "      <th></th>\n",
       "      <th></th>\n",
       "      <th></th>\n",
       "      <th>ventas_por_mes</th>\n",
       "      <th>variable_y_ventas_del_siguiente_mes</th>\n",
       "      <th>ventas_totales_por_tienda_por_mes</th>\n",
       "      <th>ventas_promedio_por_tienda_por_mes</th>\n",
       "      <th>ventas_totales_por_marca_por_mes</th>\n",
       "      <th>ventas_promedio_por_marca_por_mes</th>\n",
       "      <th>ventas_totales_por_gamma_por_mes</th>\n",
       "      <th>ventas_promedio_por_gamma_por_mes</th>\n",
       "      <th>ventas_totales_por_sku_por_mes</th>\n",
       "      <th>ventas_promedio_por_sku_por_mes</th>\n",
       "      <th>...</th>\n",
       "      <th>lag2mes_ventas_totales_por_sku_por_mes</th>\n",
       "      <th>lag2mes_ventas_promedio_por_sku_por_mes</th>\n",
       "      <th>lag3mes_ventas_totales_por_tienda_por_mes</th>\n",
       "      <th>lag3mes_ventas_promedio_por_tienda_por_mes</th>\n",
       "      <th>lag3mes_ventas_totales_por_marca_por_mes</th>\n",
       "      <th>lag3mes_entas_promedio_por_marca_por_mes</th>\n",
       "      <th>lag3mes_ventas_totales_por_gamma_por_mes</th>\n",
       "      <th>lag3mes_ventas_promedio_por_gamma_por_mes</th>\n",
       "      <th>lag3mes_ventas_totales_por_sku_por_mes</th>\n",
       "      <th>lag3mes_ventas_promedio_por_sku_por_mes</th>\n",
       "    </tr>\n",
       "    <tr>\n",
       "      <th>tiendaID</th>\n",
       "      <th>skuID</th>\n",
       "      <th>fechaID</th>\n",
       "      <th></th>\n",
       "      <th></th>\n",
       "      <th></th>\n",
       "      <th></th>\n",
       "      <th></th>\n",
       "      <th></th>\n",
       "      <th></th>\n",
       "      <th></th>\n",
       "      <th></th>\n",
       "      <th></th>\n",
       "      <th></th>\n",
       "      <th></th>\n",
       "      <th></th>\n",
       "      <th></th>\n",
       "      <th></th>\n",
       "      <th></th>\n",
       "      <th></th>\n",
       "      <th></th>\n",
       "      <th></th>\n",
       "      <th></th>\n",
       "      <th></th>\n",
       "    </tr>\n",
       "  </thead>\n",
       "  <tbody>\n",
       "    <tr>\n",
       "      <th>1</th>\n",
       "      <th>1</th>\n",
       "      <th>8</th>\n",
       "      <td>0</td>\n",
       "      <td>0.0</td>\n",
       "      <td>61</td>\n",
       "      <td>1.070175</td>\n",
       "      <td>53</td>\n",
       "      <td>1.081633</td>\n",
       "      <td>65906</td>\n",
       "      <td>1.125809</td>\n",
       "      <td>4</td>\n",
       "      <td>1.0</td>\n",
       "      <td>...</td>\n",
       "      <td>0</td>\n",
       "      <td>0.0</td>\n",
       "      <td>80</td>\n",
       "      <td>1.126761</td>\n",
       "      <td>45</td>\n",
       "      <td>1.097561</td>\n",
       "      <td>89688</td>\n",
       "      <td>1.182501</td>\n",
       "      <td>0</td>\n",
       "      <td>0.0</td>\n",
       "    </tr>\n",
       "    <tr>\n",
       "      <th>2</th>\n",
       "      <th>1</th>\n",
       "      <th>8</th>\n",
       "      <td>0</td>\n",
       "      <td>0.0</td>\n",
       "      <td>15</td>\n",
       "      <td>1.000000</td>\n",
       "      <td>53</td>\n",
       "      <td>1.081633</td>\n",
       "      <td>65906</td>\n",
       "      <td>1.125809</td>\n",
       "      <td>4</td>\n",
       "      <td>1.0</td>\n",
       "      <td>...</td>\n",
       "      <td>0</td>\n",
       "      <td>0.0</td>\n",
       "      <td>11</td>\n",
       "      <td>1.000000</td>\n",
       "      <td>45</td>\n",
       "      <td>1.097561</td>\n",
       "      <td>89688</td>\n",
       "      <td>1.182501</td>\n",
       "      <td>0</td>\n",
       "      <td>0.0</td>\n",
       "    </tr>\n",
       "  </tbody>\n",
       "</table>\n",
       "<p>2 rows × 34 columns</p>\n",
       "</div>"
      ],
      "text/plain": [
       "                        ventas_por_mes  variable_y_ventas_del_siguiente_mes  \\\n",
       "tiendaID skuID fechaID                                                        \n",
       "1        1     8                     0                                  0.0   \n",
       "2        1     8                     0                                  0.0   \n",
       "\n",
       "                        ventas_totales_por_tienda_por_mes  \\\n",
       "tiendaID skuID fechaID                                      \n",
       "1        1     8                                       61   \n",
       "2        1     8                                       15   \n",
       "\n",
       "                        ventas_promedio_por_tienda_por_mes  \\\n",
       "tiendaID skuID fechaID                                       \n",
       "1        1     8                                  1.070175   \n",
       "2        1     8                                  1.000000   \n",
       "\n",
       "                        ventas_totales_por_marca_por_mes  \\\n",
       "tiendaID skuID fechaID                                     \n",
       "1        1     8                                      53   \n",
       "2        1     8                                      53   \n",
       "\n",
       "                        ventas_promedio_por_marca_por_mes  \\\n",
       "tiendaID skuID fechaID                                      \n",
       "1        1     8                                 1.081633   \n",
       "2        1     8                                 1.081633   \n",
       "\n",
       "                        ventas_totales_por_gamma_por_mes  \\\n",
       "tiendaID skuID fechaID                                     \n",
       "1        1     8                                   65906   \n",
       "2        1     8                                   65906   \n",
       "\n",
       "                        ventas_promedio_por_gamma_por_mes  \\\n",
       "tiendaID skuID fechaID                                      \n",
       "1        1     8                                 1.125809   \n",
       "2        1     8                                 1.125809   \n",
       "\n",
       "                        ventas_totales_por_sku_por_mes  \\\n",
       "tiendaID skuID fechaID                                   \n",
       "1        1     8                                     4   \n",
       "2        1     8                                     4   \n",
       "\n",
       "                        ventas_promedio_por_sku_por_mes  ...  \\\n",
       "tiendaID skuID fechaID                                   ...   \n",
       "1        1     8                                    1.0  ...   \n",
       "2        1     8                                    1.0  ...   \n",
       "\n",
       "                        lag2mes_ventas_totales_por_sku_por_mes  \\\n",
       "tiendaID skuID fechaID                                           \n",
       "1        1     8                                             0   \n",
       "2        1     8                                             0   \n",
       "\n",
       "                        lag2mes_ventas_promedio_por_sku_por_mes  \\\n",
       "tiendaID skuID fechaID                                            \n",
       "1        1     8                                            0.0   \n",
       "2        1     8                                            0.0   \n",
       "\n",
       "                        lag3mes_ventas_totales_por_tienda_por_mes  \\\n",
       "tiendaID skuID fechaID                                              \n",
       "1        1     8                                               80   \n",
       "2        1     8                                               11   \n",
       "\n",
       "                        lag3mes_ventas_promedio_por_tienda_por_mes  \\\n",
       "tiendaID skuID fechaID                                               \n",
       "1        1     8                                          1.126761   \n",
       "2        1     8                                          1.000000   \n",
       "\n",
       "                        lag3mes_ventas_totales_por_marca_por_mes  \\\n",
       "tiendaID skuID fechaID                                             \n",
       "1        1     8                                              45   \n",
       "2        1     8                                              45   \n",
       "\n",
       "                        lag3mes_entas_promedio_por_marca_por_mes  \\\n",
       "tiendaID skuID fechaID                                             \n",
       "1        1     8                                        1.097561   \n",
       "2        1     8                                        1.097561   \n",
       "\n",
       "                        lag3mes_ventas_totales_por_gamma_por_mes  \\\n",
       "tiendaID skuID fechaID                                             \n",
       "1        1     8                                           89688   \n",
       "2        1     8                                           89688   \n",
       "\n",
       "                        lag3mes_ventas_promedio_por_gamma_por_mes  \\\n",
       "tiendaID skuID fechaID                                              \n",
       "1        1     8                                         1.182501   \n",
       "2        1     8                                         1.182501   \n",
       "\n",
       "                        lag3mes_ventas_totales_por_sku_por_mes  \\\n",
       "tiendaID skuID fechaID                                           \n",
       "1        1     8                                             0   \n",
       "2        1     8                                             0   \n",
       "\n",
       "                        lag3mes_ventas_promedio_por_sku_por_mes  \n",
       "tiendaID skuID fechaID                                           \n",
       "1        1     8                                            0.0  \n",
       "2        1     8                                            0.0  \n",
       "\n",
       "[2 rows x 34 columns]"
      ]
     },
     "execution_count": 14,
     "metadata": {},
     "output_type": "execute_result"
    }
   ],
   "source": [
    "prueba_8.set_index(['tiendaID', 'skuID','fechaID'], inplace=True)\n",
    "prueba_8.head(2)"
   ]
  },
  {
   "cell_type": "code",
   "execution_count": 15,
   "metadata": {},
   "outputs": [],
   "source": [
    "#Dividir x y y del conjunto de entrenamiento \n",
    "x_8 = entrenamiento_8.iloc[:, entrenamiento_8.columns != 'variable_y_ventas_del_siguiente_mes']\n",
    "y_8 = entrenamiento_8.iloc[:, entrenamiento_8.columns == 'variable_y_ventas_del_siguiente_mes']"
   ]
  },
  {
   "cell_type": "code",
   "execution_count": 16,
   "metadata": {},
   "outputs": [],
   "source": [
    "#Dividir n x y y el conjunyo de prueba\n",
    "prueba_x_8= prueba_8.iloc[:, prueba_8.columns != 'variable_y_ventas_del_siguiente_mes']\n",
    "prueba_y_8= prueba_8.iloc[:, prueba_8.columns == 'variable_y_ventas_del_siguiente_mes']"
   ]
  },
  {
   "cell_type": "markdown",
   "metadata": {},
   "source": [
    "# <font color='darkblue'> --------------------.--------------------.--------------------.--------------------.--------------------.--------------------. </font>"
   ]
  },
  {
   "cell_type": "markdown",
   "metadata": {},
   "source": [
    "# <font color='blue'> C. ENTRENAMIENTO (8 conjuntos de entrenamiento - 8 modelos) </font>"
   ]
  },
  {
   "cell_type": "code",
   "execution_count": 17,
   "metadata": {},
   "outputs": [],
   "source": [
    "import numpy as np\n",
    "from sklearn.ensemble import RandomForestRegressor\n",
    "#from sklearn.model_selection import GridSearchCV\n",
    "from scipy.stats import sem\n",
    "#from sklearn.model_selection import TimeSeriesSplit\n",
    "import warnings; warnings.simplefilter('ignore')"
   ]
  },
  {
   "cell_type": "markdown",
   "metadata": {},
   "source": [
    "# <font color='darkblue'>-.-.-.-.-.-.-.-.-.-.-.-.-.-.-.-.-.-.-.-.-.-.-.-.-.-.-.-.-.-.-.-.-.-.-.-..-.-.-.-.-.-.-.-.-.-.-.-.-..-.-.-.-.-.-.-.-.-.-.-.-.-..-.-.-.-.-.-.-.-.-.-.-.-.-.-.-.-.- </font>"
   ]
  },
  {
   "cell_type": "markdown",
   "metadata": {},
   "source": [
    "## 1. Primera división: \n",
    "#### Entrenamiento: fechaID=0 (mes junio) - y: ventas julio"
   ]
  },
  {
   "cell_type": "code",
   "execution_count": 18,
   "metadata": {},
   "outputs": [],
   "source": [
    "# Fit regression model\n",
    "regr_1 = RandomForestRegressor(\n",
    "    n_estimators=100, \n",
    "    n_jobs=-1)"
   ]
  },
  {
   "cell_type": "code",
   "execution_count": 19,
   "metadata": {},
   "outputs": [
    {
     "data": {
      "text/plain": [
       "RandomForestRegressor(bootstrap=True, criterion='mse', max_depth=None,\n",
       "           max_features='auto', max_leaf_nodes=None,\n",
       "           min_impurity_decrease=0.0, min_impurity_split=None,\n",
       "           min_samples_leaf=1, min_samples_split=2,\n",
       "           min_weight_fraction_leaf=0.0, n_estimators=100, n_jobs=-1,\n",
       "           oob_score=False, random_state=None, verbose=0, warm_start=False)"
      ]
     },
     "execution_count": 19,
     "metadata": {},
     "output_type": "execute_result"
    }
   ],
   "source": [
    "regr_1.fit(x_1, y_1) #5:04 - 05:08"
   ]
  },
  {
   "cell_type": "code",
   "execution_count": 20,
   "metadata": {},
   "outputs": [],
   "source": [
    "#predicciones con conjunto de entrenamiento para calcular el error de entrenamiento\n",
    "pred_1_entrenamiento = regr_1.predict(x_1) #menos de 1 minuto"
   ]
  },
  {
   "cell_type": "code",
   "execution_count": 21,
   "metadata": {},
   "outputs": [
    {
     "data": {
      "text/plain": [
       "56.93"
      ]
     },
     "execution_count": 21,
     "metadata": {},
     "output_type": "execute_result"
    }
   ],
   "source": [
    "max(pred_1_entrenamiento)"
   ]
  },
  {
   "cell_type": "code",
   "execution_count": 22,
   "metadata": {},
   "outputs": [
    {
     "data": {
      "text/plain": [
       "0.0"
      ]
     },
     "execution_count": 22,
     "metadata": {},
     "output_type": "execute_result"
    }
   ],
   "source": [
    "min(pred_1_entrenamiento)"
   ]
  },
  {
   "cell_type": "code",
   "execution_count": 23,
   "metadata": {},
   "outputs": [],
   "source": [
    "pred_1_entrenamiento = np.clip(pred_1_entrenamiento,0,200)\n",
    "prediccion_1_entrenamiento = pd.DataFrame(pred_1_entrenamiento, columns = ['ventas_por_mes_pred'])\n",
    "prediccion_1_entrenamiento = prediccion_1_entrenamiento.round()"
   ]
  },
  {
   "cell_type": "code",
   "execution_count": 24,
   "metadata": {},
   "outputs": [
    {
     "data": {
      "text/plain": [
       "ventas_por_mes_pred    104965.0\n",
       "dtype: float64"
      ]
     },
     "execution_count": 24,
     "metadata": {},
     "output_type": "execute_result"
    }
   ],
   "source": [
    "prediccion_1_entrenamiento.sum()\n"
   ]
  },
  {
   "cell_type": "code",
   "execution_count": 25,
   "metadata": {},
   "outputs": [
    {
     "data": {
      "text/plain": [
       "array([[0.],\n",
       "       [0.],\n",
       "       [0.],\n",
       "       ...,\n",
       "       [0.],\n",
       "       [0.],\n",
       "       [0.]])"
      ]
     },
     "execution_count": 25,
     "metadata": {},
     "output_type": "execute_result"
    }
   ],
   "source": [
    "prediccion_1_entrenamiento = prediccion_1_entrenamiento.values\n",
    "prediccion_1_entrenamiento"
   ]
  },
  {
   "cell_type": "code",
   "execution_count": 26,
   "metadata": {},
   "outputs": [],
   "source": [
    "entrenamiento_1['ventas_por_mes_pred'] = prediccion_1_entrenamiento"
   ]
  },
  {
   "cell_type": "code",
   "execution_count": 27,
   "metadata": {},
   "outputs": [
    {
     "data": {
      "text/html": [
       "<div>\n",
       "<style scoped>\n",
       "    .dataframe tbody tr th:only-of-type {\n",
       "        vertical-align: middle;\n",
       "    }\n",
       "\n",
       "    .dataframe tbody tr th {\n",
       "        vertical-align: top;\n",
       "    }\n",
       "\n",
       "    .dataframe thead th {\n",
       "        text-align: right;\n",
       "    }\n",
       "</style>\n",
       "<table border=\"1\" class=\"dataframe\">\n",
       "  <thead>\n",
       "    <tr style=\"text-align: right;\">\n",
       "      <th></th>\n",
       "      <th></th>\n",
       "      <th></th>\n",
       "      <th>ventas_por_mes</th>\n",
       "      <th>variable_y_ventas_del_siguiente_mes</th>\n",
       "      <th>ventas_totales_por_tienda_por_mes</th>\n",
       "      <th>ventas_promedio_por_tienda_por_mes</th>\n",
       "      <th>ventas_totales_por_marca_por_mes</th>\n",
       "      <th>ventas_promedio_por_marca_por_mes</th>\n",
       "      <th>ventas_totales_por_gamma_por_mes</th>\n",
       "      <th>ventas_promedio_por_gamma_por_mes</th>\n",
       "      <th>ventas_totales_por_sku_por_mes</th>\n",
       "      <th>ventas_promedio_por_sku_por_mes</th>\n",
       "      <th>...</th>\n",
       "      <th>lag2mes_ventas_promedio_por_sku_por_mes</th>\n",
       "      <th>lag3mes_ventas_totales_por_tienda_por_mes</th>\n",
       "      <th>lag3mes_ventas_promedio_por_tienda_por_mes</th>\n",
       "      <th>lag3mes_ventas_totales_por_marca_por_mes</th>\n",
       "      <th>lag3mes_entas_promedio_por_marca_por_mes</th>\n",
       "      <th>lag3mes_ventas_totales_por_gamma_por_mes</th>\n",
       "      <th>lag3mes_ventas_promedio_por_gamma_por_mes</th>\n",
       "      <th>lag3mes_ventas_totales_por_sku_por_mes</th>\n",
       "      <th>lag3mes_ventas_promedio_por_sku_por_mes</th>\n",
       "      <th>ventas_por_mes_pred</th>\n",
       "    </tr>\n",
       "    <tr>\n",
       "      <th>tiendaID</th>\n",
       "      <th>skuID</th>\n",
       "      <th>fechaID</th>\n",
       "      <th></th>\n",
       "      <th></th>\n",
       "      <th></th>\n",
       "      <th></th>\n",
       "      <th></th>\n",
       "      <th></th>\n",
       "      <th></th>\n",
       "      <th></th>\n",
       "      <th></th>\n",
       "      <th></th>\n",
       "      <th></th>\n",
       "      <th></th>\n",
       "      <th></th>\n",
       "      <th></th>\n",
       "      <th></th>\n",
       "      <th></th>\n",
       "      <th></th>\n",
       "      <th></th>\n",
       "      <th></th>\n",
       "      <th></th>\n",
       "      <th></th>\n",
       "    </tr>\n",
       "  </thead>\n",
       "  <tbody>\n",
       "    <tr>\n",
       "      <th>1</th>\n",
       "      <th>1</th>\n",
       "      <th>0</th>\n",
       "      <td>0</td>\n",
       "      <td>0.0</td>\n",
       "      <td>70</td>\n",
       "      <td>1.044776</td>\n",
       "      <td>355</td>\n",
       "      <td>1.047198</td>\n",
       "      <td>86507</td>\n",
       "      <td>1.161542</td>\n",
       "      <td>1</td>\n",
       "      <td>1.0</td>\n",
       "      <td>...</td>\n",
       "      <td>1.0</td>\n",
       "      <td>70</td>\n",
       "      <td>1.044776</td>\n",
       "      <td>355</td>\n",
       "      <td>1.047198</td>\n",
       "      <td>86507</td>\n",
       "      <td>1.161542</td>\n",
       "      <td>1</td>\n",
       "      <td>1.0</td>\n",
       "      <td>0.0</td>\n",
       "    </tr>\n",
       "    <tr>\n",
       "      <th>2</th>\n",
       "      <th>1</th>\n",
       "      <th>0</th>\n",
       "      <td>0</td>\n",
       "      <td>0.0</td>\n",
       "      <td>14</td>\n",
       "      <td>1.076923</td>\n",
       "      <td>355</td>\n",
       "      <td>1.047198</td>\n",
       "      <td>86507</td>\n",
       "      <td>1.161542</td>\n",
       "      <td>1</td>\n",
       "      <td>1.0</td>\n",
       "      <td>...</td>\n",
       "      <td>1.0</td>\n",
       "      <td>14</td>\n",
       "      <td>1.076923</td>\n",
       "      <td>355</td>\n",
       "      <td>1.047198</td>\n",
       "      <td>86507</td>\n",
       "      <td>1.161542</td>\n",
       "      <td>1</td>\n",
       "      <td>1.0</td>\n",
       "      <td>0.0</td>\n",
       "    </tr>\n",
       "    <tr>\n",
       "      <th>3</th>\n",
       "      <th>1</th>\n",
       "      <th>0</th>\n",
       "      <td>0</td>\n",
       "      <td>0.0</td>\n",
       "      <td>24</td>\n",
       "      <td>1.000000</td>\n",
       "      <td>355</td>\n",
       "      <td>1.047198</td>\n",
       "      <td>86507</td>\n",
       "      <td>1.161542</td>\n",
       "      <td>1</td>\n",
       "      <td>1.0</td>\n",
       "      <td>...</td>\n",
       "      <td>1.0</td>\n",
       "      <td>24</td>\n",
       "      <td>1.000000</td>\n",
       "      <td>355</td>\n",
       "      <td>1.047198</td>\n",
       "      <td>86507</td>\n",
       "      <td>1.161542</td>\n",
       "      <td>1</td>\n",
       "      <td>1.0</td>\n",
       "      <td>0.0</td>\n",
       "    </tr>\n",
       "    <tr>\n",
       "      <th>4</th>\n",
       "      <th>1</th>\n",
       "      <th>0</th>\n",
       "      <td>0</td>\n",
       "      <td>0.0</td>\n",
       "      <td>0</td>\n",
       "      <td>0.000000</td>\n",
       "      <td>355</td>\n",
       "      <td>1.047198</td>\n",
       "      <td>86507</td>\n",
       "      <td>1.161542</td>\n",
       "      <td>1</td>\n",
       "      <td>1.0</td>\n",
       "      <td>...</td>\n",
       "      <td>1.0</td>\n",
       "      <td>0</td>\n",
       "      <td>0.000000</td>\n",
       "      <td>355</td>\n",
       "      <td>1.047198</td>\n",
       "      <td>86507</td>\n",
       "      <td>1.161542</td>\n",
       "      <td>1</td>\n",
       "      <td>1.0</td>\n",
       "      <td>0.0</td>\n",
       "    </tr>\n",
       "    <tr>\n",
       "      <th>5</th>\n",
       "      <th>1</th>\n",
       "      <th>0</th>\n",
       "      <td>0</td>\n",
       "      <td>0.0</td>\n",
       "      <td>0</td>\n",
       "      <td>0.000000</td>\n",
       "      <td>355</td>\n",
       "      <td>1.047198</td>\n",
       "      <td>86507</td>\n",
       "      <td>1.161542</td>\n",
       "      <td>1</td>\n",
       "      <td>1.0</td>\n",
       "      <td>...</td>\n",
       "      <td>1.0</td>\n",
       "      <td>0</td>\n",
       "      <td>0.000000</td>\n",
       "      <td>355</td>\n",
       "      <td>1.047198</td>\n",
       "      <td>86507</td>\n",
       "      <td>1.161542</td>\n",
       "      <td>1</td>\n",
       "      <td>1.0</td>\n",
       "      <td>0.0</td>\n",
       "    </tr>\n",
       "  </tbody>\n",
       "</table>\n",
       "<p>5 rows × 35 columns</p>\n",
       "</div>"
      ],
      "text/plain": [
       "                        ventas_por_mes  variable_y_ventas_del_siguiente_mes  \\\n",
       "tiendaID skuID fechaID                                                        \n",
       "1        1     0                     0                                  0.0   \n",
       "2        1     0                     0                                  0.0   \n",
       "3        1     0                     0                                  0.0   \n",
       "4        1     0                     0                                  0.0   \n",
       "5        1     0                     0                                  0.0   \n",
       "\n",
       "                        ventas_totales_por_tienda_por_mes  \\\n",
       "tiendaID skuID fechaID                                      \n",
       "1        1     0                                       70   \n",
       "2        1     0                                       14   \n",
       "3        1     0                                       24   \n",
       "4        1     0                                        0   \n",
       "5        1     0                                        0   \n",
       "\n",
       "                        ventas_promedio_por_tienda_por_mes  \\\n",
       "tiendaID skuID fechaID                                       \n",
       "1        1     0                                  1.044776   \n",
       "2        1     0                                  1.076923   \n",
       "3        1     0                                  1.000000   \n",
       "4        1     0                                  0.000000   \n",
       "5        1     0                                  0.000000   \n",
       "\n",
       "                        ventas_totales_por_marca_por_mes  \\\n",
       "tiendaID skuID fechaID                                     \n",
       "1        1     0                                     355   \n",
       "2        1     0                                     355   \n",
       "3        1     0                                     355   \n",
       "4        1     0                                     355   \n",
       "5        1     0                                     355   \n",
       "\n",
       "                        ventas_promedio_por_marca_por_mes  \\\n",
       "tiendaID skuID fechaID                                      \n",
       "1        1     0                                 1.047198   \n",
       "2        1     0                                 1.047198   \n",
       "3        1     0                                 1.047198   \n",
       "4        1     0                                 1.047198   \n",
       "5        1     0                                 1.047198   \n",
       "\n",
       "                        ventas_totales_por_gamma_por_mes  \\\n",
       "tiendaID skuID fechaID                                     \n",
       "1        1     0                                   86507   \n",
       "2        1     0                                   86507   \n",
       "3        1     0                                   86507   \n",
       "4        1     0                                   86507   \n",
       "5        1     0                                   86507   \n",
       "\n",
       "                        ventas_promedio_por_gamma_por_mes  \\\n",
       "tiendaID skuID fechaID                                      \n",
       "1        1     0                                 1.161542   \n",
       "2        1     0                                 1.161542   \n",
       "3        1     0                                 1.161542   \n",
       "4        1     0                                 1.161542   \n",
       "5        1     0                                 1.161542   \n",
       "\n",
       "                        ventas_totales_por_sku_por_mes  \\\n",
       "tiendaID skuID fechaID                                   \n",
       "1        1     0                                     1   \n",
       "2        1     0                                     1   \n",
       "3        1     0                                     1   \n",
       "4        1     0                                     1   \n",
       "5        1     0                                     1   \n",
       "\n",
       "                        ventas_promedio_por_sku_por_mes  ...  \\\n",
       "tiendaID skuID fechaID                                   ...   \n",
       "1        1     0                                    1.0  ...   \n",
       "2        1     0                                    1.0  ...   \n",
       "3        1     0                                    1.0  ...   \n",
       "4        1     0                                    1.0  ...   \n",
       "5        1     0                                    1.0  ...   \n",
       "\n",
       "                        lag2mes_ventas_promedio_por_sku_por_mes  \\\n",
       "tiendaID skuID fechaID                                            \n",
       "1        1     0                                            1.0   \n",
       "2        1     0                                            1.0   \n",
       "3        1     0                                            1.0   \n",
       "4        1     0                                            1.0   \n",
       "5        1     0                                            1.0   \n",
       "\n",
       "                        lag3mes_ventas_totales_por_tienda_por_mes  \\\n",
       "tiendaID skuID fechaID                                              \n",
       "1        1     0                                               70   \n",
       "2        1     0                                               14   \n",
       "3        1     0                                               24   \n",
       "4        1     0                                                0   \n",
       "5        1     0                                                0   \n",
       "\n",
       "                        lag3mes_ventas_promedio_por_tienda_por_mes  \\\n",
       "tiendaID skuID fechaID                                               \n",
       "1        1     0                                          1.044776   \n",
       "2        1     0                                          1.076923   \n",
       "3        1     0                                          1.000000   \n",
       "4        1     0                                          0.000000   \n",
       "5        1     0                                          0.000000   \n",
       "\n",
       "                        lag3mes_ventas_totales_por_marca_por_mes  \\\n",
       "tiendaID skuID fechaID                                             \n",
       "1        1     0                                             355   \n",
       "2        1     0                                             355   \n",
       "3        1     0                                             355   \n",
       "4        1     0                                             355   \n",
       "5        1     0                                             355   \n",
       "\n",
       "                        lag3mes_entas_promedio_por_marca_por_mes  \\\n",
       "tiendaID skuID fechaID                                             \n",
       "1        1     0                                        1.047198   \n",
       "2        1     0                                        1.047198   \n",
       "3        1     0                                        1.047198   \n",
       "4        1     0                                        1.047198   \n",
       "5        1     0                                        1.047198   \n",
       "\n",
       "                        lag3mes_ventas_totales_por_gamma_por_mes  \\\n",
       "tiendaID skuID fechaID                                             \n",
       "1        1     0                                           86507   \n",
       "2        1     0                                           86507   \n",
       "3        1     0                                           86507   \n",
       "4        1     0                                           86507   \n",
       "5        1     0                                           86507   \n",
       "\n",
       "                        lag3mes_ventas_promedio_por_gamma_por_mes  \\\n",
       "tiendaID skuID fechaID                                              \n",
       "1        1     0                                         1.161542   \n",
       "2        1     0                                         1.161542   \n",
       "3        1     0                                         1.161542   \n",
       "4        1     0                                         1.161542   \n",
       "5        1     0                                         1.161542   \n",
       "\n",
       "                        lag3mes_ventas_totales_por_sku_por_mes  \\\n",
       "tiendaID skuID fechaID                                           \n",
       "1        1     0                                             1   \n",
       "2        1     0                                             1   \n",
       "3        1     0                                             1   \n",
       "4        1     0                                             1   \n",
       "5        1     0                                             1   \n",
       "\n",
       "                        lag3mes_ventas_promedio_por_sku_por_mes  \\\n",
       "tiendaID skuID fechaID                                            \n",
       "1        1     0                                            1.0   \n",
       "2        1     0                                            1.0   \n",
       "3        1     0                                            1.0   \n",
       "4        1     0                                            1.0   \n",
       "5        1     0                                            1.0   \n",
       "\n",
       "                        ventas_por_mes_pred  \n",
       "tiendaID skuID fechaID                       \n",
       "1        1     0                        0.0  \n",
       "2        1     0                        0.0  \n",
       "3        1     0                        0.0  \n",
       "4        1     0                        0.0  \n",
       "5        1     0                        0.0  \n",
       "\n",
       "[5 rows x 35 columns]"
      ]
     },
     "execution_count": 27,
     "metadata": {},
     "output_type": "execute_result"
    }
   ],
   "source": [
    "entrenamiento_1.head(5)"
   ]
  },
  {
   "cell_type": "code",
   "execution_count": 28,
   "metadata": {},
   "outputs": [
    {
     "name": "stdout",
     "output_type": "stream",
     "text": [
      "Mean Absolute Error: 0.059521\n",
      "Mean Squared Error: 0.118421\n",
      "R-squared scores: 0.856324\n"
     ]
    }
   ],
   "source": [
    "# Import library for metrics\n",
    "from sklearn.metrics import mean_squared_error, r2_score, mean_absolute_error\n",
    "\n",
    "# Mean absolute error (MAE)\n",
    "mae_1_ent= mean_absolute_error(entrenamiento_1.variable_y_ventas_del_siguiente_mes, entrenamiento_1.ventas_por_mes_pred)\n",
    "\n",
    "# Mean squared error (MSE)\n",
    "mse_1_ent = mean_squared_error(entrenamiento_1.variable_y_ventas_del_siguiente_mes, entrenamiento_1.ventas_por_mes_pred)\n",
    "\n",
    "# R-squared scores\n",
    "r2_1_ent = r2_score(entrenamiento_1.variable_y_ventas_del_siguiente_mes, entrenamiento_1.ventas_por_mes_pred)\n",
    "\n",
    "\n",
    "# Print metrics\n",
    "print('Mean Absolute Error:', round(mae_1_ent, 6))\n",
    "print('Mean Squared Error:', round(mse_1_ent, 6))\n",
    "print('R-squared scores:', round(r2_1_ent, 6))\n"
   ]
  },
  {
   "cell_type": "markdown",
   "metadata": {},
   "source": [
    "# <font color='darkblue'>-.-.-.-.-.-.-.-.-.-.-.-.-.-.-.-.-.-.-.-.-.-.-.-.-.-.-.-.-.-.-.-.-.-.-.-..-.-.-.-.-.-.-.-.-.-.-.-.-..-.-.-.-.-.-.-.-.-.-.-.-.-..-.-.-.-.-.-.-.-.-.-.-.-.-.-.-.-.- </font>"
   ]
  },
  {
   "cell_type": "markdown",
   "metadata": {},
   "source": [
    "## 2. Segunda división: \n",
    "#### Entrenamiento: fechaID=0 y 1 (mes junio y julio) - y: ventas Agosto\n"
   ]
  },
  {
   "cell_type": "code",
   "execution_count": 44,
   "metadata": {},
   "outputs": [],
   "source": [
    "# Fit regression model\n",
    "regr_2 = RandomForestRegressor(\n",
    "    n_estimators=100, \n",
    "    n_jobs=-1)"
   ]
  },
  {
   "cell_type": "code",
   "execution_count": 45,
   "metadata": {},
   "outputs": [
    {
     "data": {
      "text/plain": [
       "RandomForestRegressor(bootstrap=True, criterion='mse', max_depth=None,\n",
       "           max_features='auto', max_leaf_nodes=None,\n",
       "           min_impurity_decrease=0.0, min_impurity_split=None,\n",
       "           min_samples_leaf=1, min_samples_split=2,\n",
       "           min_weight_fraction_leaf=0.0, n_estimators=100, n_jobs=-1,\n",
       "           oob_score=False, random_state=None, verbose=0, warm_start=False)"
      ]
     },
     "execution_count": 45,
     "metadata": {},
     "output_type": "execute_result"
    }
   ],
   "source": [
    "regr_2.fit(x_2, y_2) #05:10 - 5:20"
   ]
  },
  {
   "cell_type": "code",
   "execution_count": 46,
   "metadata": {},
   "outputs": [],
   "source": [
    "#predicciones con conjunto de entrenamiento para calcular el error de entrenamiento\n",
    "pred_2_entrenamiento = regr_2.predict(x_2) #menos de 1 min"
   ]
  },
  {
   "cell_type": "code",
   "execution_count": 47,
   "metadata": {},
   "outputs": [
    {
     "data": {
      "text/plain": [
       "79.19"
      ]
     },
     "execution_count": 47,
     "metadata": {},
     "output_type": "execute_result"
    }
   ],
   "source": [
    "max(pred_2_entrenamiento)"
   ]
  },
  {
   "cell_type": "code",
   "execution_count": 48,
   "metadata": {},
   "outputs": [
    {
     "data": {
      "text/plain": [
       "0.0"
      ]
     },
     "execution_count": 48,
     "metadata": {},
     "output_type": "execute_result"
    }
   ],
   "source": [
    "min(pred_2_entrenamiento)"
   ]
  },
  {
   "cell_type": "code",
   "execution_count": 49,
   "metadata": {},
   "outputs": [],
   "source": [
    "pred_2_entrenamiento = np.clip(pred_2_entrenamiento,0,200)\n",
    "prediccion_2_entrenamiento = pd.DataFrame(pred_2_entrenamiento, columns = ['ventas_por_mes_pred'])\n",
    "prediccion_2_entrenamiento = prediccion_2_entrenamiento.round()"
   ]
  },
  {
   "cell_type": "code",
   "execution_count": 50,
   "metadata": {},
   "outputs": [
    {
     "data": {
      "text/plain": [
       "ventas_por_mes_pred    213285.0\n",
       "dtype: float64"
      ]
     },
     "execution_count": 50,
     "metadata": {},
     "output_type": "execute_result"
    }
   ],
   "source": [
    "prediccion_2_entrenamiento.sum()"
   ]
  },
  {
   "cell_type": "code",
   "execution_count": 51,
   "metadata": {},
   "outputs": [
    {
     "data": {
      "text/plain": [
       "array([[0.],\n",
       "       [0.],\n",
       "       [0.],\n",
       "       ...,\n",
       "       [0.],\n",
       "       [0.],\n",
       "       [0.]])"
      ]
     },
     "execution_count": 51,
     "metadata": {},
     "output_type": "execute_result"
    }
   ],
   "source": [
    "prediccion_2_entrenamiento = prediccion_2_entrenamiento.values\n",
    "prediccion_2_entrenamiento"
   ]
  },
  {
   "cell_type": "code",
   "execution_count": 52,
   "metadata": {},
   "outputs": [],
   "source": [
    "entrenamiento_2['ventas_por_mes_pred'] = prediccion_2_entrenamiento"
   ]
  },
  {
   "cell_type": "code",
   "execution_count": 53,
   "metadata": {},
   "outputs": [
    {
     "name": "stdout",
     "output_type": "stream",
     "text": [
      "Mean Absolute Error: 0.04449\n",
      "Mean Squared Error: 0.083847\n",
      "R-squared scores: 0.897438\n"
     ]
    }
   ],
   "source": [
    "# Import library for metrics\n",
    "from sklearn.metrics import mean_squared_error, r2_score, mean_absolute_error\n",
    "\n",
    "# Mean absolute error (MAE)\n",
    "mae_2_ent= mean_absolute_error(entrenamiento_2.variable_y_ventas_del_siguiente_mes, entrenamiento_2.ventas_por_mes_pred)\n",
    "\n",
    "# Mean squared error (MSE)\n",
    "mse_2_ent = mean_squared_error(entrenamiento_2.variable_y_ventas_del_siguiente_mes, entrenamiento_2.ventas_por_mes_pred)\n",
    "\n",
    "# R-squared scores\n",
    "r2_2_ent = r2_score(entrenamiento_2.variable_y_ventas_del_siguiente_mes, entrenamiento_2.ventas_por_mes_pred)\n",
    "\n",
    "\n",
    "# Print metrics\n",
    "print('Mean Absolute Error:', round(mae_2_ent, 6))\n",
    "print('Mean Squared Error:', round(mse_2_ent, 6))\n",
    "print('R-squared scores:', round(r2_2_ent, 6))\n"
   ]
  },
  {
   "cell_type": "markdown",
   "metadata": {},
   "source": [
    "# <font color='darkblue'>-.-.-.-.-.-.-.-.-.-.-.-.-.-.-.-.-.-.-.-.-.-.-.-.-.-.-.-.-.-.-.-.-.-.-.-..-.-.-.-.-.-.-.-.-.-.-.-.-..-.-.-.-.-.-.-.-.-.-.-.-.-..-.-.-.-.-.-.-.-.-.-.-.-.-.-.-.-.- </font>"
   ]
  },
  {
   "cell_type": "markdown",
   "metadata": {},
   "source": [
    "## 3. Tercera división: \n",
    "#### Entrenamiento: fechaID=0,1,2(mes junio julio agosto) - y: ventas septiembre\n"
   ]
  },
  {
   "cell_type": "code",
   "execution_count": 69,
   "metadata": {},
   "outputs": [],
   "source": [
    "# Fit regression model\n",
    "regr_3 = RandomForestRegressor(\n",
    "    n_estimators=100, \n",
    "    n_jobs=-1)"
   ]
  },
  {
   "cell_type": "code",
   "execution_count": 70,
   "metadata": {},
   "outputs": [
    {
     "data": {
      "text/plain": [
       "RandomForestRegressor(bootstrap=True, criterion='mse', max_depth=None,\n",
       "           max_features='auto', max_leaf_nodes=None,\n",
       "           min_impurity_decrease=0.0, min_impurity_split=None,\n",
       "           min_samples_leaf=1, min_samples_split=2,\n",
       "           min_weight_fraction_leaf=0.0, n_estimators=100, n_jobs=-1,\n",
       "           oob_score=False, random_state=None, verbose=0, warm_start=False)"
      ]
     },
     "execution_count": 70,
     "metadata": {},
     "output_type": "execute_result"
    }
   ],
   "source": [
    "regr_3.fit(x_3, y_3) #05:23 - 5:43"
   ]
  },
  {
   "cell_type": "code",
   "execution_count": 71,
   "metadata": {},
   "outputs": [],
   "source": [
    "#predicciones con conjunto de entrenamiento para calcular el error de entrenamiento\n",
    "pred_3_entrenamiento = regr_3.predict(x_3) #menos de 1 min"
   ]
  },
  {
   "cell_type": "code",
   "execution_count": 72,
   "metadata": {},
   "outputs": [
    {
     "data": {
      "text/plain": [
       "73.84"
      ]
     },
     "execution_count": 72,
     "metadata": {},
     "output_type": "execute_result"
    }
   ],
   "source": [
    "max(pred_3_entrenamiento)"
   ]
  },
  {
   "cell_type": "code",
   "execution_count": 73,
   "metadata": {},
   "outputs": [
    {
     "data": {
      "text/plain": [
       "0.0"
      ]
     },
     "execution_count": 73,
     "metadata": {},
     "output_type": "execute_result"
    }
   ],
   "source": [
    "min(pred_3_entrenamiento)"
   ]
  },
  {
   "cell_type": "code",
   "execution_count": 74,
   "metadata": {},
   "outputs": [],
   "source": [
    "pred_3_entrenamiento = np.clip(pred_3_entrenamiento,0,200)\n",
    "prediccion_3_entrenamiento = pd.DataFrame(pred_3_entrenamiento, columns = ['ventas_por_mes_pred'])\n",
    "prediccion_3_entrenamiento = prediccion_3_entrenamiento.round()"
   ]
  },
  {
   "cell_type": "code",
   "execution_count": 75,
   "metadata": {},
   "outputs": [
    {
     "data": {
      "text/plain": [
       "ventas_por_mes_pred    305854.0\n",
       "dtype: float64"
      ]
     },
     "execution_count": 75,
     "metadata": {},
     "output_type": "execute_result"
    }
   ],
   "source": [
    "prediccion_3_entrenamiento.sum()"
   ]
  },
  {
   "cell_type": "code",
   "execution_count": 76,
   "metadata": {},
   "outputs": [
    {
     "data": {
      "text/plain": [
       "array([[0.],\n",
       "       [0.],\n",
       "       [0.],\n",
       "       ...,\n",
       "       [0.],\n",
       "       [0.],\n",
       "       [0.]])"
      ]
     },
     "execution_count": 76,
     "metadata": {},
     "output_type": "execute_result"
    }
   ],
   "source": [
    "prediccion_3_entrenamiento = prediccion_3_entrenamiento.values\n",
    "prediccion_3_entrenamiento"
   ]
  },
  {
   "cell_type": "code",
   "execution_count": 77,
   "metadata": {},
   "outputs": [],
   "source": [
    "entrenamiento_3['ventas_por_mes_pred'] = prediccion_3_entrenamiento"
   ]
  },
  {
   "cell_type": "code",
   "execution_count": 78,
   "metadata": {},
   "outputs": [
    {
     "name": "stdout",
     "output_type": "stream",
     "text": [
      "Mean Absolute Error: 0.039514\n",
      "Mean Squared Error: 0.071958\n",
      "R-squared scores: 0.903418\n"
     ]
    }
   ],
   "source": [
    "# Mean absolute error (MAE)\n",
    "mae_3_ent= mean_absolute_error(entrenamiento_3.variable_y_ventas_del_siguiente_mes, entrenamiento_3.ventas_por_mes_pred)\n",
    "\n",
    "# Mean squared error (MSE)\n",
    "mse_3_ent = mean_squared_error(entrenamiento_3.variable_y_ventas_del_siguiente_mes, entrenamiento_3.ventas_por_mes_pred)\n",
    "\n",
    "# R-squared scores\n",
    "r2_3_ent = r2_score(entrenamiento_3.variable_y_ventas_del_siguiente_mes, entrenamiento_3.ventas_por_mes_pred)\n",
    "\n",
    "\n",
    "# Print metrics\n",
    "print('Mean Absolute Error:', round(mae_3_ent, 6))\n",
    "print('Mean Squared Error:', round(mse_3_ent, 6))\n",
    "print('R-squared scores:', round(r2_3_ent, 6))\n"
   ]
  },
  {
   "cell_type": "markdown",
   "metadata": {},
   "source": [
    "# <font color='darkblue'>-.-.-.-.-.-.-.-.-.-.-.-.-.-.-.-.-.-.-.-.-.-.-.-.-.-.-.-.-.-.-.-.-.-.-.-..-.-.-.-.-.-.-.-.-.-.-.-.-..-.-.-.-.-.-.-.-.-.-.-.-.-..-.-.-.-.-.-.-.-.-.-.-.-.-.-.-.-.- </font>"
   ]
  },
  {
   "cell_type": "markdown",
   "metadata": {},
   "source": [
    "## 4. Cuarta división: \n",
    "#### Entrenamiento: fechaID=0,1,2,3 (mes junio julio agosto septiembre) - y: ventas octubre"
   ]
  },
  {
   "cell_type": "code",
   "execution_count": 18,
   "metadata": {},
   "outputs": [],
   "source": [
    "# Fit regression model\n",
    "regr_4 = RandomForestRegressor(\n",
    "    n_estimators=100, \n",
    "    n_jobs=-1)"
   ]
  },
  {
   "cell_type": "code",
   "execution_count": 19,
   "metadata": {},
   "outputs": [
    {
     "data": {
      "text/plain": [
       "RandomForestRegressor(bootstrap=True, criterion='mse', max_depth=None,\n",
       "           max_features='auto', max_leaf_nodes=None,\n",
       "           min_impurity_decrease=0.0, min_impurity_split=None,\n",
       "           min_samples_leaf=1, min_samples_split=2,\n",
       "           min_weight_fraction_leaf=0.0, n_estimators=100, n_jobs=-1,\n",
       "           oob_score=False, random_state=None, verbose=0, warm_start=False)"
      ]
     },
     "execution_count": 19,
     "metadata": {},
     "output_type": "execute_result"
    }
   ],
   "source": [
    "regr_4.fit(x_4, y_4) #5:48 - 6:16"
   ]
  },
  {
   "cell_type": "code",
   "execution_count": 20,
   "metadata": {},
   "outputs": [],
   "source": [
    "#predicciones con conjunto de entrenamiento para calcular el error de entrenamiento\n",
    "pred_4_entrenamiento = regr_4.predict(x_4) #menos de 1 minuto"
   ]
  },
  {
   "cell_type": "code",
   "execution_count": 21,
   "metadata": {},
   "outputs": [
    {
     "data": {
      "text/plain": [
       "78.49"
      ]
     },
     "execution_count": 21,
     "metadata": {},
     "output_type": "execute_result"
    }
   ],
   "source": [
    "max(pred_4_entrenamiento)"
   ]
  },
  {
   "cell_type": "code",
   "execution_count": 22,
   "metadata": {},
   "outputs": [
    {
     "data": {
      "text/plain": [
       "0.0"
      ]
     },
     "execution_count": 22,
     "metadata": {},
     "output_type": "execute_result"
    }
   ],
   "source": [
    "min(pred_4_entrenamiento)"
   ]
  },
  {
   "cell_type": "code",
   "execution_count": 23,
   "metadata": {},
   "outputs": [],
   "source": [
    "pred_4_entrenamiento = np.clip(pred_4_entrenamiento,0,200)\n",
    "prediccion_4_entrenamiento = pd.DataFrame(pred_4_entrenamiento, columns = ['ventas_por_mes_pred'])\n",
    "prediccion_4_entrenamiento = prediccion_4_entrenamiento.round()"
   ]
  },
  {
   "cell_type": "code",
   "execution_count": 24,
   "metadata": {},
   "outputs": [
    {
     "data": {
      "text/plain": [
       "ventas_por_mes_pred    402383.0\n",
       "dtype: float64"
      ]
     },
     "execution_count": 24,
     "metadata": {},
     "output_type": "execute_result"
    }
   ],
   "source": [
    "prediccion_4_entrenamiento.sum()"
   ]
  },
  {
   "cell_type": "code",
   "execution_count": 25,
   "metadata": {},
   "outputs": [
    {
     "data": {
      "text/plain": [
       "array([[0.],\n",
       "       [0.],\n",
       "       [0.],\n",
       "       ...,\n",
       "       [0.],\n",
       "       [0.],\n",
       "       [0.]])"
      ]
     },
     "execution_count": 25,
     "metadata": {},
     "output_type": "execute_result"
    }
   ],
   "source": [
    "prediccion_4_entrenamiento = prediccion_4_entrenamiento.values\n",
    "prediccion_4_entrenamiento"
   ]
  },
  {
   "cell_type": "code",
   "execution_count": 26,
   "metadata": {},
   "outputs": [],
   "source": [
    "entrenamiento_4['ventas_por_mes_pred'] = prediccion_4_entrenamiento"
   ]
  },
  {
   "cell_type": "code",
   "execution_count": 28,
   "metadata": {},
   "outputs": [
    {
     "name": "stdout",
     "output_type": "stream",
     "text": [
      "Mean Absolute Error: 0.035636\n",
      "Mean Squared Error: 0.062938\n",
      "R-squared scores: 0.91058\n"
     ]
    }
   ],
   "source": [
    "# Import library for metrics\n",
    "from sklearn.metrics import mean_squared_error, r2_score, mean_absolute_error\n",
    "\n",
    "# Mean absolute error (MAE)\n",
    "mae_4_ent= mean_absolute_error(entrenamiento_4.variable_y_ventas_del_siguiente_mes, entrenamiento_4.ventas_por_mes_pred)\n",
    "\n",
    "# Mean squared error (MSE)\n",
    "mse_4_ent = mean_squared_error(entrenamiento_4.variable_y_ventas_del_siguiente_mes, entrenamiento_4.ventas_por_mes_pred)\n",
    "\n",
    "# R-squared scores\n",
    "r2_4_ent = r2_score(entrenamiento_4.variable_y_ventas_del_siguiente_mes, entrenamiento_4.ventas_por_mes_pred)\n",
    "\n",
    "\n",
    "# Print metrics\n",
    "print('Mean Absolute Error:', round(mae_4_ent, 6))\n",
    "print('Mean Squared Error:', round(mse_4_ent, 6))\n",
    "print('R-squared scores:', round(r2_4_ent, 6))\n"
   ]
  },
  {
   "cell_type": "markdown",
   "metadata": {},
   "source": [
    "# <font color='darkblue'>-.-.-.-.-.-.-.-.-.-.-.-.-.-.-.-.-.-.-.-.-.-.-.-.-.-.-.-.-.-.-.-.-.-.-.-..-.-.-.-.-.-.-.-.-.-.-.-.-..-.-.-.-.-.-.-.-.-.-.-.-.-..-.-.-.-.-.-.-.-.-.-.-.-.-.-.-.-.- </font>"
   ]
  },
  {
   "cell_type": "markdown",
   "metadata": {},
   "source": [
    "## 5. Quinta división: \n",
    "#### Entrenamiento: fechaID=0,1,2,3,4 (mes junio julio agosto septiembre octubre) - y: ventas noviembre\n"
   ]
  },
  {
   "cell_type": "code",
   "execution_count": 18,
   "metadata": {},
   "outputs": [],
   "source": [
    "# Fit regression model\n",
    "regr_5 = RandomForestRegressor(\n",
    "    n_estimators=100, \n",
    "    n_jobs=-1)"
   ]
  },
  {
   "cell_type": "code",
   "execution_count": 19,
   "metadata": {},
   "outputs": [
    {
     "data": {
      "text/plain": [
       "RandomForestRegressor(bootstrap=True, criterion='mse', max_depth=None,\n",
       "           max_features='auto', max_leaf_nodes=None,\n",
       "           min_impurity_decrease=0.0, min_impurity_split=None,\n",
       "           min_samples_leaf=1, min_samples_split=2,\n",
       "           min_weight_fraction_leaf=0.0, n_estimators=100, n_jobs=-1,\n",
       "           oob_score=False, random_state=None, verbose=0, warm_start=False)"
      ]
     },
     "execution_count": 19,
     "metadata": {},
     "output_type": "execute_result"
    }
   ],
   "source": [
    "regr_5.fit(x_5, y_5) #7:01"
   ]
  },
  {
   "cell_type": "code",
   "execution_count": 20,
   "metadata": {},
   "outputs": [],
   "source": [
    "#predicciones con conjunto de entrenamiento para calcular el error de entrenamiento\n",
    "pred_5_entrenamiento = regr_5.predict(x_5) #menos de 1 minuto"
   ]
  },
  {
   "cell_type": "code",
   "execution_count": 21,
   "metadata": {},
   "outputs": [
    {
     "data": {
      "text/plain": [
       "(4342975,)"
      ]
     },
     "execution_count": 21,
     "metadata": {},
     "output_type": "execute_result"
    }
   ],
   "source": [
    "pred_5_entrenamiento.shape"
   ]
  },
  {
   "cell_type": "code",
   "execution_count": 22,
   "metadata": {},
   "outputs": [
    {
     "data": {
      "text/plain": [
       "75.49"
      ]
     },
     "execution_count": 22,
     "metadata": {},
     "output_type": "execute_result"
    }
   ],
   "source": [
    "max(pred_5_entrenamiento)"
   ]
  },
  {
   "cell_type": "code",
   "execution_count": 23,
   "metadata": {},
   "outputs": [
    {
     "data": {
      "text/plain": [
       "0.0"
      ]
     },
     "execution_count": 23,
     "metadata": {},
     "output_type": "execute_result"
    }
   ],
   "source": [
    "min(pred_5_entrenamiento)"
   ]
  },
  {
   "cell_type": "code",
   "execution_count": 24,
   "metadata": {},
   "outputs": [],
   "source": [
    "pred_5_entrenamiento = np.clip(pred_5_entrenamiento,0,200)\n",
    "prediccion_5_entrenamiento = pd.DataFrame(pred_5_entrenamiento, columns = ['ventas_por_mes_pred'])\n",
    "prediccion_5_entrenamiento = prediccion_5_entrenamiento.round()"
   ]
  },
  {
   "cell_type": "code",
   "execution_count": 25,
   "metadata": {},
   "outputs": [
    {
     "data": {
      "text/plain": [
       "array([[0.],\n",
       "       [0.],\n",
       "       [0.],\n",
       "       ...,\n",
       "       [0.],\n",
       "       [0.],\n",
       "       [0.]])"
      ]
     },
     "execution_count": 25,
     "metadata": {},
     "output_type": "execute_result"
    }
   ],
   "source": [
    "prediccion_5_entrenamiento = prediccion_5_entrenamiento.values\n",
    "prediccion_5_entrenamiento"
   ]
  },
  {
   "cell_type": "code",
   "execution_count": 26,
   "metadata": {},
   "outputs": [],
   "source": [
    "entrenamiento_5['ventas_por_mes_pred'] = prediccion_5_entrenamiento"
   ]
  },
  {
   "cell_type": "code",
   "execution_count": 27,
   "metadata": {},
   "outputs": [
    {
     "name": "stdout",
     "output_type": "stream",
     "text": [
      "Mean Absolute Error: 0.037678\n",
      "Mean Squared Error: 0.070332\n",
      "R-squared scores: 0.902626\n"
     ]
    }
   ],
   "source": [
    "# Import library for metrics\n",
    "from sklearn.metrics import mean_squared_error, r2_score, mean_absolute_error\n",
    "\n",
    "# Mean absolute error (MAE)\n",
    "mae_5_ent= mean_absolute_error(entrenamiento_5.variable_y_ventas_del_siguiente_mes, entrenamiento_5.ventas_por_mes_pred)\n",
    "\n",
    "# Mean squared error (MSE)\n",
    "mse_5_ent = mean_squared_error(entrenamiento_5.variable_y_ventas_del_siguiente_mes, entrenamiento_5.ventas_por_mes_pred)\n",
    "\n",
    "# R-squared scores\n",
    "r2_5_ent = r2_score(entrenamiento_5.variable_y_ventas_del_siguiente_mes, entrenamiento_5.ventas_por_mes_pred)\n",
    "\n",
    "\n",
    "# Print metrics\n",
    "print('Mean Absolute Error:', round(mae_5_ent, 6))\n",
    "print('Mean Squared Error:', round(mse_5_ent, 6))\n",
    "print('R-squared scores:', round(r2_5_ent, 6))\n"
   ]
  },
  {
   "cell_type": "markdown",
   "metadata": {},
   "source": [
    "# <font color='darkblue'>-.-.-.-.-.-.-.-.-.-.-.-.-.-.-.-.-.-.-.-.-.-.-.-.-.-.-.-.-.-.-.-.-.-.-.-..-.-.-.-.-.-.-.-.-.-.-.-.-..-.-.-.-.-.-.-.-.-.-.-.-.-..-.-.-.-.-.-.-.-.-.-.-.-.-.-.-.-.- </font>"
   ]
  },
  {
   "cell_type": "markdown",
   "metadata": {},
   "source": [
    "## 6. Sexta división: \n",
    "#### Entrenamiento: fechaID=0,1,2,3,4,5 (mes junio julio agosto septiembre octubre noviembre) - y: ventas diciembre"
   ]
  },
  {
   "cell_type": "code",
   "execution_count": 18,
   "metadata": {},
   "outputs": [],
   "source": [
    "# Fit regression model\n",
    "regr_6 = RandomForestRegressor(\n",
    "    n_estimators=100, \n",
    "    n_jobs=-1)"
   ]
  },
  {
   "cell_type": "code",
   "execution_count": 19,
   "metadata": {},
   "outputs": [
    {
     "data": {
      "text/plain": [
       "RandomForestRegressor(bootstrap=True, criterion='mse', max_depth=None,\n",
       "           max_features='auto', max_leaf_nodes=None,\n",
       "           min_impurity_decrease=0.0, min_impurity_split=None,\n",
       "           min_samples_leaf=1, min_samples_split=2,\n",
       "           min_weight_fraction_leaf=0.0, n_estimators=100, n_jobs=-1,\n",
       "           oob_score=False, random_state=None, verbose=0, warm_start=False)"
      ]
     },
     "execution_count": 19,
     "metadata": {},
     "output_type": "execute_result"
    }
   ],
   "source": [
    "regr_6.fit(x_6, y_6) #8:21 - 9:16"
   ]
  },
  {
   "cell_type": "code",
   "execution_count": 20,
   "metadata": {},
   "outputs": [],
   "source": [
    "#predicciones con conjunto de entrenamiento para calcular el error de entrenamiento\n",
    "pred_6_entrenamiento = regr_6.predict(x_6) #menos de 1 minuto"
   ]
  },
  {
   "cell_type": "code",
   "execution_count": 21,
   "metadata": {},
   "outputs": [
    {
     "data": {
      "text/plain": [
       "(5211570,)"
      ]
     },
     "execution_count": 21,
     "metadata": {},
     "output_type": "execute_result"
    }
   ],
   "source": [
    "pred_6_entrenamiento.shape"
   ]
  },
  {
   "cell_type": "code",
   "execution_count": 22,
   "metadata": {},
   "outputs": [
    {
     "data": {
      "text/plain": [
       "71.7"
      ]
     },
     "execution_count": 22,
     "metadata": {},
     "output_type": "execute_result"
    }
   ],
   "source": [
    "max(pred_6_entrenamiento)"
   ]
  },
  {
   "cell_type": "code",
   "execution_count": 23,
   "metadata": {},
   "outputs": [
    {
     "data": {
      "text/plain": [
       "0.0"
      ]
     },
     "execution_count": 23,
     "metadata": {},
     "output_type": "execute_result"
    }
   ],
   "source": [
    "min(pred_6_entrenamiento)"
   ]
  },
  {
   "cell_type": "code",
   "execution_count": 24,
   "metadata": {},
   "outputs": [],
   "source": [
    "pred_6_entrenamiento = np.clip(pred_6_entrenamiento,0,200)\n",
    "prediccion_6_entrenamiento = pd.DataFrame(pred_6_entrenamiento, columns = ['ventas_por_mes_pred'])\n",
    "prediccion_6_entrenamiento = prediccion_6_entrenamiento.round()"
   ]
  },
  {
   "cell_type": "code",
   "execution_count": 25,
   "metadata": {},
   "outputs": [
    {
     "data": {
      "text/plain": [
       "array([[0.],\n",
       "       [0.],\n",
       "       [0.],\n",
       "       ...,\n",
       "       [0.],\n",
       "       [0.],\n",
       "       [0.]])"
      ]
     },
     "execution_count": 25,
     "metadata": {},
     "output_type": "execute_result"
    }
   ],
   "source": [
    "prediccion_6_entrenamiento = prediccion_6_entrenamiento.values\n",
    "prediccion_6_entrenamiento"
   ]
  },
  {
   "cell_type": "code",
   "execution_count": 26,
   "metadata": {},
   "outputs": [],
   "source": [
    "entrenamiento_6['ventas_por_mes_pred'] = prediccion_6_entrenamiento"
   ]
  },
  {
   "cell_type": "code",
   "execution_count": 27,
   "metadata": {},
   "outputs": [
    {
     "name": "stdout",
     "output_type": "stream",
     "text": [
      "Mean Absolute Error: 0.037277\n",
      "Mean Squared Error: 0.068222\n",
      "R-squared scores: 0.909142\n"
     ]
    }
   ],
   "source": [
    "# Import library for metrics\n",
    "from sklearn.metrics import mean_squared_error, r2_score, mean_absolute_error\n",
    "\n",
    "# Mean absolute error (MAE)\n",
    "mae_6_ent= mean_absolute_error(entrenamiento_6.variable_y_ventas_del_siguiente_mes, entrenamiento_6.ventas_por_mes_pred)\n",
    "\n",
    "# Mean squared error (MSE)\n",
    "mse_6_ent = mean_squared_error(entrenamiento_6.variable_y_ventas_del_siguiente_mes, entrenamiento_6.ventas_por_mes_pred)\n",
    "\n",
    "# R-squared scores\n",
    "r2_6_ent = r2_score(entrenamiento_6.variable_y_ventas_del_siguiente_mes, entrenamiento_6.ventas_por_mes_pred)\n",
    "\n",
    "\n",
    "# Print metrics\n",
    "print('Mean Absolute Error:', round(mae_6_ent, 6))\n",
    "print('Mean Squared Error:', round(mse_6_ent, 6))\n",
    "print('R-squared scores:', round(r2_6_ent, 6))\n"
   ]
  },
  {
   "cell_type": "markdown",
   "metadata": {},
   "source": [
    "# <font color='darkblue'>-.-.-.-.-.-.-.-.-.-.-.-.-.-.-.-.-.-.-.-.-.-.-.-.-.-.-.-.-.-.-.-.-.-.-.-..-.-.-.-.-.-.-.-.-.-.-.-.-..-.-.-.-.-.-.-.-.-.-.-.-.-..-.-.-.-.-.-.-.-.-.-.-.-.-.-.-.-.- </font>"
   ]
  },
  {
   "cell_type": "markdown",
   "metadata": {},
   "source": [
    "## 7. Séptima división: \n",
    "#### Entrenamiento: fechaID=0,1,2,3,4,5,6 (mes junio julio agosto septiembre octubre noviembre diciembre) - y: ventas enero\n"
   ]
  },
  {
   "cell_type": "code",
   "execution_count": 18,
   "metadata": {},
   "outputs": [],
   "source": [
    "# Fit regression model\n",
    "regr_7 = RandomForestRegressor(\n",
    "    n_estimators=100, \n",
    "    n_jobs=-1)"
   ]
  },
  {
   "cell_type": "code",
   "execution_count": 19,
   "metadata": {},
   "outputs": [
    {
     "data": {
      "text/plain": [
       "RandomForestRegressor(bootstrap=True, criterion='mse', max_depth=None,\n",
       "           max_features='auto', max_leaf_nodes=None,\n",
       "           min_impurity_decrease=0.0, min_impurity_split=None,\n",
       "           min_samples_leaf=1, min_samples_split=2,\n",
       "           min_weight_fraction_leaf=0.0, n_estimators=100, n_jobs=-1,\n",
       "           oob_score=False, random_state=None, verbose=0, warm_start=False)"
      ]
     },
     "execution_count": 19,
     "metadata": {},
     "output_type": "execute_result"
    }
   ],
   "source": [
    "regr_7.fit(x_7, y_7) #9:25-10_27"
   ]
  },
  {
   "cell_type": "code",
   "execution_count": 20,
   "metadata": {},
   "outputs": [],
   "source": [
    "#predicciones con conjunto de entrenamiento para calcular el error de entrenamiento\n",
    "pred_7_entrenamiento = regr_7.predict(x_7) #menos de 1 minuto"
   ]
  },
  {
   "cell_type": "code",
   "execution_count": 21,
   "metadata": {},
   "outputs": [
    {
     "data": {
      "text/plain": [
       "(6080165,)"
      ]
     },
     "execution_count": 21,
     "metadata": {},
     "output_type": "execute_result"
    }
   ],
   "source": [
    "pred_7_entrenamiento.shape"
   ]
  },
  {
   "cell_type": "code",
   "execution_count": 22,
   "metadata": {},
   "outputs": [
    {
     "data": {
      "text/plain": [
       "74.62"
      ]
     },
     "execution_count": 22,
     "metadata": {},
     "output_type": "execute_result"
    }
   ],
   "source": [
    "max(pred_7_entrenamiento)"
   ]
  },
  {
   "cell_type": "code",
   "execution_count": 23,
   "metadata": {},
   "outputs": [
    {
     "data": {
      "text/plain": [
       "0.0"
      ]
     },
     "execution_count": 23,
     "metadata": {},
     "output_type": "execute_result"
    }
   ],
   "source": [
    "min(pred_7_entrenamiento)"
   ]
  },
  {
   "cell_type": "code",
   "execution_count": 24,
   "metadata": {},
   "outputs": [],
   "source": [
    "pred_7_entrenamiento = np.clip(pred_7_entrenamiento,0,200)\n",
    "prediccion_7_entrenamiento = pd.DataFrame(pred_7_entrenamiento, columns = ['ventas_por_mes_pred'])\n",
    "prediccion_7_entrenamiento = prediccion_7_entrenamiento.round()"
   ]
  },
  {
   "cell_type": "code",
   "execution_count": 25,
   "metadata": {},
   "outputs": [
    {
     "data": {
      "text/plain": [
       "array([[0.],\n",
       "       [0.],\n",
       "       [0.],\n",
       "       ...,\n",
       "       [0.],\n",
       "       [0.],\n",
       "       [0.]])"
      ]
     },
     "execution_count": 25,
     "metadata": {},
     "output_type": "execute_result"
    }
   ],
   "source": [
    "prediccion_7_entrenamiento = prediccion_7_entrenamiento.values\n",
    "prediccion_7_entrenamiento"
   ]
  },
  {
   "cell_type": "code",
   "execution_count": 26,
   "metadata": {},
   "outputs": [],
   "source": [
    "entrenamiento_7['ventas_por_mes_pred'] = prediccion_7_entrenamiento"
   ]
  },
  {
   "cell_type": "code",
   "execution_count": 27,
   "metadata": {},
   "outputs": [
    {
     "name": "stdout",
     "output_type": "stream",
     "text": [
      "Mean Absolute Error: 0.036986\n",
      "Mean Squared Error: 0.068593\n",
      "R-squared scores: 0.904661\n"
     ]
    }
   ],
   "source": [
    "# Import library for metrics\n",
    "from sklearn.metrics import mean_squared_error, r2_score, mean_absolute_error\n",
    "\n",
    "# Mean absolute error (MAE)\n",
    "mae_7_ent= mean_absolute_error(entrenamiento_7.variable_y_ventas_del_siguiente_mes, entrenamiento_7.ventas_por_mes_pred)\n",
    "\n",
    "# Mean squared error (MSE)\n",
    "mse_7_ent = mean_squared_error(entrenamiento_7.variable_y_ventas_del_siguiente_mes, entrenamiento_7.ventas_por_mes_pred)\n",
    "\n",
    "# R-squared scores\n",
    "r2_7_ent = r2_score(entrenamiento_7.variable_y_ventas_del_siguiente_mes, entrenamiento_7.ventas_por_mes_pred)\n",
    "\n",
    "\n",
    "# Print metrics\n",
    "print('Mean Absolute Error:', round(mae_7_ent, 6))\n",
    "print('Mean Squared Error:', round(mse_7_ent, 6))\n",
    "print('R-squared scores:', round(r2_7_ent, 6))"
   ]
  },
  {
   "cell_type": "markdown",
   "metadata": {},
   "source": [
    "# <font color='darkblue'>-.-.-.-.-.-.-.-.-.-.-.-.-.-.-.-.-.-.-.-.-.-.-.-.-.-.-.-.-.-.-.-.-.-.-.-..-.-.-.-.-.-.-.-.-.-.-.-.-..-.-.-.-.-.-.-.-.-.-.-.-.-..-.-.-.-.-.-.-.-.-.-.-.-.-.-.-.-.- </font>"
   ]
  },
  {
   "cell_type": "markdown",
   "metadata": {},
   "source": [
    "## 8. Octava división: \n",
    "#### Entrenamiento: fechaID=0,1,2,3,4,5,6,7 (mes junio  julio agosto septiembre octubre noviembre diciembre enero) - y: ventas febrero\n"
   ]
  },
  {
   "cell_type": "code",
   "execution_count": 18,
   "metadata": {},
   "outputs": [],
   "source": [
    "# Fit regression model\n",
    "regr_8 = RandomForestRegressor(\n",
    "    n_estimators=100, \n",
    "    n_jobs=-1)"
   ]
  },
  {
   "cell_type": "code",
   "execution_count": 19,
   "metadata": {},
   "outputs": [
    {
     "data": {
      "text/plain": [
       "RandomForestRegressor(bootstrap=True, criterion='mse', max_depth=None,\n",
       "           max_features='auto', max_leaf_nodes=None,\n",
       "           min_impurity_decrease=0.0, min_impurity_split=None,\n",
       "           min_samples_leaf=1, min_samples_split=2,\n",
       "           min_weight_fraction_leaf=0.0, n_estimators=100, n_jobs=-1,\n",
       "           oob_score=False, random_state=None, verbose=0, warm_start=False)"
      ]
     },
     "execution_count": 19,
     "metadata": {},
     "output_type": "execute_result"
    }
   ],
   "source": [
    "regr_8.fit(x_8, y_8) #12:31-1:50"
   ]
  },
  {
   "cell_type": "code",
   "execution_count": 20,
   "metadata": {},
   "outputs": [],
   "source": [
    "#predicciones con conjunto de entrenamiento para calcular el error de entrenamiento\n",
    "pred_8_entrenamiento = regr_8.predict(x_8) #menos de 1 minuto"
   ]
  },
  {
   "cell_type": "code",
   "execution_count": 21,
   "metadata": {},
   "outputs": [
    {
     "data": {
      "text/plain": [
       "(6948760,)"
      ]
     },
     "execution_count": 21,
     "metadata": {},
     "output_type": "execute_result"
    }
   ],
   "source": [
    "pred_8_entrenamiento.shape"
   ]
  },
  {
   "cell_type": "code",
   "execution_count": 22,
   "metadata": {},
   "outputs": [
    {
     "data": {
      "text/plain": [
       "70.55"
      ]
     },
     "execution_count": 22,
     "metadata": {},
     "output_type": "execute_result"
    }
   ],
   "source": [
    "max(pred_8_entrenamiento)"
   ]
  },
  {
   "cell_type": "code",
   "execution_count": 23,
   "metadata": {},
   "outputs": [
    {
     "data": {
      "text/plain": [
       "0.0"
      ]
     },
     "execution_count": 23,
     "metadata": {},
     "output_type": "execute_result"
    }
   ],
   "source": [
    "min(pred_8_entrenamiento)"
   ]
  },
  {
   "cell_type": "code",
   "execution_count": 24,
   "metadata": {},
   "outputs": [],
   "source": [
    "pred_8_entrenamiento = np.clip(pred_8_entrenamiento,0,200)\n",
    "prediccion_8_entrenamiento = pd.DataFrame(pred_8_entrenamiento, columns = ['ventas_por_mes_pred'])\n",
    "prediccion_8_entrenamiento = prediccion_8_entrenamiento.round()"
   ]
  },
  {
   "cell_type": "code",
   "execution_count": 25,
   "metadata": {},
   "outputs": [
    {
     "data": {
      "text/plain": [
       "array([[0.],\n",
       "       [0.],\n",
       "       [0.],\n",
       "       ...,\n",
       "       [0.],\n",
       "       [0.],\n",
       "       [0.]])"
      ]
     },
     "execution_count": 25,
     "metadata": {},
     "output_type": "execute_result"
    }
   ],
   "source": [
    "prediccion_8_entrenamiento = prediccion_8_entrenamiento.values\n",
    "prediccion_8_entrenamiento"
   ]
  },
  {
   "cell_type": "code",
   "execution_count": 26,
   "metadata": {},
   "outputs": [],
   "source": [
    "entrenamiento_8['ventas_por_mes_pred'] = prediccion_8_entrenamiento"
   ]
  },
  {
   "cell_type": "code",
   "execution_count": 27,
   "metadata": {},
   "outputs": [
    {
     "name": "stdout",
     "output_type": "stream",
     "text": [
      "Mean Absolute Error: 0.035426\n",
      "Mean Squared Error: 0.065379\n",
      "R-squared scores: 0.906369\n"
     ]
    }
   ],
   "source": [
    "# Import library for metrics\n",
    "from sklearn.metrics import mean_squared_error, r2_score, mean_absolute_error\n",
    "\n",
    "# Mean absolute error (MAE)\n",
    "mae_8_ent= mean_absolute_error(entrenamiento_8.variable_y_ventas_del_siguiente_mes, entrenamiento_8.ventas_por_mes_pred)\n",
    "\n",
    "# Mean squared error (MSE)\n",
    "mse_8_ent = mean_squared_error(entrenamiento_8.variable_y_ventas_del_siguiente_mes, entrenamiento_8.ventas_por_mes_pred)\n",
    "\n",
    "# R-squared scores\n",
    "r2_8_ent = r2_score(entrenamiento_8.variable_y_ventas_del_siguiente_mes, entrenamiento_8.ventas_por_mes_pred)\n",
    "\n",
    "\n",
    "# Print metrics\n",
    "print('Mean Absolute Error:', round(mae_8_ent, 6))\n",
    "print('Mean Squared Error:', round(mse_8_ent, 6))\n",
    "print('R-squared scores:', round(r2_8_ent, 6))"
   ]
  },
  {
   "cell_type": "markdown",
   "metadata": {},
   "source": [
    "# <font color='darkblue'> --------------------.--------------------.--------------------.--------------------.--------------------.--------------------. </font>"
   ]
  },
  {
   "cell_type": "markdown",
   "metadata": {},
   "source": [
    "# <font color='blue'> D. PRUEBA (8 conjuntos de prueba - 8 modelos) </font>"
   ]
  },
  {
   "cell_type": "markdown",
   "metadata": {},
   "source": [
    "# <font color='darkblue'>-.-.-.-.-.-.-.-.-.-.-.-.-.-.-.-.-.-.-.-.-.-.-.-.-.-.-.-.-.-.-.-.-.-.-.-..-.-.-.-.-.-.-.-.-.-.-.-.-..-.-.-.-.-.-.-.-.-.-.-.-.-..-.-.-.-.-.-.-.-.-.-.-.-.-.-.-.-.- </font>"
   ]
  },
  {
   "cell_type": "markdown",
   "metadata": {},
   "source": [
    "## 1. Primera división: \n",
    "#### Prueba: fechaID=1 (mes julio) - y:ventas agosto"
   ]
  },
  {
   "cell_type": "code",
   "execution_count": 29,
   "metadata": {},
   "outputs": [],
   "source": [
    "#predicciones\n",
    "pred_1 = regr_1.predict(prueba_x_1) #1 min"
   ]
  },
  {
   "cell_type": "code",
   "execution_count": 30,
   "metadata": {},
   "outputs": [
    {
     "data": {
      "text/plain": [
       "56.48"
      ]
     },
     "execution_count": 30,
     "metadata": {},
     "output_type": "execute_result"
    }
   ],
   "source": [
    "max(pred_1)"
   ]
  },
  {
   "cell_type": "code",
   "execution_count": 31,
   "metadata": {},
   "outputs": [
    {
     "data": {
      "text/plain": [
       "0.0"
      ]
     },
     "execution_count": 31,
     "metadata": {},
     "output_type": "execute_result"
    }
   ],
   "source": [
    "min(pred_1)"
   ]
  },
  {
   "cell_type": "code",
   "execution_count": 32,
   "metadata": {},
   "outputs": [],
   "source": [
    "pred_1 = np.clip(pred_1,0,200)\n",
    "prediccion_1 = pd.DataFrame(pred_1, columns = ['ventas_por_mes_pred'])\n",
    "prediccion_1 = prediccion_1.round()"
   ]
  },
  {
   "cell_type": "code",
   "execution_count": 33,
   "metadata": {},
   "outputs": [
    {
     "data": {
      "text/plain": [
       "ventas_por_mes_pred    123362.0\n",
       "dtype: float64"
      ]
     },
     "execution_count": 33,
     "metadata": {},
     "output_type": "execute_result"
    }
   ],
   "source": [
    "prediccion_1.sum()"
   ]
  },
  {
   "cell_type": "code",
   "execution_count": 34,
   "metadata": {},
   "outputs": [],
   "source": [
    "prediccion_1 = prediccion_1.values"
   ]
  },
  {
   "cell_type": "code",
   "execution_count": 35,
   "metadata": {},
   "outputs": [],
   "source": [
    "prueba_1['ventas_por_mes_pred'] = prediccion_1"
   ]
  },
  {
   "cell_type": "code",
   "execution_count": 36,
   "metadata": {},
   "outputs": [
    {
     "name": "stdout",
     "output_type": "stream",
     "text": [
      "Mean Absolute Error: 0.134817\n",
      "Mean Squared Error: 0.457043\n",
      "R-squared scores: 0.43631\n"
     ]
    }
   ],
   "source": [
    "# Mean absolute error (MAE)\n",
    "mae_1_prueba= mean_absolute_error(prueba_1.variable_y_ventas_del_siguiente_mes, prueba_1.ventas_por_mes_pred)\n",
    "\n",
    "# Mean squared error (MSE)\n",
    "mse_1_prueba = mean_squared_error(prueba_1.variable_y_ventas_del_siguiente_mes, prueba_1.ventas_por_mes_pred)\n",
    "\n",
    "# R-squared scores\n",
    "r2_1_prueba = r2_score(prueba_1.variable_y_ventas_del_siguiente_mes, prueba_1.ventas_por_mes_pred)\n",
    "\n",
    "\n",
    "# Print metrics\n",
    "print('Mean Absolute Error:', round(mae_1_prueba, 6))\n",
    "print('Mean Squared Error:', round(mse_1_prueba, 6))\n",
    "print('R-squared scores:', round(r2_1_prueba, 6))\n"
   ]
  },
  {
   "cell_type": "markdown",
   "metadata": {},
   "source": [
    "# <font color='darkblue'>-.-.-.-.-.-.-.-.-.-.-.-.-.-.-.-.-.-.-.-.-.-.-.-.-.-.-.-.-.-.-.-.-.-.-.-..-.-.-.-.-.-.-.-.-.-.-.-.-..-.-.-.-.-.-.-.-.-.-.-.-.-..-.-.-.-.-.-.-.-.-.-.-.-.-.-.-.-.- </font>"
   ]
  },
  {
   "cell_type": "markdown",
   "metadata": {},
   "source": [
    "## 2. Segunda división: \n",
    "#### Prueba: fechaID=2 (mes Agosto) - y:ventas septiembre"
   ]
  },
  {
   "cell_type": "code",
   "execution_count": 54,
   "metadata": {},
   "outputs": [],
   "source": [
    "#predicciones\n",
    "pred_2 = regr_2.predict(prueba_x_2) #5:21"
   ]
  },
  {
   "cell_type": "code",
   "execution_count": 55,
   "metadata": {},
   "outputs": [
    {
     "data": {
      "text/plain": [
       "68.62"
      ]
     },
     "execution_count": 55,
     "metadata": {},
     "output_type": "execute_result"
    }
   ],
   "source": [
    "max(pred_2)"
   ]
  },
  {
   "cell_type": "code",
   "execution_count": 56,
   "metadata": {},
   "outputs": [
    {
     "data": {
      "text/plain": [
       "0.0"
      ]
     },
     "execution_count": 56,
     "metadata": {},
     "output_type": "execute_result"
    }
   ],
   "source": [
    "min(pred_2)"
   ]
  },
  {
   "cell_type": "code",
   "execution_count": 57,
   "metadata": {},
   "outputs": [],
   "source": [
    "pred_2 = np.clip(pred_2,0,200)\n",
    "prediccion_2 = pd.DataFrame(pred_2, columns = ['ventas_por_mes_pred'])\n",
    "prediccion_2 = prediccion_2.round()"
   ]
  },
  {
   "cell_type": "code",
   "execution_count": 58,
   "metadata": {},
   "outputs": [
    {
     "data": {
      "text/plain": [
       "ventas_por_mes_pred    120702.0\n",
       "dtype: float64"
      ]
     },
     "execution_count": 58,
     "metadata": {},
     "output_type": "execute_result"
    }
   ],
   "source": [
    "prediccion_2.sum()"
   ]
  },
  {
   "cell_type": "code",
   "execution_count": 59,
   "metadata": {},
   "outputs": [],
   "source": [
    "prediccion_2 = prediccion_2.values"
   ]
  },
  {
   "cell_type": "code",
   "execution_count": 60,
   "metadata": {},
   "outputs": [],
   "source": [
    "prueba_2['ventas_por_mes_pred'] = prediccion_2"
   ]
  },
  {
   "cell_type": "code",
   "execution_count": 61,
   "metadata": {},
   "outputs": [
    {
     "name": "stdout",
     "output_type": "stream",
     "text": [
      "Mean Absolute Error: 0.121601\n",
      "Mean Squared Error: 0.332171\n",
      "R-squared scores: 0.446231\n"
     ]
    }
   ],
   "source": [
    "# Mean absolute error (MAE)\n",
    "mae_2_prueba= mean_absolute_error(prueba_2.variable_y_ventas_del_siguiente_mes, prueba_2.ventas_por_mes_pred)\n",
    "\n",
    "# Mean squared error (MSE)\n",
    "mse_2_prueba = mean_squared_error(prueba_2.variable_y_ventas_del_siguiente_mes, prueba_2.ventas_por_mes_pred)\n",
    "\n",
    "# R-squared scores\n",
    "r2_2_prueba = r2_score(prueba_2.variable_y_ventas_del_siguiente_mes, prueba_2.ventas_por_mes_pred)\n",
    "\n",
    "\n",
    "# Print metrics\n",
    "print('Mean Absolute Error:', round(mae_2_prueba, 6))\n",
    "print('Mean Squared Error:', round(mse_2_prueba, 6))\n",
    "print('R-squared scores:', round(r2_2_prueba, 6))\n"
   ]
  },
  {
   "cell_type": "markdown",
   "metadata": {},
   "source": [
    "# <font color='darkblue'>-.-.-.-.-.-.-.-.-.-.-.-.-.-.-.-.-.-.-.-.-.-.-.-.-.-.-.-.-.-.-.-.-.-.-.-..-.-.-.-.-.-.-.-.-.-.-.-.-..-.-.-.-.-.-.-.-.-.-.-.-.-..-.-.-.-.-.-.-.-.-.-.-.-.-.-.-.-.- </font>"
   ]
  },
  {
   "cell_type": "markdown",
   "metadata": {},
   "source": [
    "## 3. Tercera división: \n",
    "#### Prueba: fechaID=3 (mes septiembre) - y:ventas octubre"
   ]
  },
  {
   "cell_type": "code",
   "execution_count": 79,
   "metadata": {},
   "outputs": [],
   "source": [
    "#predicciones\n",
    "pred_3 = regr_3.predict(prueba_x_3) #10:33"
   ]
  },
  {
   "cell_type": "code",
   "execution_count": 80,
   "metadata": {},
   "outputs": [
    {
     "data": {
      "text/plain": [
       "66.72"
      ]
     },
     "execution_count": 80,
     "metadata": {},
     "output_type": "execute_result"
    }
   ],
   "source": [
    "max(pred_3)"
   ]
  },
  {
   "cell_type": "code",
   "execution_count": 81,
   "metadata": {},
   "outputs": [
    {
     "data": {
      "text/plain": [
       "0.0"
      ]
     },
     "execution_count": 81,
     "metadata": {},
     "output_type": "execute_result"
    }
   ],
   "source": [
    "min(pred_3)"
   ]
  },
  {
   "cell_type": "code",
   "execution_count": 82,
   "metadata": {},
   "outputs": [],
   "source": [
    "pred_3 = np.clip(pred_3,0,200)\n",
    "prediccion_3 = pd.DataFrame(pred_3, columns = ['ventas_por_mes_pred'])\n",
    "prediccion_3 = prediccion_3.round()"
   ]
  },
  {
   "cell_type": "code",
   "execution_count": 83,
   "metadata": {},
   "outputs": [
    {
     "data": {
      "text/plain": [
       "ventas_por_mes_pred    98292.0\n",
       "dtype: float64"
      ]
     },
     "execution_count": 83,
     "metadata": {},
     "output_type": "execute_result"
    }
   ],
   "source": [
    "prediccion_3.sum()"
   ]
  },
  {
   "cell_type": "code",
   "execution_count": 84,
   "metadata": {},
   "outputs": [],
   "source": [
    "prediccion_3 = prediccion_3.values"
   ]
  },
  {
   "cell_type": "code",
   "execution_count": 86,
   "metadata": {},
   "outputs": [],
   "source": [
    "prueba_3['ventas_por_mes_pred'] = prediccion_3"
   ]
  },
  {
   "cell_type": "code",
   "execution_count": 87,
   "metadata": {},
   "outputs": [
    {
     "name": "stdout",
     "output_type": "stream",
     "text": [
      "Mean Absolute Error: 0.120359\n",
      "Mean Squared Error: 0.375159\n",
      "R-squared scores: 0.353355\n"
     ]
    }
   ],
   "source": [
    "# Mean absolute error (MAE)\n",
    "mae_3_prueba= mean_absolute_error(prueba_3.variable_y_ventas_del_siguiente_mes, prueba_3.ventas_por_mes_pred)\n",
    "\n",
    "# Mean squared error (MSE)\n",
    "mse_3_prueba = mean_squared_error(prueba_3.variable_y_ventas_del_siguiente_mes, prueba_3.ventas_por_mes_pred)\n",
    "\n",
    "# R-squared scores\n",
    "r2_3_prueba = r2_score(prueba_3.variable_y_ventas_del_siguiente_mes, prueba_3.ventas_por_mes_pred)\n",
    "\n",
    "\n",
    "# Print metrics\n",
    "print('Mean Absolute Error:', round(mae_3_prueba, 6))\n",
    "print('Mean Squared Error:', round(mse_3_prueba, 6))\n",
    "print('R-squared scores:', round(r2_3_prueba, 6))\n"
   ]
  },
  {
   "cell_type": "markdown",
   "metadata": {},
   "source": [
    "# <font color='darkblue'>-.-.-.-.-.-.-.-.-.-.-.-.-.-.-.-.-.-.-.-.-.-.-.-.-.-.-.-.-.-.-.-.-.-.-.-..-.-.-.-.-.-.-.-.-.-.-.-.-..-.-.-.-.-.-.-.-.-.-.-.-.-..-.-.-.-.-.-.-.-.-.-.-.-.-.-.-.-.- </font>"
   ]
  },
  {
   "cell_type": "markdown",
   "metadata": {},
   "source": [
    "## 4. Cuarta división: \n",
    "#### Prueba: fechaID=4 (mes octubre) - y:ventas noviembre"
   ]
  },
  {
   "cell_type": "code",
   "execution_count": 29,
   "metadata": {},
   "outputs": [],
   "source": [
    "#predicciones\n",
    "pred_4 = regr_4.predict(prueba_x_4) #10:42"
   ]
  },
  {
   "cell_type": "code",
   "execution_count": 30,
   "metadata": {},
   "outputs": [
    {
     "data": {
      "text/plain": [
       "36.09"
      ]
     },
     "execution_count": 30,
     "metadata": {},
     "output_type": "execute_result"
    }
   ],
   "source": [
    "max(pred_4)"
   ]
  },
  {
   "cell_type": "code",
   "execution_count": 31,
   "metadata": {},
   "outputs": [
    {
     "data": {
      "text/plain": [
       "0.0"
      ]
     },
     "execution_count": 31,
     "metadata": {},
     "output_type": "execute_result"
    }
   ],
   "source": [
    "min(pred_4)"
   ]
  },
  {
   "cell_type": "code",
   "execution_count": 32,
   "metadata": {},
   "outputs": [],
   "source": [
    "pred_4 = np.clip(pred_4,0,200)\n",
    "prediccion_4 = pd.DataFrame(pred_4, columns = ['ventas_por_mes_pred'])\n",
    "prediccion_4 = prediccion_4.round()"
   ]
  },
  {
   "cell_type": "code",
   "execution_count": 33,
   "metadata": {},
   "outputs": [
    {
     "data": {
      "text/plain": [
       "ventas_por_mes_pred    87556.0\n",
       "dtype: float64"
      ]
     },
     "execution_count": 33,
     "metadata": {},
     "output_type": "execute_result"
    }
   ],
   "source": [
    "prediccion_4.sum()"
   ]
  },
  {
   "cell_type": "code",
   "execution_count": 34,
   "metadata": {},
   "outputs": [],
   "source": [
    "prediccion_4 = prediccion_4.values"
   ]
  },
  {
   "cell_type": "code",
   "execution_count": 35,
   "metadata": {},
   "outputs": [],
   "source": [
    "prueba_4['ventas_por_mes_pred'] = prediccion_4"
   ]
  },
  {
   "cell_type": "code",
   "execution_count": 36,
   "metadata": {},
   "outputs": [
    {
     "name": "stdout",
     "output_type": "stream",
     "text": [
      "Mean Absolute Error: 0.134992\n",
      "Mean Squared Error: 0.488139\n",
      "R-squared scores: 0.386528\n"
     ]
    }
   ],
   "source": [
    "# Mean absolute error (MAE)\n",
    "mae_4_prueba= mean_absolute_error(prueba_4.variable_y_ventas_del_siguiente_mes, prueba_4.ventas_por_mes_pred)\n",
    "\n",
    "# Mean squared error (MSE)\n",
    "mse_4_prueba = mean_squared_error(prueba_4.variable_y_ventas_del_siguiente_mes, prueba_4.ventas_por_mes_pred)\n",
    "\n",
    "# R-squared scores\n",
    "r2_4_prueba = r2_score(prueba_4.variable_y_ventas_del_siguiente_mes, prueba_4.ventas_por_mes_pred)\n",
    "\n",
    "\n",
    "# Print metrics\n",
    "print('Mean Absolute Error:', round(mae_4_prueba, 6))\n",
    "print('Mean Squared Error:', round(mse_4_prueba, 6))\n",
    "print('R-squared scores:', round(r2_4_prueba, 6))\n"
   ]
  },
  {
   "cell_type": "markdown",
   "metadata": {},
   "source": [
    "# <font color='darkblue'>-.-.-.-.-.-.-.-.-.-.-.-.-.-.-.-.-.-.-.-.-.-.-.-.-.-.-.-.-.-.-.-.-.-.-.-..-.-.-.-.-.-.-.-.-.-.-.-.-..-.-.-.-.-.-.-.-.-.-.-.-.-..-.-.-.-.-.-.-.-.-.-.-.-.-.-.-.-.- </font>"
   ]
  },
  {
   "cell_type": "markdown",
   "metadata": {},
   "source": [
    "## 5. Quinta división: \n",
    "\n",
    "#### Prueba: fechaID= 5 (mes noviembre) - y:ventas diciembre"
   ]
  },
  {
   "cell_type": "code",
   "execution_count": 28,
   "metadata": {},
   "outputs": [],
   "source": [
    "#predicciones\n",
    "pred_5 = regr_5.predict(prueba_x_5) #11:02"
   ]
  },
  {
   "cell_type": "code",
   "execution_count": 29,
   "metadata": {},
   "outputs": [
    {
     "data": {
      "text/plain": [
       "54.01"
      ]
     },
     "execution_count": 29,
     "metadata": {},
     "output_type": "execute_result"
    }
   ],
   "source": [
    "max(pred_5)"
   ]
  },
  {
   "cell_type": "code",
   "execution_count": 30,
   "metadata": {},
   "outputs": [
    {
     "data": {
      "text/plain": [
       "0.0"
      ]
     },
     "execution_count": 30,
     "metadata": {},
     "output_type": "execute_result"
    }
   ],
   "source": [
    "min(pred_5)"
   ]
  },
  {
   "cell_type": "code",
   "execution_count": 31,
   "metadata": {},
   "outputs": [],
   "source": [
    "pred_5 = np.clip(pred_5,0,200)\n",
    "prediccion_5 = pd.DataFrame(pred_5, columns = ['ventas_por_mes_pred'])\n",
    "prediccion_5 = prediccion_5.round()"
   ]
  },
  {
   "cell_type": "code",
   "execution_count": 32,
   "metadata": {},
   "outputs": [
    {
     "data": {
      "text/plain": [
       "ventas_por_mes_pred    185403.0\n",
       "dtype: float64"
      ]
     },
     "execution_count": 32,
     "metadata": {},
     "output_type": "execute_result"
    }
   ],
   "source": [
    "prediccion_5.sum()"
   ]
  },
  {
   "cell_type": "code",
   "execution_count": 33,
   "metadata": {},
   "outputs": [],
   "source": [
    "prediccion_5 = prediccion_5.values"
   ]
  },
  {
   "cell_type": "code",
   "execution_count": 34,
   "metadata": {},
   "outputs": [],
   "source": [
    "prueba_5['ventas_por_mes_pred'] = prediccion_5"
   ]
  },
  {
   "cell_type": "code",
   "execution_count": 35,
   "metadata": {},
   "outputs": [
    {
     "name": "stdout",
     "output_type": "stream",
     "text": [
      "Mean Absolute Error: 0.213052\n",
      "Mean Squared Error: 0.892317\n",
      "R-squared scores: 0.000879\n"
     ]
    }
   ],
   "source": [
    "# Mean absolute error (MAE)\n",
    "mae_5_prueba= mean_absolute_error(prueba_5.variable_y_ventas_del_siguiente_mes, prueba_5.ventas_por_mes_pred)\n",
    "\n",
    "# Mean squared error (MSE)\n",
    "mse_5_prueba = mean_squared_error(prueba_5.variable_y_ventas_del_siguiente_mes, prueba_5.ventas_por_mes_pred)\n",
    "\n",
    "# R-squared scores\n",
    "r2_5_prueba = r2_score(prueba_5.variable_y_ventas_del_siguiente_mes, prueba_5.ventas_por_mes_pred)\n",
    "\n",
    "\n",
    "# Print metrics\n",
    "print('Mean Absolute Error:', round(mae_5_prueba, 6))\n",
    "print('Mean Squared Error:', round(mse_5_prueba, 6))\n",
    "print('R-squared scores:', round(r2_5_prueba, 6))"
   ]
  },
  {
   "cell_type": "markdown",
   "metadata": {},
   "source": [
    "# <font color='darkblue'>-.-.-.-.-.-.-.-.-.-.-.-.-.-.-.-.-.-.-.-.-.-.-.-.-.-.-.-.-.-.-.-.-.-.-.-..-.-.-.-.-.-.-.-.-.-.-.-.-..-.-.-.-.-.-.-.-.-.-.-.-.-..-.-.-.-.-.-.-.-.-.-.-.-.-.-.-.-.- </font>"
   ]
  },
  {
   "cell_type": "markdown",
   "metadata": {},
   "source": [
    "## 6. Sexta división: \n",
    "#### Prueba: fechaID=6 (mes diciembre) - y:ventas enero"
   ]
  },
  {
   "cell_type": "code",
   "execution_count": 28,
   "metadata": {},
   "outputs": [],
   "source": [
    "#predicciones\n",
    "pred_6 = regr_6.predict(prueba_x_6) #11:02"
   ]
  },
  {
   "cell_type": "code",
   "execution_count": 29,
   "metadata": {},
   "outputs": [
    {
     "data": {
      "text/plain": [
       "36.13"
      ]
     },
     "execution_count": 29,
     "metadata": {},
     "output_type": "execute_result"
    }
   ],
   "source": [
    "max(pred_6)"
   ]
  },
  {
   "cell_type": "code",
   "execution_count": 30,
   "metadata": {},
   "outputs": [
    {
     "data": {
      "text/plain": [
       "0.0"
      ]
     },
     "execution_count": 30,
     "metadata": {},
     "output_type": "execute_result"
    }
   ],
   "source": [
    "min(pred_6)"
   ]
  },
  {
   "cell_type": "code",
   "execution_count": 31,
   "metadata": {},
   "outputs": [],
   "source": [
    "pred_6 = np.clip(pred_6,0,200)\n",
    "prediccion_6 = pd.DataFrame(pred_6, columns = ['ventas_por_mes_pred'])\n",
    "prediccion_6 = prediccion_6.round()"
   ]
  },
  {
   "cell_type": "code",
   "execution_count": 32,
   "metadata": {},
   "outputs": [
    {
     "data": {
      "text/plain": [
       "ventas_por_mes_pred    154964.0\n",
       "dtype: float64"
      ]
     },
     "execution_count": 32,
     "metadata": {},
     "output_type": "execute_result"
    }
   ],
   "source": [
    "prediccion_6.sum()"
   ]
  },
  {
   "cell_type": "code",
   "execution_count": 33,
   "metadata": {},
   "outputs": [],
   "source": [
    "prediccion_6 = prediccion_6.values"
   ]
  },
  {
   "cell_type": "code",
   "execution_count": 34,
   "metadata": {},
   "outputs": [],
   "source": [
    "prueba_6['ventas_por_mes_pred'] = prediccion_6"
   ]
  },
  {
   "cell_type": "code",
   "execution_count": 35,
   "metadata": {},
   "outputs": [
    {
     "name": "stdout",
     "output_type": "stream",
     "text": [
      "Mean Absolute Error: 0.171851\n",
      "Mean Squared Error: 0.573246\n",
      "R-squared scores: -0.08038\n"
     ]
    }
   ],
   "source": [
    "# Mean absolute error (MAE)\n",
    "mae_6_prueba= mean_absolute_error(prueba_6.variable_y_ventas_del_siguiente_mes, prueba_6.ventas_por_mes_pred)\n",
    "\n",
    "# Mean squared error (MSE)\n",
    "mse_6_prueba = mean_squared_error(prueba_6.variable_y_ventas_del_siguiente_mes, prueba_6.ventas_por_mes_pred)\n",
    "\n",
    "# R-squared scores\n",
    "r2_6_prueba = r2_score(prueba_6.variable_y_ventas_del_siguiente_mes, prueba_6.ventas_por_mes_pred)\n",
    "\n",
    "\n",
    "# Print metrics\n",
    "print('Mean Absolute Error:', round(mae_6_prueba, 6))\n",
    "print('Mean Squared Error:', round(mse_6_prueba, 6))\n",
    "print('R-squared scores:', round(r2_6_prueba, 6))"
   ]
  },
  {
   "cell_type": "markdown",
   "metadata": {},
   "source": [
    "# <font color='darkblue'>-.-.-.-.-.-.-.-.-.-.-.-.-.-.-.-.-.-.-.-.-.-.-.-.-.-.-.-.-.-.-.-.-.-.-.-..-.-.-.-.-.-.-.-.-.-.-.-.-..-.-.-.-.-.-.-.-.-.-.-.-.-..-.-.-.-.-.-.-.-.-.-.-.-.-.-.-.-.- </font>"
   ]
  },
  {
   "cell_type": "markdown",
   "metadata": {},
   "source": [
    "## 7. Séptima división: \n",
    "\n",
    "#### Prueba: fechaID=7 (mes enero) - y:ventas febrero"
   ]
  },
  {
   "cell_type": "code",
   "execution_count": 28,
   "metadata": {},
   "outputs": [],
   "source": [
    "#predicciones\n",
    "pred_7 = regr_7.predict(prueba_x_7) #11:02"
   ]
  },
  {
   "cell_type": "code",
   "execution_count": 29,
   "metadata": {},
   "outputs": [
    {
     "data": {
      "text/plain": [
       "33.86"
      ]
     },
     "execution_count": 29,
     "metadata": {},
     "output_type": "execute_result"
    }
   ],
   "source": [
    "max(pred_7)"
   ]
  },
  {
   "cell_type": "code",
   "execution_count": 30,
   "metadata": {},
   "outputs": [
    {
     "data": {
      "text/plain": [
       "0.0"
      ]
     },
     "execution_count": 30,
     "metadata": {},
     "output_type": "execute_result"
    }
   ],
   "source": [
    "min(pred_7)"
   ]
  },
  {
   "cell_type": "code",
   "execution_count": 31,
   "metadata": {},
   "outputs": [],
   "source": [
    "pred_7 = np.clip(pred_7,0,200)\n",
    "prediccion_7 = pd.DataFrame(pred_7, columns = ['ventas_por_mes_pred'])\n",
    "prediccion_7 = prediccion_7.round()"
   ]
  },
  {
   "cell_type": "code",
   "execution_count": 32,
   "metadata": {},
   "outputs": [
    {
     "data": {
      "text/plain": [
       "ventas_por_mes_pred    96863.0\n",
       "dtype: float64"
      ]
     },
     "execution_count": 32,
     "metadata": {},
     "output_type": "execute_result"
    }
   ],
   "source": [
    "prediccion_7.sum()"
   ]
  },
  {
   "cell_type": "code",
   "execution_count": 33,
   "metadata": {},
   "outputs": [],
   "source": [
    "prediccion_7 = prediccion_7.values"
   ]
  },
  {
   "cell_type": "code",
   "execution_count": 34,
   "metadata": {},
   "outputs": [],
   "source": [
    "prueba_7['ventas_por_mes_pred'] = prediccion_7"
   ]
  },
  {
   "cell_type": "code",
   "execution_count": 35,
   "metadata": {},
   "outputs": [
    {
     "name": "stdout",
     "output_type": "stream",
     "text": [
      "Mean Absolute Error: 0.120704\n",
      "Mean Squared Error: 0.361442\n",
      "R-squared scores: 0.341974\n"
     ]
    }
   ],
   "source": [
    "# Mean absolute error (MAE)\n",
    "mae_7_prueba= mean_absolute_error(prueba_7.variable_y_ventas_del_siguiente_mes, prueba_7.ventas_por_mes_pred)\n",
    "\n",
    "# Mean squared error (MSE)\n",
    "mse_7_prueba = mean_squared_error(prueba_7.variable_y_ventas_del_siguiente_mes, prueba_7.ventas_por_mes_pred)\n",
    "\n",
    "# R-squared scores\n",
    "r2_7_prueba = r2_score(prueba_7.variable_y_ventas_del_siguiente_mes, prueba_7.ventas_por_mes_pred)\n",
    "\n",
    "\n",
    "# Print metrics\n",
    "print('Mean Absolute Error:', round(mae_7_prueba, 6))\n",
    "print('Mean Squared Error:', round(mse_7_prueba, 6))\n",
    "print('R-squared scores:', round(r2_7_prueba, 6))"
   ]
  },
  {
   "cell_type": "markdown",
   "metadata": {},
   "source": [
    "# <font color='darkblue'>-.-.-.-.-.-.-.-.-.-.-.-.-.-.-.-.-.-.-.-.-.-.-.-.-.-.-.-.-.-.-.-.-.-.-.-..-.-.-.-.-.-.-.-.-.-.-.-.-..-.-.-.-.-.-.-.-.-.-.-.-.-..-.-.-.-.-.-.-.-.-.-.-.-.-.-.-.-.- </font>"
   ]
  },
  {
   "cell_type": "markdown",
   "metadata": {},
   "source": [
    "## 8. Octava división: \n",
    "#### Prueba: fechaID=8(mes febrero) - y:ventas marzo"
   ]
  },
  {
   "cell_type": "code",
   "execution_count": 28,
   "metadata": {},
   "outputs": [],
   "source": [
    "#predicciones\n",
    "pred_8 = regr_8.predict(prueba_x_8) #11:02"
   ]
  },
  {
   "cell_type": "code",
   "execution_count": 29,
   "metadata": {},
   "outputs": [
    {
     "data": {
      "text/plain": [
       "46.58"
      ]
     },
     "execution_count": 29,
     "metadata": {},
     "output_type": "execute_result"
    }
   ],
   "source": [
    "max(pred_8)"
   ]
  },
  {
   "cell_type": "code",
   "execution_count": 30,
   "metadata": {},
   "outputs": [
    {
     "data": {
      "text/plain": [
       "0.0"
      ]
     },
     "execution_count": 30,
     "metadata": {},
     "output_type": "execute_result"
    }
   ],
   "source": [
    "min(pred_8)"
   ]
  },
  {
   "cell_type": "code",
   "execution_count": 31,
   "metadata": {},
   "outputs": [],
   "source": [
    "pred_8 = np.clip(pred_8,0,200)\n",
    "prediccion_8 = pd.DataFrame(pred_8, columns = ['ventas_por_mes_pred'])\n",
    "prediccion_8 = prediccion_8.round()"
   ]
  },
  {
   "cell_type": "code",
   "execution_count": 32,
   "metadata": {},
   "outputs": [
    {
     "data": {
      "text/plain": [
       "ventas_por_mes_pred    94530.0\n",
       "dtype: float64"
      ]
     },
     "execution_count": 32,
     "metadata": {},
     "output_type": "execute_result"
    }
   ],
   "source": [
    "prediccion_8.sum()"
   ]
  },
  {
   "cell_type": "code",
   "execution_count": 33,
   "metadata": {},
   "outputs": [],
   "source": [
    "prediccion_8 = prediccion_8.values"
   ]
  },
  {
   "cell_type": "code",
   "execution_count": 34,
   "metadata": {},
   "outputs": [],
   "source": [
    "prueba_8['ventas_por_mes_pred'] = prediccion_8"
   ]
  },
  {
   "cell_type": "code",
   "execution_count": 35,
   "metadata": {},
   "outputs": [
    {
     "name": "stdout",
     "output_type": "stream",
     "text": [
      "Mean Absolute Error: 0.106045\n",
      "Mean Squared Error: 0.308035\n",
      "R-squared scores: -0.166723\n"
     ]
    }
   ],
   "source": [
    "# Mean absolute error (MAE)\n",
    "mae_8_prueba= mean_absolute_error(prueba_8.variable_y_ventas_del_siguiente_mes, prueba_8.ventas_por_mes_pred)\n",
    "\n",
    "# Mean squared error (MSE)\n",
    "mse_8_prueba = mean_squared_error(prueba_8.variable_y_ventas_del_siguiente_mes, prueba_8.ventas_por_mes_pred)\n",
    "\n",
    "# R-squared scores\n",
    "r2_8_prueba = r2_score(prueba_8.variable_y_ventas_del_siguiente_mes, prueba_8.ventas_por_mes_pred)\n",
    "\n",
    "\n",
    "# Print metrics\n",
    "print('Mean Absolute Error:', round(mae_8_prueba, 6))\n",
    "print('Mean Squared Error:', round(mse_8_prueba, 6))\n",
    "print('R-squared scores:', round(r2_8_prueba, 6))"
   ]
  }
 ],
 "metadata": {
  "kernelspec": {
   "display_name": "Python 3",
   "language": "python",
   "name": "python3"
  },
  "language_info": {
   "codemirror_mode": {
    "name": "ipython",
    "version": 3
   },
   "file_extension": ".py",
   "mimetype": "text/x-python",
   "name": "python",
   "nbconvert_exporter": "python",
   "pygments_lexer": "ipython3",
   "version": "3.7.3"
  }
 },
 "nbformat": 4,
 "nbformat_minor": 1
}
